{
 "cells": [
  {
   "cell_type": "markdown",
   "id": "b42f9d6a",
   "metadata": {
    "papermill": {
     "duration": 0.005512,
     "end_time": "2023-06-19T00:48:24.965618",
     "exception": false,
     "start_time": "2023-06-19T00:48:24.960106",
     "status": "completed"
    },
    "tags": []
   },
   "source": [
    "### Imports"
   ]
  },
  {
   "cell_type": "code",
   "execution_count": 1,
   "id": "8f08d2c7",
   "metadata": {
    "_cell_guid": "b1076dfc-b9ad-4769-8c92-a6c4dae69d19",
    "_uuid": "8f2839f25d086af736a60e9eeb907d3b93b6e0e5",
    "execution": {
     "iopub.execute_input": "2023-06-19T00:48:24.977630Z",
     "iopub.status.busy": "2023-06-19T00:48:24.977103Z",
     "iopub.status.idle": "2023-06-19T00:48:27.691976Z",
     "shell.execute_reply": "2023-06-19T00:48:27.690432Z"
    },
    "papermill": {
     "duration": 2.723895,
     "end_time": "2023-06-19T00:48:27.694598",
     "exception": false,
     "start_time": "2023-06-19T00:48:24.970703",
     "status": "completed"
    },
    "tags": []
   },
   "outputs": [
    {
     "name": "stderr",
     "output_type": "stream",
     "text": [
      "/opt/conda/lib/python3.10/site-packages/scipy/__init__.py:146: UserWarning: A NumPy version >=1.16.5 and <1.23.0 is required for this version of SciPy (detected version 1.23.5\n",
      "  warnings.warn(f\"A NumPy version >={np_minversion} and <{np_maxversion}\"\n"
     ]
    }
   ],
   "source": [
    "import numpy as np\n",
    "import pandas as pd\n",
    "import matplotlib.pyplot as plt\n",
    "import seaborn as sns\n",
    "from tqdm.notebook import tqdm\n",
    "import math\n",
    "\n",
    "from sklearn.metrics import log_loss, make_scorer\n",
    "from sklearn.preprocessing import MinMaxScaler, StandardScaler\n",
    "from sklearn.model_selection import KFold, StratifiedKFold, StratifiedGroupKFold\n",
    "\n",
    "from lightgbm import LGBMClassifier\n",
    "\n",
    "import warnings\n",
    "warnings.filterwarnings(\"ignore\")"
   ]
  },
  {
   "cell_type": "markdown",
   "id": "4c1c9ad5",
   "metadata": {
    "papermill": {
     "duration": 0.004946,
     "end_time": "2023-06-19T00:48:27.705123",
     "exception": false,
     "start_time": "2023-06-19T00:48:27.700177",
     "status": "completed"
    },
    "tags": []
   },
   "source": [
    "### Data Prep"
   ]
  },
  {
   "cell_type": "code",
   "execution_count": 2,
   "id": "5fd4f734",
   "metadata": {
    "execution": {
     "iopub.execute_input": "2023-06-19T00:48:27.717771Z",
     "iopub.status.busy": "2023-06-19T00:48:27.716711Z",
     "iopub.status.idle": "2023-06-19T00:48:27.770654Z",
     "shell.execute_reply": "2023-06-19T00:48:27.769106Z"
    },
    "papermill": {
     "duration": 0.062974,
     "end_time": "2023-06-19T00:48:27.773208",
     "exception": false,
     "start_time": "2023-06-19T00:48:27.710234",
     "status": "completed"
    },
    "tags": []
   },
   "outputs": [],
   "source": [
    "COMP_PATH = \"/kaggle/input/icr-identify-age-related-conditions\"\n",
    "train = pd.read_csv(f\"{COMP_PATH}/train.csv\")\n",
    "test = pd.read_csv(f\"{COMP_PATH}/test.csv\")\n",
    "sample_submission = pd.read_csv(f\"{COMP_PATH}/sample_submission.csv\")\n",
    "greeks = pd.read_csv(f\"{COMP_PATH}/greeks.csv\")"
   ]
  },
  {
   "cell_type": "code",
   "execution_count": 3,
   "id": "335ba7a3",
   "metadata": {
    "execution": {
     "iopub.execute_input": "2023-06-19T00:48:27.785394Z",
     "iopub.status.busy": "2023-06-19T00:48:27.785032Z",
     "iopub.status.idle": "2023-06-19T00:48:27.833766Z",
     "shell.execute_reply": "2023-06-19T00:48:27.832250Z"
    },
    "papermill": {
     "duration": 0.058071,
     "end_time": "2023-06-19T00:48:27.836719",
     "exception": false,
     "start_time": "2023-06-19T00:48:27.778648",
     "status": "completed"
    },
    "tags": []
   },
   "outputs": [
    {
     "data": {
      "text/html": [
       "<div>\n",
       "<style scoped>\n",
       "    .dataframe tbody tr th:only-of-type {\n",
       "        vertical-align: middle;\n",
       "    }\n",
       "\n",
       "    .dataframe tbody tr th {\n",
       "        vertical-align: top;\n",
       "    }\n",
       "\n",
       "    .dataframe thead th {\n",
       "        text-align: right;\n",
       "    }\n",
       "</style>\n",
       "<table border=\"1\" class=\"dataframe\">\n",
       "  <thead>\n",
       "    <tr style=\"text-align: right;\">\n",
       "      <th></th>\n",
       "      <th>Id</th>\n",
       "      <th>AB</th>\n",
       "      <th>AF</th>\n",
       "      <th>AH</th>\n",
       "      <th>AM</th>\n",
       "      <th>AR</th>\n",
       "      <th>AX</th>\n",
       "      <th>AY</th>\n",
       "      <th>AZ</th>\n",
       "      <th>BC</th>\n",
       "      <th>...</th>\n",
       "      <th>FL</th>\n",
       "      <th>FR</th>\n",
       "      <th>FS</th>\n",
       "      <th>GB</th>\n",
       "      <th>GE</th>\n",
       "      <th>GF</th>\n",
       "      <th>GH</th>\n",
       "      <th>GI</th>\n",
       "      <th>GL</th>\n",
       "      <th>Class</th>\n",
       "    </tr>\n",
       "  </thead>\n",
       "  <tbody>\n",
       "    <tr>\n",
       "      <th>0</th>\n",
       "      <td>000ff2bfdfe9</td>\n",
       "      <td>0.209377</td>\n",
       "      <td>3109.03329</td>\n",
       "      <td>85.200147</td>\n",
       "      <td>22.394407</td>\n",
       "      <td>8.138688</td>\n",
       "      <td>0.699861</td>\n",
       "      <td>0.025578</td>\n",
       "      <td>9.812214</td>\n",
       "      <td>5.555634</td>\n",
       "      <td>...</td>\n",
       "      <td>7.298162</td>\n",
       "      <td>1.73855</td>\n",
       "      <td>0.094822</td>\n",
       "      <td>11.339138</td>\n",
       "      <td>72.611063</td>\n",
       "      <td>2003.810319</td>\n",
       "      <td>22.136229</td>\n",
       "      <td>69.834944</td>\n",
       "      <td>0.120343</td>\n",
       "      <td>1</td>\n",
       "    </tr>\n",
       "    <tr>\n",
       "      <th>1</th>\n",
       "      <td>007255e47698</td>\n",
       "      <td>0.145282</td>\n",
       "      <td>978.76416</td>\n",
       "      <td>85.200147</td>\n",
       "      <td>36.968889</td>\n",
       "      <td>8.138688</td>\n",
       "      <td>3.632190</td>\n",
       "      <td>0.025578</td>\n",
       "      <td>13.517790</td>\n",
       "      <td>1.229900</td>\n",
       "      <td>...</td>\n",
       "      <td>0.173229</td>\n",
       "      <td>0.49706</td>\n",
       "      <td>0.568932</td>\n",
       "      <td>9.292698</td>\n",
       "      <td>72.611063</td>\n",
       "      <td>27981.562750</td>\n",
       "      <td>29.135430</td>\n",
       "      <td>32.131996</td>\n",
       "      <td>21.978000</td>\n",
       "      <td>0</td>\n",
       "    </tr>\n",
       "    <tr>\n",
       "      <th>2</th>\n",
       "      <td>013f2bd269f5</td>\n",
       "      <td>0.470030</td>\n",
       "      <td>2635.10654</td>\n",
       "      <td>85.200147</td>\n",
       "      <td>32.360553</td>\n",
       "      <td>8.138688</td>\n",
       "      <td>6.732840</td>\n",
       "      <td>0.025578</td>\n",
       "      <td>12.824570</td>\n",
       "      <td>1.229900</td>\n",
       "      <td>...</td>\n",
       "      <td>7.709560</td>\n",
       "      <td>0.97556</td>\n",
       "      <td>1.198821</td>\n",
       "      <td>37.077772</td>\n",
       "      <td>88.609437</td>\n",
       "      <td>13676.957810</td>\n",
       "      <td>28.022851</td>\n",
       "      <td>35.192676</td>\n",
       "      <td>0.196941</td>\n",
       "      <td>0</td>\n",
       "    </tr>\n",
       "    <tr>\n",
       "      <th>3</th>\n",
       "      <td>043ac50845d5</td>\n",
       "      <td>0.252107</td>\n",
       "      <td>3819.65177</td>\n",
       "      <td>120.201618</td>\n",
       "      <td>77.112203</td>\n",
       "      <td>8.138688</td>\n",
       "      <td>3.685344</td>\n",
       "      <td>0.025578</td>\n",
       "      <td>11.053708</td>\n",
       "      <td>1.229900</td>\n",
       "      <td>...</td>\n",
       "      <td>6.122162</td>\n",
       "      <td>0.49706</td>\n",
       "      <td>0.284466</td>\n",
       "      <td>18.529584</td>\n",
       "      <td>82.416803</td>\n",
       "      <td>2094.262452</td>\n",
       "      <td>39.948656</td>\n",
       "      <td>90.493248</td>\n",
       "      <td>0.155829</td>\n",
       "      <td>0</td>\n",
       "    </tr>\n",
       "    <tr>\n",
       "      <th>4</th>\n",
       "      <td>044fb8a146ec</td>\n",
       "      <td>0.380297</td>\n",
       "      <td>3733.04844</td>\n",
       "      <td>85.200147</td>\n",
       "      <td>14.103738</td>\n",
       "      <td>8.138688</td>\n",
       "      <td>3.942255</td>\n",
       "      <td>0.054810</td>\n",
       "      <td>3.396778</td>\n",
       "      <td>102.151980</td>\n",
       "      <td>...</td>\n",
       "      <td>8.153058</td>\n",
       "      <td>48.50134</td>\n",
       "      <td>0.121914</td>\n",
       "      <td>16.408728</td>\n",
       "      <td>146.109943</td>\n",
       "      <td>8524.370502</td>\n",
       "      <td>45.381316</td>\n",
       "      <td>36.262628</td>\n",
       "      <td>0.096614</td>\n",
       "      <td>1</td>\n",
       "    </tr>\n",
       "  </tbody>\n",
       "</table>\n",
       "<p>5 rows × 58 columns</p>\n",
       "</div>"
      ],
      "text/plain": [
       "             Id        AB          AF          AH         AM        AR  \\\n",
       "0  000ff2bfdfe9  0.209377  3109.03329   85.200147  22.394407  8.138688   \n",
       "1  007255e47698  0.145282   978.76416   85.200147  36.968889  8.138688   \n",
       "2  013f2bd269f5  0.470030  2635.10654   85.200147  32.360553  8.138688   \n",
       "3  043ac50845d5  0.252107  3819.65177  120.201618  77.112203  8.138688   \n",
       "4  044fb8a146ec  0.380297  3733.04844   85.200147  14.103738  8.138688   \n",
       "\n",
       "         AX        AY         AZ          BC  ...        FL        FR  \\\n",
       "0  0.699861  0.025578   9.812214    5.555634  ...  7.298162   1.73855   \n",
       "1  3.632190  0.025578  13.517790    1.229900  ...  0.173229   0.49706   \n",
       "2  6.732840  0.025578  12.824570    1.229900  ...  7.709560   0.97556   \n",
       "3  3.685344  0.025578  11.053708    1.229900  ...  6.122162   0.49706   \n",
       "4  3.942255  0.054810   3.396778  102.151980  ...  8.153058  48.50134   \n",
       "\n",
       "         FS         GB          GE            GF         GH         GI  \\\n",
       "0  0.094822  11.339138   72.611063   2003.810319  22.136229  69.834944   \n",
       "1  0.568932   9.292698   72.611063  27981.562750  29.135430  32.131996   \n",
       "2  1.198821  37.077772   88.609437  13676.957810  28.022851  35.192676   \n",
       "3  0.284466  18.529584   82.416803   2094.262452  39.948656  90.493248   \n",
       "4  0.121914  16.408728  146.109943   8524.370502  45.381316  36.262628   \n",
       "\n",
       "          GL  Class  \n",
       "0   0.120343      1  \n",
       "1  21.978000      0  \n",
       "2   0.196941      0  \n",
       "3   0.155829      0  \n",
       "4   0.096614      1  \n",
       "\n",
       "[5 rows x 58 columns]"
      ]
     },
     "execution_count": 3,
     "metadata": {},
     "output_type": "execute_result"
    }
   ],
   "source": [
    "train.head()"
   ]
  },
  {
   "cell_type": "code",
   "execution_count": 4,
   "id": "61ac2786",
   "metadata": {
    "execution": {
     "iopub.execute_input": "2023-06-19T00:48:27.849165Z",
     "iopub.status.busy": "2023-06-19T00:48:27.848785Z",
     "iopub.status.idle": "2023-06-19T00:48:27.861138Z",
     "shell.execute_reply": "2023-06-19T00:48:27.859271Z"
    },
    "papermill": {
     "duration": 0.021556,
     "end_time": "2023-06-19T00:48:27.863880",
     "exception": false,
     "start_time": "2023-06-19T00:48:27.842324",
     "status": "completed"
    },
    "tags": []
   },
   "outputs": [
    {
     "name": "stdout",
     "output_type": "stream",
     "text": [
      "Columns with null or blank values:\n",
      "BQ\n",
      "CB\n",
      "CC\n",
      "DU\n",
      "EL\n",
      "FC\n",
      "FL\n",
      "FS\n",
      "GL\n"
     ]
    }
   ],
   "source": [
    "# Find columns with null or blank values\n",
    "null_or_blank_cols = train.columns[train.isnull().any() | (train == '').any()]\n",
    "# Print the columns\n",
    "print(\"Columns with null or blank values:\")\n",
    "for col in null_or_blank_cols:\n",
    "    print(col)"
   ]
  },
  {
   "cell_type": "code",
   "execution_count": 5,
   "id": "a449b77c",
   "metadata": {
    "execution": {
     "iopub.execute_input": "2023-06-19T00:48:27.877003Z",
     "iopub.status.busy": "2023-06-19T00:48:27.876434Z",
     "iopub.status.idle": "2023-06-19T00:48:27.885546Z",
     "shell.execute_reply": "2023-06-19T00:48:27.884327Z"
    },
    "papermill": {
     "duration": 0.017977,
     "end_time": "2023-06-19T00:48:27.887596",
     "exception": false,
     "start_time": "2023-06-19T00:48:27.869619",
     "status": "completed"
    },
    "tags": []
   },
   "outputs": [
    {
     "name": "stdout",
     "output_type": "stream",
     "text": [
      "Columns with null or blank values:\n"
     ]
    }
   ],
   "source": [
    "#same for test data frame\n",
    "null_or_blank_cols = test.columns[test.isnull().any() | (test == '').any()]\n",
    "print(\"Columns with null or blank values:\")\n",
    "for col in null_or_blank_cols:\n",
    "    print(col)"
   ]
  },
  {
   "cell_type": "code",
   "execution_count": 6,
   "id": "e981d3a7",
   "metadata": {
    "execution": {
     "iopub.execute_input": "2023-06-19T00:48:27.900530Z",
     "iopub.status.busy": "2023-06-19T00:48:27.900161Z",
     "iopub.status.idle": "2023-06-19T00:48:27.940191Z",
     "shell.execute_reply": "2023-06-19T00:48:27.939233Z"
    },
    "papermill": {
     "duration": 0.049082,
     "end_time": "2023-06-19T00:48:27.942450",
     "exception": false,
     "start_time": "2023-06-19T00:48:27.893368",
     "status": "completed"
    },
    "tags": []
   },
   "outputs": [],
   "source": [
    "# Calculate the median for each column\n",
    "medians = train.median()\n",
    "\n",
    "# Replace null or blank values with median\n",
    "train_filled = train.fillna(medians).replace('', medians)\n"
   ]
  },
  {
   "cell_type": "code",
   "execution_count": 7,
   "id": "2a6ef189",
   "metadata": {
    "execution": {
     "iopub.execute_input": "2023-06-19T00:48:27.955686Z",
     "iopub.status.busy": "2023-06-19T00:48:27.955329Z",
     "iopub.status.idle": "2023-06-19T00:48:27.965587Z",
     "shell.execute_reply": "2023-06-19T00:48:27.964261Z"
    },
    "papermill": {
     "duration": 0.019498,
     "end_time": "2023-06-19T00:48:27.967906",
     "exception": false,
     "start_time": "2023-06-19T00:48:27.948408",
     "status": "completed"
    },
    "tags": []
   },
   "outputs": [
    {
     "name": "stdout",
     "output_type": "stream",
     "text": [
      "Columns with null or blank values:\n"
     ]
    }
   ],
   "source": [
    "null_or_blank_cols = train_filled.columns[train_filled.isnull().any() | (train_filled == '').any()]\n",
    "# Print the columns\n",
    "print(\"Columns with null or blank values:\")\n",
    "for col in null_or_blank_cols:\n",
    "    print(col)"
   ]
  },
  {
   "cell_type": "code",
   "execution_count": 8,
   "id": "697e656c",
   "metadata": {
    "execution": {
     "iopub.execute_input": "2023-06-19T00:48:27.981200Z",
     "iopub.status.busy": "2023-06-19T00:48:27.980817Z",
     "iopub.status.idle": "2023-06-19T00:48:27.993051Z",
     "shell.execute_reply": "2023-06-19T00:48:27.991766Z"
    },
    "papermill": {
     "duration": 0.021829,
     "end_time": "2023-06-19T00:48:27.995590",
     "exception": false,
     "start_time": "2023-06-19T00:48:27.973761",
     "status": "completed"
    },
    "tags": []
   },
   "outputs": [
    {
     "data": {
      "text/plain": [
       "0    509\n",
       "1    108\n",
       "Name: Class, dtype: int64"
      ]
     },
     "execution_count": 8,
     "metadata": {},
     "output_type": "execute_result"
    }
   ],
   "source": [
    "#check for class imbalance\n",
    "train['Class'].value_counts() "
   ]
  },
  {
   "cell_type": "code",
   "execution_count": 9,
   "id": "25c1ffe4",
   "metadata": {
    "execution": {
     "iopub.execute_input": "2023-06-19T00:48:28.009144Z",
     "iopub.status.busy": "2023-06-19T00:48:28.008784Z",
     "iopub.status.idle": "2023-06-19T00:48:28.015478Z",
     "shell.execute_reply": "2023-06-19T00:48:28.014098Z"
    },
    "papermill": {
     "duration": 0.016264,
     "end_time": "2023-06-19T00:48:28.017840",
     "exception": false,
     "start_time": "2023-06-19T00:48:28.001576",
     "status": "completed"
    },
    "tags": []
   },
   "outputs": [
    {
     "name": "stdout",
     "output_type": "stream",
     "text": [
      "No of Columns: 58\n"
     ]
    }
   ],
   "source": [
    "cols = train.columns\n",
    "feat_cols = cols[1:]\n",
    "num_cols = train.select_dtypes(include=['float64']).columns\n",
    "print(\"No of Columns:\", len(cols))"
   ]
  },
  {
   "cell_type": "markdown",
   "id": "35c92ed6",
   "metadata": {
    "papermill": {
     "duration": 0.005542,
     "end_time": "2023-06-19T00:48:28.029360",
     "exception": false,
     "start_time": "2023-06-19T00:48:28.023818",
     "status": "completed"
    },
    "tags": []
   },
   "source": [
    "### Metric"
   ]
  },
  {
   "cell_type": "code",
   "execution_count": 10,
   "id": "4c1dcba0",
   "metadata": {
    "execution": {
     "iopub.execute_input": "2023-06-19T00:48:28.042604Z",
     "iopub.status.busy": "2023-06-19T00:48:28.042249Z",
     "iopub.status.idle": "2023-06-19T00:48:28.049579Z",
     "shell.execute_reply": "2023-06-19T00:48:28.048530Z"
    },
    "papermill": {
     "duration": 0.016899,
     "end_time": "2023-06-19T00:48:28.052122",
     "exception": false,
     "start_time": "2023-06-19T00:48:28.035223",
     "status": "completed"
    },
    "tags": []
   },
   "outputs": [],
   "source": [
    "def competition_log_loss(y_true, y_pred):\n",
    "    N_0 = np.sum(1 - y_true)\n",
    "    N_1 = np.sum(y_true)\n",
    "    p_1 = np.clip(y_pred, 1e-15, 1 - 1e-15)\n",
    "    p_0 = 1 - p_1\n",
    "    log_loss_0 = -np.sum((1 - y_true) * np.log(p_0)) / N_0\n",
    "    log_loss_1 = -np.sum(y_true * np.log(p_1)) / N_1\n",
    "    return (log_loss_0 + log_loss_1)/2\n",
    "\n",
    "def balanced_log_loss(y_true, y_pred):\n",
    "    N_0 = np.sum(1 - y_true)\n",
    "    N_1 = np.sum(y_true)\n",
    "    p_1 = np.clip(y_pred, 1e-15, 1 - 1e-15)\n",
    "    p_0 = 1 - p_1\n",
    "    log_loss_0 = -np.sum((1 - y_true) * np.log(p_0))\n",
    "    log_loss_1 = -np.sum(y_true * np.log(p_1))\n",
    "    w_0 = 1 / N_0\n",
    "    w_1 = 1 / N_1\n",
    "    balanced_log_loss = 2*(w_0 * log_loss_0 + w_1 * log_loss_1) / (w_0 + w_1)\n",
    "    return balanced_log_loss/(N_0+N_1)"
   ]
  },
  {
   "cell_type": "code",
   "execution_count": 11,
   "id": "9d939df8",
   "metadata": {
    "execution": {
     "iopub.execute_input": "2023-06-19T00:48:28.065714Z",
     "iopub.status.busy": "2023-06-19T00:48:28.065370Z",
     "iopub.status.idle": "2023-06-19T00:48:28.070705Z",
     "shell.execute_reply": "2023-06-19T00:48:28.069814Z"
    },
    "papermill": {
     "duration": 0.014574,
     "end_time": "2023-06-19T00:48:28.072808",
     "exception": false,
     "start_time": "2023-06-19T00:48:28.058234",
     "status": "completed"
    },
    "tags": []
   },
   "outputs": [],
   "source": [
    "def lgb_metric(y_true, y_pred):\n",
    "    return 'balanced_log_loss', balanced_log_loss(y_true, y_pred), False"
   ]
  },
  {
   "cell_type": "markdown",
   "id": "7d056d45",
   "metadata": {
    "papermill": {
     "duration": 0.00577,
     "end_time": "2023-06-19T00:48:28.085136",
     "exception": false,
     "start_time": "2023-06-19T00:48:28.079366",
     "status": "completed"
    },
    "tags": []
   },
   "source": [
    "### Feature Engineering"
   ]
  },
  {
   "cell_type": "code",
   "execution_count": 12,
   "id": "d133fda1",
   "metadata": {
    "execution": {
     "iopub.execute_input": "2023-06-19T00:48:28.097895Z",
     "iopub.status.busy": "2023-06-19T00:48:28.097532Z",
     "iopub.status.idle": "2023-06-19T00:48:28.108883Z",
     "shell.execute_reply": "2023-06-19T00:48:28.107818Z"
    },
    "papermill": {
     "duration": 0.020594,
     "end_time": "2023-06-19T00:48:28.111376",
     "exception": false,
     "start_time": "2023-06-19T00:48:28.090782",
     "status": "completed"
    },
    "tags": []
   },
   "outputs": [],
   "source": [
    "# Label encoding\n",
    "train['EJ'] = train['EJ'].map({'A': 0, 'B': 1})\n",
    "test['EJ']  = test['EJ'].map({'A': 0, 'B': 1})"
   ]
  },
  {
   "cell_type": "code",
   "execution_count": 13,
   "id": "1ca43298",
   "metadata": {
    "execution": {
     "iopub.execute_input": "2023-06-19T00:48:28.125048Z",
     "iopub.status.busy": "2023-06-19T00:48:28.124665Z",
     "iopub.status.idle": "2023-06-19T00:48:28.152064Z",
     "shell.execute_reply": "2023-06-19T00:48:28.150324Z"
    },
    "papermill": {
     "duration": 0.037053,
     "end_time": "2023-06-19T00:48:28.154498",
     "exception": false,
     "start_time": "2023-06-19T00:48:28.117445",
     "status": "completed"
    },
    "tags": []
   },
   "outputs": [],
   "source": [
    "scaler = StandardScaler()\n",
    "df, test_df = train.copy(), test.copy()\n",
    "new_num_cols = train.select_dtypes(include=['float64']).columns\n",
    "df[new_num_cols] = scaler.fit_transform(train[new_num_cols])\n",
    "test_df[new_num_cols] = scaler.transform(test[new_num_cols])"
   ]
  },
  {
   "cell_type": "code",
   "execution_count": 14,
   "id": "e8c50db7",
   "metadata": {
    "execution": {
     "iopub.execute_input": "2023-06-19T00:48:28.168512Z",
     "iopub.status.busy": "2023-06-19T00:48:28.168149Z",
     "iopub.status.idle": "2023-06-19T00:48:28.194216Z",
     "shell.execute_reply": "2023-06-19T00:48:28.193054Z"
    },
    "papermill": {
     "duration": 0.03537,
     "end_time": "2023-06-19T00:48:28.196005",
     "exception": false,
     "start_time": "2023-06-19T00:48:28.160635",
     "status": "completed"
    },
    "tags": []
   },
   "outputs": [
    {
     "data": {
      "text/html": [
       "<div>\n",
       "<style scoped>\n",
       "    .dataframe tbody tr th:only-of-type {\n",
       "        vertical-align: middle;\n",
       "    }\n",
       "\n",
       "    .dataframe tbody tr th {\n",
       "        vertical-align: top;\n",
       "    }\n",
       "\n",
       "    .dataframe thead th {\n",
       "        text-align: right;\n",
       "    }\n",
       "</style>\n",
       "<table border=\"1\" class=\"dataframe\">\n",
       "  <thead>\n",
       "    <tr style=\"text-align: right;\">\n",
       "      <th></th>\n",
       "      <th>Id</th>\n",
       "      <th>AB</th>\n",
       "      <th>AF</th>\n",
       "      <th>AH</th>\n",
       "      <th>AM</th>\n",
       "      <th>AR</th>\n",
       "      <th>AX</th>\n",
       "      <th>AY</th>\n",
       "      <th>AZ</th>\n",
       "      <th>BC</th>\n",
       "      <th>...</th>\n",
       "      <th>FL</th>\n",
       "      <th>FR</th>\n",
       "      <th>FS</th>\n",
       "      <th>GB</th>\n",
       "      <th>GE</th>\n",
       "      <th>GF</th>\n",
       "      <th>GH</th>\n",
       "      <th>GI</th>\n",
       "      <th>GL</th>\n",
       "      <th>Class</th>\n",
       "    </tr>\n",
       "  </thead>\n",
       "  <tbody>\n",
       "    <tr>\n",
       "      <th>0</th>\n",
       "      <td>000ff2bfdfe9</td>\n",
       "      <td>-0.572153</td>\n",
       "      <td>-0.170975</td>\n",
       "      <td>-0.261669</td>\n",
       "      <td>-0.237889</td>\n",
       "      <td>-0.189295</td>\n",
       "      <td>-1.900558</td>\n",
       "      <td>-0.083417</td>\n",
       "      <td>-0.173502</td>\n",
       "      <td>-0.038354</td>\n",
       "      <td>...</td>\n",
       "      <td>0.162355</td>\n",
       "      <td>-0.035806</td>\n",
       "      <td>-0.250462</td>\n",
       "      <td>-0.940094</td>\n",
       "      <td>-0.410260</td>\n",
       "      <td>-0.655511</td>\n",
       "      <td>-0.948991</td>\n",
       "      <td>0.531241</td>\n",
       "      <td>-0.815091</td>\n",
       "      <td>1</td>\n",
       "    </tr>\n",
       "    <tr>\n",
       "      <th>1</th>\n",
       "      <td>007255e47698</td>\n",
       "      <td>-0.709105</td>\n",
       "      <td>-1.097801</td>\n",
       "      <td>-0.261669</td>\n",
       "      <td>-0.028701</td>\n",
       "      <td>-0.189295</td>\n",
       "      <td>-0.750457</td>\n",
       "      <td>-0.083417</td>\n",
       "      <td>0.678919</td>\n",
       "      <td>-0.104787</td>\n",
       "      <td>...</td>\n",
       "      <td>-0.457909</td>\n",
       "      <td>-0.060566</td>\n",
       "      <td>0.113034</td>\n",
       "      <td>-1.145070</td>\n",
       "      <td>-0.410260</td>\n",
       "      <td>0.687893</td>\n",
       "      <td>-0.238862</td>\n",
       "      <td>-0.509218</td>\n",
       "      <td>1.303181</td>\n",
       "      <td>0</td>\n",
       "    </tr>\n",
       "    <tr>\n",
       "      <th>2</th>\n",
       "      <td>013f2bd269f5</td>\n",
       "      <td>-0.015212</td>\n",
       "      <td>-0.377169</td>\n",
       "      <td>-0.261669</td>\n",
       "      <td>-0.094845</td>\n",
       "      <td>-0.189295</td>\n",
       "      <td>0.465662</td>\n",
       "      <td>-0.083417</td>\n",
       "      <td>0.519453</td>\n",
       "      <td>-0.104787</td>\n",
       "      <td>...</td>\n",
       "      <td>0.198170</td>\n",
       "      <td>-0.051023</td>\n",
       "      <td>0.595966</td>\n",
       "      <td>1.637944</td>\n",
       "      <td>-0.299210</td>\n",
       "      <td>-0.051850</td>\n",
       "      <td>-0.351743</td>\n",
       "      <td>-0.424754</td>\n",
       "      <td>-0.807668</td>\n",
       "      <td>0</td>\n",
       "    </tr>\n",
       "    <tr>\n",
       "      <th>3</th>\n",
       "      <td>043ac50845d5</td>\n",
       "      <td>-0.480851</td>\n",
       "      <td>0.138196</td>\n",
       "      <td>0.012347</td>\n",
       "      <td>0.547477</td>\n",
       "      <td>-0.189295</td>\n",
       "      <td>-0.729610</td>\n",
       "      <td>-0.083417</td>\n",
       "      <td>0.112088</td>\n",
       "      <td>-0.104787</td>\n",
       "      <td>...</td>\n",
       "      <td>0.059978</td>\n",
       "      <td>-0.060566</td>\n",
       "      <td>-0.105064</td>\n",
       "      <td>-0.219883</td>\n",
       "      <td>-0.342195</td>\n",
       "      <td>-0.650833</td>\n",
       "      <td>0.858232</td>\n",
       "      <td>1.101332</td>\n",
       "      <td>-0.811652</td>\n",
       "      <td>0</td>\n",
       "    </tr>\n",
       "    <tr>\n",
       "      <th>4</th>\n",
       "      <td>044fb8a146ec</td>\n",
       "      <td>-0.206946</td>\n",
       "      <td>0.100517</td>\n",
       "      <td>-0.261669</td>\n",
       "      <td>-0.356885</td>\n",
       "      <td>-0.189295</td>\n",
       "      <td>-0.628845</td>\n",
       "      <td>-0.013229</td>\n",
       "      <td>-1.649292</td>\n",
       "      <td>1.445139</td>\n",
       "      <td>...</td>\n",
       "      <td>0.236779</td>\n",
       "      <td>0.896815</td>\n",
       "      <td>-0.229691</td>\n",
       "      <td>-0.432313</td>\n",
       "      <td>0.099920</td>\n",
       "      <td>-0.318309</td>\n",
       "      <td>1.409422</td>\n",
       "      <td>-0.395228</td>\n",
       "      <td>-0.817391</td>\n",
       "      <td>1</td>\n",
       "    </tr>\n",
       "  </tbody>\n",
       "</table>\n",
       "<p>5 rows × 58 columns</p>\n",
       "</div>"
      ],
      "text/plain": [
       "             Id        AB        AF        AH        AM        AR        AX  \\\n",
       "0  000ff2bfdfe9 -0.572153 -0.170975 -0.261669 -0.237889 -0.189295 -1.900558   \n",
       "1  007255e47698 -0.709105 -1.097801 -0.261669 -0.028701 -0.189295 -0.750457   \n",
       "2  013f2bd269f5 -0.015212 -0.377169 -0.261669 -0.094845 -0.189295  0.465662   \n",
       "3  043ac50845d5 -0.480851  0.138196  0.012347  0.547477 -0.189295 -0.729610   \n",
       "4  044fb8a146ec -0.206946  0.100517 -0.261669 -0.356885 -0.189295 -0.628845   \n",
       "\n",
       "         AY        AZ        BC  ...        FL        FR        FS        GB  \\\n",
       "0 -0.083417 -0.173502 -0.038354  ...  0.162355 -0.035806 -0.250462 -0.940094   \n",
       "1 -0.083417  0.678919 -0.104787  ... -0.457909 -0.060566  0.113034 -1.145070   \n",
       "2 -0.083417  0.519453 -0.104787  ...  0.198170 -0.051023  0.595966  1.637944   \n",
       "3 -0.083417  0.112088 -0.104787  ...  0.059978 -0.060566 -0.105064 -0.219883   \n",
       "4 -0.013229 -1.649292  1.445139  ...  0.236779  0.896815 -0.229691 -0.432313   \n",
       "\n",
       "         GE        GF        GH        GI        GL  Class  \n",
       "0 -0.410260 -0.655511 -0.948991  0.531241 -0.815091      1  \n",
       "1 -0.410260  0.687893 -0.238862 -0.509218  1.303181      0  \n",
       "2 -0.299210 -0.051850 -0.351743 -0.424754 -0.807668      0  \n",
       "3 -0.342195 -0.650833  0.858232  1.101332 -0.811652      0  \n",
       "4  0.099920 -0.318309  1.409422 -0.395228 -0.817391      1  \n",
       "\n",
       "[5 rows x 58 columns]"
      ]
     },
     "execution_count": 14,
     "metadata": {},
     "output_type": "execute_result"
    }
   ],
   "source": [
    "df.head()"
   ]
  },
  {
   "cell_type": "markdown",
   "id": "118cebc4",
   "metadata": {
    "papermill": {
     "duration": 0.005778,
     "end_time": "2023-06-19T00:48:28.207836",
     "exception": false,
     "start_time": "2023-06-19T00:48:28.202058",
     "status": "completed"
    },
    "tags": []
   },
   "source": [
    "### CV"
   ]
  },
  {
   "cell_type": "code",
   "execution_count": 15,
   "id": "2cf6d13d",
   "metadata": {
    "execution": {
     "iopub.execute_input": "2023-06-19T00:48:28.221350Z",
     "iopub.status.busy": "2023-06-19T00:48:28.220980Z",
     "iopub.status.idle": "2023-06-19T00:48:28.243438Z",
     "shell.execute_reply": "2023-06-19T00:48:28.242026Z"
    },
    "papermill": {
     "duration": 0.032176,
     "end_time": "2023-06-19T00:48:28.245850",
     "exception": false,
     "start_time": "2023-06-19T00:48:28.213674",
     "status": "completed"
    },
    "tags": []
   },
   "outputs": [
    {
     "data": {
      "text/plain": [
       "fold  Class\n",
       "0     0        101\n",
       "      1         23\n",
       "1     0        102\n",
       "      1         22\n",
       "2     0        102\n",
       "      1         21\n",
       "3     0        102\n",
       "      1         21\n",
       "4     0        102\n",
       "      1         21\n",
       "Name: Class, dtype: int64"
      ]
     },
     "execution_count": 15,
     "metadata": {},
     "output_type": "execute_result"
    }
   ],
   "source": [
    "kf = StratifiedKFold(n_splits=5, random_state=42, shuffle=True)\n",
    "df['fold'] = -1\n",
    "\n",
    "for fold, (train_idx, test_idx) in enumerate(kf.split(df, greeks['Alpha'])):\n",
    "    df.loc[test_idx, 'fold'] = fold\n",
    "\n",
    "df.groupby('fold')[\"Class\"].value_counts()"
   ]
  },
  {
   "cell_type": "markdown",
   "id": "ee835009",
   "metadata": {
    "papermill": {
     "duration": 0.006067,
     "end_time": "2023-06-19T00:48:28.258227",
     "exception": false,
     "start_time": "2023-06-19T00:48:28.252160",
     "status": "completed"
    },
    "tags": []
   },
   "source": [
    "### Training"
   ]
  },
  {
   "cell_type": "code",
   "execution_count": 16,
   "id": "c7d3ac40",
   "metadata": {
    "execution": {
     "iopub.execute_input": "2023-06-19T00:48:28.271900Z",
     "iopub.status.busy": "2023-06-19T00:48:28.271576Z",
     "iopub.status.idle": "2023-06-19T00:48:39.399973Z",
     "shell.execute_reply": "2023-06-19T00:48:39.398476Z"
    },
    "papermill": {
     "duration": 11.137782,
     "end_time": "2023-06-19T00:48:39.402165",
     "exception": false,
     "start_time": "2023-06-19T00:48:28.264383",
     "status": "completed"
    },
    "tags": []
   },
   "outputs": [
    {
     "name": "stdout",
     "output_type": "stream",
     "text": [
      "Fold: 0, log loss: 0.245, balanced los loss: 0.173\n",
      "Fold: 1, log loss: 0.197, balanced los loss: 0.142\n",
      "[1000]\tvalid_0's balanced_log_loss: 0.0226595\n",
      "Fold: 2, log loss: 0.03, balanced los loss: 0.022\n",
      "Fold: 3, log loss: 0.232, balanced los loss: 0.113\n",
      "Fold: 4, log loss: 0.222, balanced los loss: 0.14\n",
      "\n",
      "Log Loss\n",
      "[0.24456075168960273, 0.19748941802920092, 0.029779936681547672, 0.23195822376492026, 0.2223370900054482]\n",
      "0.18522508403414395 0.07924091937407356\n",
      "\n",
      "Balanced Log Loss\n",
      "[0.1728458319379688, 0.14168483203609303, 0.021574539415932473, 0.11277963933845107, 0.14002666540566525]\n",
      "0.11778230162682213 0.051728319496803246\n",
      "\n",
      "Weights\n",
      "[5.785502541703648, 7.057918519783814, 46.350931564338055, 8.866848713702707, 7.141496922053688]\n"
     ]
    }
   ],
   "source": [
    "final_valid_predictions = {}\n",
    "final_test_predictions = []\n",
    "scores = []\n",
    "log_losses = []\n",
    "balanced_log_losses = []\n",
    "weights = []\n",
    "\n",
    "for fold in range(5):\n",
    "    train_df = df[df['fold'] != fold]\n",
    "    valid_df = df[df['fold'] == fold]\n",
    "    valid_ids = valid_df.Id.values.tolist()\n",
    "\n",
    "    X_train, y_train = train_df.drop(['Id', 'Class', 'fold'], axis=1), train_df['Class']\n",
    "    X_valid, y_valid = valid_df.drop(['Id', 'Class', 'fold'], axis=1), valid_df['Class']\n",
    "    \n",
    "    lgb = LGBMClassifier(boosting_type='goss', learning_rate=0.06733232950390658, n_estimators = 50000, \n",
    "                         early_stopping_round = 300, random_state=42,\n",
    "                        subsample=0.6970532011679706,\n",
    "                        colsample_bytree=0.6055755840633003,\n",
    "                         class_weight='balanced',\n",
    "                         metric='none', is_unbalance=True, max_depth=8)\n",
    "    \n",
    "    lgb.fit(X_train, y_train, eval_set=(X_valid, y_valid), verbose=1000,\n",
    "            eval_metric=lgb_metric)\n",
    "    \n",
    "    y_pred = lgb.predict_proba(X_valid)\n",
    "    preds_test  = lgb.predict_proba(test_df.drop(['Id'], axis=1).values)\n",
    "    \n",
    "    final_test_predictions.append(preds_test)\n",
    "    final_valid_predictions.update(dict(zip(valid_ids, y_pred)))\n",
    "\n",
    "    logloss = log_loss(y_valid, y_pred)\n",
    "    balanced_logloss = balanced_log_loss(y_valid, y_pred[:, 1])\n",
    "    log_losses.append(logloss)\n",
    "    balanced_log_losses.append(balanced_logloss)\n",
    "    weights.append(1/balanced_logloss)\n",
    "    \n",
    "    print(f\"Fold: {fold}, log loss: {round(logloss, 3)}, balanced los loss: {round(balanced_logloss, 3)}\")\n",
    "\n",
    "print()\n",
    "print(\"Log Loss\")\n",
    "print(log_losses)\n",
    "print(np.mean(log_losses), np.std(log_losses))\n",
    "print()\n",
    "print(\"Balanced Log Loss\")\n",
    "print(balanced_log_losses)\n",
    "print(np.mean(balanced_log_losses), np.std(balanced_log_losses))\n",
    "print()\n",
    "print(\"Weights\")\n",
    "print(weights)"
   ]
  },
  {
   "cell_type": "code",
   "execution_count": 17,
   "id": "98ab794e",
   "metadata": {
    "execution": {
     "iopub.execute_input": "2023-06-19T00:48:39.418211Z",
     "iopub.status.busy": "2023-06-19T00:48:39.417821Z",
     "iopub.status.idle": "2023-06-19T00:48:39.426569Z",
     "shell.execute_reply": "2023-06-19T00:48:39.425833Z"
    },
    "papermill": {
     "duration": 0.018354,
     "end_time": "2023-06-19T00:48:39.428235",
     "exception": false,
     "start_time": "2023-06-19T00:48:39.409881",
     "status": "completed"
    },
    "tags": []
   },
   "outputs": [
    {
     "data": {
      "text/plain": [
       "array([[0.78349616, 0.21650384],\n",
       "       [0.78349616, 0.21650384],\n",
       "       [0.78349616, 0.21650384],\n",
       "       [0.78349616, 0.21650384],\n",
       "       [0.78349616, 0.21650384]])"
      ]
     },
     "execution_count": 17,
     "metadata": {},
     "output_type": "execute_result"
    }
   ],
   "source": [
    "test_preds = np.zeros((test_df.shape[0],2))\n",
    "for i in range(5):\n",
    "    test_preds[:, 0] += weights[i] * final_test_predictions[i][:, 0]\n",
    "    test_preds[:, 1] += weights[i] * final_test_predictions[i][:, 1]\n",
    "test_preds /= sum(weights)\n",
    "test_preds"
   ]
  },
  {
   "cell_type": "code",
   "execution_count": 18,
   "id": "77b355bf",
   "metadata": {
    "execution": {
     "iopub.execute_input": "2023-06-19T00:48:39.444360Z",
     "iopub.status.busy": "2023-06-19T00:48:39.442790Z",
     "iopub.status.idle": "2023-06-19T00:48:39.468845Z",
     "shell.execute_reply": "2023-06-19T00:48:39.467519Z"
    },
    "papermill": {
     "duration": 0.036641,
     "end_time": "2023-06-19T00:48:39.471510",
     "exception": false,
     "start_time": "2023-06-19T00:48:39.434869",
     "status": "completed"
    },
    "tags": []
   },
   "outputs": [
    {
     "data": {
      "text/html": [
       "<div>\n",
       "<style scoped>\n",
       "    .dataframe tbody tr th:only-of-type {\n",
       "        vertical-align: middle;\n",
       "    }\n",
       "\n",
       "    .dataframe tbody tr th {\n",
       "        vertical-align: top;\n",
       "    }\n",
       "\n",
       "    .dataframe thead th {\n",
       "        text-align: right;\n",
       "    }\n",
       "</style>\n",
       "<table border=\"1\" class=\"dataframe\">\n",
       "  <thead>\n",
       "    <tr style=\"text-align: right;\">\n",
       "      <th></th>\n",
       "      <th>Id</th>\n",
       "      <th>class_0</th>\n",
       "      <th>class_1</th>\n",
       "    </tr>\n",
       "  </thead>\n",
       "  <tbody>\n",
       "    <tr>\n",
       "      <th>0</th>\n",
       "      <td>00eed32682bb</td>\n",
       "      <td>0.783496</td>\n",
       "      <td>0.216504</td>\n",
       "    </tr>\n",
       "    <tr>\n",
       "      <th>1</th>\n",
       "      <td>010ebe33f668</td>\n",
       "      <td>0.783496</td>\n",
       "      <td>0.216504</td>\n",
       "    </tr>\n",
       "    <tr>\n",
       "      <th>2</th>\n",
       "      <td>02fa521e1838</td>\n",
       "      <td>0.783496</td>\n",
       "      <td>0.216504</td>\n",
       "    </tr>\n",
       "    <tr>\n",
       "      <th>3</th>\n",
       "      <td>040e15f562a2</td>\n",
       "      <td>0.783496</td>\n",
       "      <td>0.216504</td>\n",
       "    </tr>\n",
       "    <tr>\n",
       "      <th>4</th>\n",
       "      <td>046e85c7cc7f</td>\n",
       "      <td>0.783496</td>\n",
       "      <td>0.216504</td>\n",
       "    </tr>\n",
       "  </tbody>\n",
       "</table>\n",
       "</div>"
      ],
      "text/plain": [
       "             Id   class_0   class_1\n",
       "0  00eed32682bb  0.783496  0.216504\n",
       "1  010ebe33f668  0.783496  0.216504\n",
       "2  02fa521e1838  0.783496  0.216504\n",
       "3  040e15f562a2  0.783496  0.216504\n",
       "4  046e85c7cc7f  0.783496  0.216504"
      ]
     },
     "execution_count": 18,
     "metadata": {},
     "output_type": "execute_result"
    }
   ],
   "source": [
    "final_valid_predictions = pd.DataFrame.from_dict(final_valid_predictions, orient=\"index\").reset_index()\n",
    "final_valid_predictions.columns = ['Id', 'class_0', 'class_1']\n",
    "final_valid_predictions.to_csv(r\"oof.csv\", index=False)\n",
    "\n",
    "test_dict = {}\n",
    "test_dict.update(dict(zip(test.Id.values.tolist(), test_preds)))\n",
    "submission = pd.DataFrame.from_dict(test_dict, orient=\"index\").reset_index()\n",
    "submission.columns = ['Id', 'class_0', 'class_1']                       \n",
    "\n",
    "submission.to_csv(r\"submission.csv\", index=False)\n",
    "submission"
   ]
  },
  {
   "cell_type": "code",
   "execution_count": null,
   "id": "22216759",
   "metadata": {
    "papermill": {
     "duration": 0.006604,
     "end_time": "2023-06-19T00:48:39.485124",
     "exception": false,
     "start_time": "2023-06-19T00:48:39.478520",
     "status": "completed"
    },
    "tags": []
   },
   "outputs": [],
   "source": []
  }
 ],
 "metadata": {
  "kernelspec": {
   "display_name": "Python 3",
   "language": "python",
   "name": "python3"
  },
  "language_info": {
   "codemirror_mode": {
    "name": "ipython",
    "version": 3
   },
   "file_extension": ".py",
   "mimetype": "text/x-python",
   "name": "python",
   "nbconvert_exporter": "python",
   "pygments_lexer": "ipython3",
   "version": "3.10.10"
  },
  "papermill": {
   "default_parameters": {},
   "duration": 27.061067,
   "end_time": "2023-06-19T00:48:40.616314",
   "environment_variables": {},
   "exception": null,
   "input_path": "__notebook__.ipynb",
   "output_path": "__notebook__.ipynb",
   "parameters": {},
   "start_time": "2023-06-19T00:48:13.555247",
   "version": "2.4.0"
  }
 },
 "nbformat": 4,
 "nbformat_minor": 5
}
