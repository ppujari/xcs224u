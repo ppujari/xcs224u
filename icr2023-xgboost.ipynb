{
 "cells": [
  {
   "cell_type": "markdown",
   "id": "44d8fdab",
   "metadata": {
    "papermill": {
     "duration": 0.007538,
     "end_time": "2023-08-05T06:47:24.146128",
     "exception": false,
     "start_time": "2023-08-05T06:47:24.138590",
     "status": "completed"
    },
    "tags": []
   },
   "source": [
    "### Imports"
   ]
  },
  {
   "cell_type": "code",
   "execution_count": 1,
   "id": "d06bdee0",
   "metadata": {
    "_cell_guid": "b1076dfc-b9ad-4769-8c92-a6c4dae69d19",
    "_uuid": "8f2839f25d086af736a60e9eeb907d3b93b6e0e5",
    "execution": {
     "iopub.execute_input": "2023-08-05T06:47:24.162213Z",
     "iopub.status.busy": "2023-08-05T06:47:24.161571Z",
     "iopub.status.idle": "2023-08-05T06:47:26.956768Z",
     "shell.execute_reply": "2023-08-05T06:47:26.955573Z"
    },
    "papermill": {
     "duration": 2.806114,
     "end_time": "2023-08-05T06:47:26.959218",
     "exception": false,
     "start_time": "2023-08-05T06:47:24.153104",
     "status": "completed"
    },
    "tags": []
   },
   "outputs": [
    {
     "name": "stderr",
     "output_type": "stream",
     "text": [
      "/opt/conda/lib/python3.10/site-packages/scipy/__init__.py:146: UserWarning: A NumPy version >=1.16.5 and <1.23.0 is required for this version of SciPy (detected version 1.23.5\n",
      "  warnings.warn(f\"A NumPy version >={np_minversion} and <{np_maxversion}\"\n"
     ]
    }
   ],
   "source": [
    "import numpy as np\n",
    "import pandas as pd\n",
    "import matplotlib.pyplot as plt\n",
    "import seaborn as sns\n",
    "from tqdm.notebook import tqdm\n",
    "import math\n",
    "\n",
    "from sklearn.metrics import log_loss, make_scorer\n",
    "from sklearn.preprocessing import MinMaxScaler, StandardScaler\n",
    "from sklearn.model_selection import KFold, StratifiedKFold, StratifiedGroupKFold\n",
    "from sklearn.feature_selection import mutual_info_classif, SelectKBest, f_classif\n",
    "from lightgbm import LGBMClassifier\n",
    "\n",
    "import warnings\n",
    "warnings.filterwarnings(\"ignore\")\n"
   ]
  },
  {
   "cell_type": "markdown",
   "id": "3327f001",
   "metadata": {
    "papermill": {
     "duration": 0.007388,
     "end_time": "2023-08-05T06:47:26.974263",
     "exception": false,
     "start_time": "2023-08-05T06:47:26.966875",
     "status": "completed"
    },
    "tags": []
   },
   "source": [
    "### Data Prep"
   ]
  },
  {
   "cell_type": "code",
   "execution_count": 2,
   "id": "ba915087",
   "metadata": {
    "execution": {
     "iopub.execute_input": "2023-08-05T06:47:26.990843Z",
     "iopub.status.busy": "2023-08-05T06:47:26.990394Z",
     "iopub.status.idle": "2023-08-05T06:47:27.043496Z",
     "shell.execute_reply": "2023-08-05T06:47:27.042295Z"
    },
    "papermill": {
     "duration": 0.064375,
     "end_time": "2023-08-05T06:47:27.045878",
     "exception": false,
     "start_time": "2023-08-05T06:47:26.981503",
     "status": "completed"
    },
    "tags": []
   },
   "outputs": [],
   "source": [
    "COMP_PATH = \"/kaggle/input/icr-identify-age-related-conditions\"\n",
    "train = pd.read_csv(f\"{COMP_PATH}/train.csv\")\n",
    "test = pd.read_csv(f\"{COMP_PATH}/test.csv\")\n",
    "sample_submission = pd.read_csv(f\"{COMP_PATH}/sample_submission.csv\")\n",
    "greeks = pd.read_csv(f\"{COMP_PATH}/greeks.csv\")"
   ]
  },
  {
   "cell_type": "code",
   "execution_count": 3,
   "id": "669e58c3",
   "metadata": {
    "execution": {
     "iopub.execute_input": "2023-08-05T06:47:27.066010Z",
     "iopub.status.busy": "2023-08-05T06:47:27.065242Z",
     "iopub.status.idle": "2023-08-05T06:47:27.084599Z",
     "shell.execute_reply": "2023-08-05T06:47:27.083536Z"
    },
    "papermill": {
     "duration": 0.031891,
     "end_time": "2023-08-05T06:47:27.086907",
     "exception": false,
     "start_time": "2023-08-05T06:47:27.055016",
     "status": "completed"
    },
    "tags": []
   },
   "outputs": [],
   "source": [
    "# Label encoding\n",
    "train['EJ'] = train['EJ'].map({'A': 0, 'B': 1})\n",
    "test['EJ']  = test['EJ'].map({'A': 0, 'B': 1})"
   ]
  },
  {
   "cell_type": "code",
   "execution_count": 4,
   "id": "3b8e21f8",
   "metadata": {
    "execution": {
     "iopub.execute_input": "2023-08-05T06:47:27.103776Z",
     "iopub.status.busy": "2023-08-05T06:47:27.103099Z",
     "iopub.status.idle": "2023-08-05T06:47:27.126763Z",
     "shell.execute_reply": "2023-08-05T06:47:27.125981Z"
    },
    "papermill": {
     "duration": 0.035049,
     "end_time": "2023-08-05T06:47:27.129343",
     "exception": false,
     "start_time": "2023-08-05T06:47:27.094294",
     "status": "completed"
    },
    "tags": []
   },
   "outputs": [],
   "source": [
    "train = train.fillna(train.median())"
   ]
  },
  {
   "cell_type": "code",
   "execution_count": 5,
   "id": "0bf12ca7",
   "metadata": {
    "execution": {
     "iopub.execute_input": "2023-08-05T06:47:27.145638Z",
     "iopub.status.busy": "2023-08-05T06:47:27.145283Z",
     "iopub.status.idle": "2023-08-05T06:47:27.187990Z",
     "shell.execute_reply": "2023-08-05T06:47:27.187077Z"
    },
    "papermill": {
     "duration": 0.053159,
     "end_time": "2023-08-05T06:47:27.189948",
     "exception": false,
     "start_time": "2023-08-05T06:47:27.136789",
     "status": "completed"
    },
    "tags": []
   },
   "outputs": [
    {
     "data": {
      "text/html": [
       "<div>\n",
       "<style scoped>\n",
       "    .dataframe tbody tr th:only-of-type {\n",
       "        vertical-align: middle;\n",
       "    }\n",
       "\n",
       "    .dataframe tbody tr th {\n",
       "        vertical-align: top;\n",
       "    }\n",
       "\n",
       "    .dataframe thead th {\n",
       "        text-align: right;\n",
       "    }\n",
       "</style>\n",
       "<table border=\"1\" class=\"dataframe\">\n",
       "  <thead>\n",
       "    <tr style=\"text-align: right;\">\n",
       "      <th></th>\n",
       "      <th>Id</th>\n",
       "      <th>AB</th>\n",
       "      <th>AF</th>\n",
       "      <th>AH</th>\n",
       "      <th>AM</th>\n",
       "      <th>AR</th>\n",
       "      <th>AX</th>\n",
       "      <th>AY</th>\n",
       "      <th>AZ</th>\n",
       "      <th>BC</th>\n",
       "      <th>...</th>\n",
       "      <th>FL</th>\n",
       "      <th>FR</th>\n",
       "      <th>FS</th>\n",
       "      <th>GB</th>\n",
       "      <th>GE</th>\n",
       "      <th>GF</th>\n",
       "      <th>GH</th>\n",
       "      <th>GI</th>\n",
       "      <th>GL</th>\n",
       "      <th>Class</th>\n",
       "    </tr>\n",
       "  </thead>\n",
       "  <tbody>\n",
       "    <tr>\n",
       "      <th>611</th>\n",
       "      <td>fd1dd68d51b4</td>\n",
       "      <td>0.175193</td>\n",
       "      <td>2607.26686</td>\n",
       "      <td>85.200147</td>\n",
       "      <td>7.067354</td>\n",
       "      <td>8.138688</td>\n",
       "      <td>4.030845</td>\n",
       "      <td>0.025578</td>\n",
       "      <td>3.396778</td>\n",
       "      <td>1.229900</td>\n",
       "      <td>...</td>\n",
       "      <td>0.173229</td>\n",
       "      <td>1.89486</td>\n",
       "      <td>1.395238</td>\n",
       "      <td>16.911036</td>\n",
       "      <td>246.093155</td>\n",
       "      <td>10960.364830</td>\n",
       "      <td>38.380254</td>\n",
       "      <td>41.007968</td>\n",
       "      <td>21.978000</td>\n",
       "      <td>0</td>\n",
       "    </tr>\n",
       "    <tr>\n",
       "      <th>38</th>\n",
       "      <td>10aaf6adb652</td>\n",
       "      <td>0.397389</td>\n",
       "      <td>2451.22889</td>\n",
       "      <td>104.986995</td>\n",
       "      <td>67.852173</td>\n",
       "      <td>8.138688</td>\n",
       "      <td>7.539009</td>\n",
       "      <td>0.025578</td>\n",
       "      <td>12.793060</td>\n",
       "      <td>1.229900</td>\n",
       "      <td>...</td>\n",
       "      <td>4.226611</td>\n",
       "      <td>0.80591</td>\n",
       "      <td>1.246232</td>\n",
       "      <td>27.329276</td>\n",
       "      <td>94.408958</td>\n",
       "      <td>56896.666140</td>\n",
       "      <td>31.234074</td>\n",
       "      <td>21.921156</td>\n",
       "      <td>0.198000</td>\n",
       "      <td>0</td>\n",
       "    </tr>\n",
       "    <tr>\n",
       "      <th>384</th>\n",
       "      <td>94f28a9c879b</td>\n",
       "      <td>0.277745</td>\n",
       "      <td>1981.52988</td>\n",
       "      <td>85.200147</td>\n",
       "      <td>9.997116</td>\n",
       "      <td>13.466592</td>\n",
       "      <td>4.987617</td>\n",
       "      <td>0.077343</td>\n",
       "      <td>3.396778</td>\n",
       "      <td>4.772012</td>\n",
       "      <td>...</td>\n",
       "      <td>0.173229</td>\n",
       "      <td>1.29050</td>\n",
       "      <td>0.067730</td>\n",
       "      <td>16.101762</td>\n",
       "      <td>121.418913</td>\n",
       "      <td>5451.622380</td>\n",
       "      <td>22.519492</td>\n",
       "      <td>35.874256</td>\n",
       "      <td>21.978000</td>\n",
       "      <td>0</td>\n",
       "    </tr>\n",
       "    <tr>\n",
       "      <th>468</th>\n",
       "      <td>b9e388b48268</td>\n",
       "      <td>0.559763</td>\n",
       "      <td>3477.18184</td>\n",
       "      <td>85.200147</td>\n",
       "      <td>99.001799</td>\n",
       "      <td>8.138688</td>\n",
       "      <td>4.907886</td>\n",
       "      <td>0.049938</td>\n",
       "      <td>12.269994</td>\n",
       "      <td>12.847184</td>\n",
       "      <td>...</td>\n",
       "      <td>22.867930</td>\n",
       "      <td>1.11012</td>\n",
       "      <td>0.785668</td>\n",
       "      <td>30.268708</td>\n",
       "      <td>72.611063</td>\n",
       "      <td>9197.371638</td>\n",
       "      <td>44.149665</td>\n",
       "      <td>55.856124</td>\n",
       "      <td>0.073697</td>\n",
       "      <td>0</td>\n",
       "    </tr>\n",
       "    <tr>\n",
       "      <th>196</th>\n",
       "      <td>4bc8f3ea493a</td>\n",
       "      <td>0.611039</td>\n",
       "      <td>1614.33602</td>\n",
       "      <td>92.419908</td>\n",
       "      <td>35.751768</td>\n",
       "      <td>8.138688</td>\n",
       "      <td>6.679686</td>\n",
       "      <td>0.025578</td>\n",
       "      <td>8.129580</td>\n",
       "      <td>28.287700</td>\n",
       "      <td>...</td>\n",
       "      <td>5.192682</td>\n",
       "      <td>2.51111</td>\n",
       "      <td>0.711165</td>\n",
       "      <td>27.636242</td>\n",
       "      <td>120.939668</td>\n",
       "      <td>5159.734425</td>\n",
       "      <td>18.218016</td>\n",
       "      <td>18.276632</td>\n",
       "      <td>0.172565</td>\n",
       "      <td>0</td>\n",
       "    </tr>\n",
       "    <tr>\n",
       "      <th>543</th>\n",
       "      <td>dd3515028d71</td>\n",
       "      <td>0.363205</td>\n",
       "      <td>6776.09196</td>\n",
       "      <td>85.200147</td>\n",
       "      <td>15.026644</td>\n",
       "      <td>8.138688</td>\n",
       "      <td>6.839148</td>\n",
       "      <td>0.025578</td>\n",
       "      <td>10.852044</td>\n",
       "      <td>1.229900</td>\n",
       "      <td>...</td>\n",
       "      <td>4.072643</td>\n",
       "      <td>1.87659</td>\n",
       "      <td>0.304785</td>\n",
       "      <td>12.994894</td>\n",
       "      <td>72.611063</td>\n",
       "      <td>6171.724935</td>\n",
       "      <td>25.581875</td>\n",
       "      <td>52.394212</td>\n",
       "      <td>0.171346</td>\n",
       "      <td>0</td>\n",
       "    </tr>\n",
       "    <tr>\n",
       "      <th>368</th>\n",
       "      <td>8ead0a51d11c</td>\n",
       "      <td>0.767003</td>\n",
       "      <td>7205.59114</td>\n",
       "      <td>85.200147</td>\n",
       "      <td>25.147640</td>\n",
       "      <td>8.138688</td>\n",
       "      <td>4.110576</td>\n",
       "      <td>0.025578</td>\n",
       "      <td>3.396778</td>\n",
       "      <td>11.733246</td>\n",
       "      <td>...</td>\n",
       "      <td>21.765886</td>\n",
       "      <td>3.72505</td>\n",
       "      <td>0.067730</td>\n",
       "      <td>25.394460</td>\n",
       "      <td>72.611063</td>\n",
       "      <td>1260.860175</td>\n",
       "      <td>27.137253</td>\n",
       "      <td>13.232940</td>\n",
       "      <td>0.047864</td>\n",
       "      <td>1</td>\n",
       "    </tr>\n",
       "    <tr>\n",
       "      <th>346</th>\n",
       "      <td>88ceb24fa799</td>\n",
       "      <td>0.546944</td>\n",
       "      <td>2280.18208</td>\n",
       "      <td>85.200147</td>\n",
       "      <td>60.403888</td>\n",
       "      <td>8.138688</td>\n",
       "      <td>5.386272</td>\n",
       "      <td>0.025578</td>\n",
       "      <td>16.567958</td>\n",
       "      <td>1.229900</td>\n",
       "      <td>...</td>\n",
       "      <td>0.173229</td>\n",
       "      <td>0.69020</td>\n",
       "      <td>0.101595</td>\n",
       "      <td>23.227094</td>\n",
       "      <td>72.611063</td>\n",
       "      <td>27826.889360</td>\n",
       "      <td>33.046201</td>\n",
       "      <td>18.845044</td>\n",
       "      <td>21.978000</td>\n",
       "      <td>0</td>\n",
       "    </tr>\n",
       "    <tr>\n",
       "      <th>322</th>\n",
       "      <td>800c6b3239c6</td>\n",
       "      <td>1.320357</td>\n",
       "      <td>3837.40489</td>\n",
       "      <td>134.684685</td>\n",
       "      <td>47.238541</td>\n",
       "      <td>8.138688</td>\n",
       "      <td>12.783537</td>\n",
       "      <td>0.025578</td>\n",
       "      <td>17.897680</td>\n",
       "      <td>3.376954</td>\n",
       "      <td>...</td>\n",
       "      <td>7.370041</td>\n",
       "      <td>1.35314</td>\n",
       "      <td>1.381692</td>\n",
       "      <td>46.156524</td>\n",
       "      <td>72.611063</td>\n",
       "      <td>39625.522540</td>\n",
       "      <td>28.238669</td>\n",
       "      <td>44.860824</td>\n",
       "      <td>0.271385</td>\n",
       "      <td>0</td>\n",
       "    </tr>\n",
       "    <tr>\n",
       "      <th>16</th>\n",
       "      <td>094c0bd5ebe6</td>\n",
       "      <td>0.252107</td>\n",
       "      <td>5180.17214</td>\n",
       "      <td>85.200147</td>\n",
       "      <td>14.438214</td>\n",
       "      <td>8.138688</td>\n",
       "      <td>4.819296</td>\n",
       "      <td>0.184527</td>\n",
       "      <td>10.644078</td>\n",
       "      <td>8.707692</td>\n",
       "      <td>...</td>\n",
       "      <td>0.173229</td>\n",
       "      <td>0.72152</td>\n",
       "      <td>0.067730</td>\n",
       "      <td>13.701846</td>\n",
       "      <td>72.611063</td>\n",
       "      <td>37275.608540</td>\n",
       "      <td>44.343157</td>\n",
       "      <td>51.527448</td>\n",
       "      <td>21.978000</td>\n",
       "      <td>0</td>\n",
       "    </tr>\n",
       "  </tbody>\n",
       "</table>\n",
       "<p>10 rows × 58 columns</p>\n",
       "</div>"
      ],
      "text/plain": [
       "               Id        AB          AF          AH         AM         AR  \\\n",
       "611  fd1dd68d51b4  0.175193  2607.26686   85.200147   7.067354   8.138688   \n",
       "38   10aaf6adb652  0.397389  2451.22889  104.986995  67.852173   8.138688   \n",
       "384  94f28a9c879b  0.277745  1981.52988   85.200147   9.997116  13.466592   \n",
       "468  b9e388b48268  0.559763  3477.18184   85.200147  99.001799   8.138688   \n",
       "196  4bc8f3ea493a  0.611039  1614.33602   92.419908  35.751768   8.138688   \n",
       "543  dd3515028d71  0.363205  6776.09196   85.200147  15.026644   8.138688   \n",
       "368  8ead0a51d11c  0.767003  7205.59114   85.200147  25.147640   8.138688   \n",
       "346  88ceb24fa799  0.546944  2280.18208   85.200147  60.403888   8.138688   \n",
       "322  800c6b3239c6  1.320357  3837.40489  134.684685  47.238541   8.138688   \n",
       "16   094c0bd5ebe6  0.252107  5180.17214   85.200147  14.438214   8.138688   \n",
       "\n",
       "            AX        AY         AZ         BC  ...         FL       FR  \\\n",
       "611   4.030845  0.025578   3.396778   1.229900  ...   0.173229  1.89486   \n",
       "38    7.539009  0.025578  12.793060   1.229900  ...   4.226611  0.80591   \n",
       "384   4.987617  0.077343   3.396778   4.772012  ...   0.173229  1.29050   \n",
       "468   4.907886  0.049938  12.269994  12.847184  ...  22.867930  1.11012   \n",
       "196   6.679686  0.025578   8.129580  28.287700  ...   5.192682  2.51111   \n",
       "543   6.839148  0.025578  10.852044   1.229900  ...   4.072643  1.87659   \n",
       "368   4.110576  0.025578   3.396778  11.733246  ...  21.765886  3.72505   \n",
       "346   5.386272  0.025578  16.567958   1.229900  ...   0.173229  0.69020   \n",
       "322  12.783537  0.025578  17.897680   3.376954  ...   7.370041  1.35314   \n",
       "16    4.819296  0.184527  10.644078   8.707692  ...   0.173229  0.72152   \n",
       "\n",
       "           FS         GB          GE            GF         GH         GI  \\\n",
       "611  1.395238  16.911036  246.093155  10960.364830  38.380254  41.007968   \n",
       "38   1.246232  27.329276   94.408958  56896.666140  31.234074  21.921156   \n",
       "384  0.067730  16.101762  121.418913   5451.622380  22.519492  35.874256   \n",
       "468  0.785668  30.268708   72.611063   9197.371638  44.149665  55.856124   \n",
       "196  0.711165  27.636242  120.939668   5159.734425  18.218016  18.276632   \n",
       "543  0.304785  12.994894   72.611063   6171.724935  25.581875  52.394212   \n",
       "368  0.067730  25.394460   72.611063   1260.860175  27.137253  13.232940   \n",
       "346  0.101595  23.227094   72.611063  27826.889360  33.046201  18.845044   \n",
       "322  1.381692  46.156524   72.611063  39625.522540  28.238669  44.860824   \n",
       "16   0.067730  13.701846   72.611063  37275.608540  44.343157  51.527448   \n",
       "\n",
       "            GL  Class  \n",
       "611  21.978000      0  \n",
       "38    0.198000      0  \n",
       "384  21.978000      0  \n",
       "468   0.073697      0  \n",
       "196   0.172565      0  \n",
       "543   0.171346      0  \n",
       "368   0.047864      1  \n",
       "346  21.978000      0  \n",
       "322   0.271385      0  \n",
       "16   21.978000      0  \n",
       "\n",
       "[10 rows x 58 columns]"
      ]
     },
     "execution_count": 5,
     "metadata": {},
     "output_type": "execute_result"
    }
   ],
   "source": [
    "train.sample(10)"
   ]
  },
  {
   "cell_type": "code",
   "execution_count": 6,
   "id": "074eee61",
   "metadata": {
    "execution": {
     "iopub.execute_input": "2023-08-05T06:47:27.207039Z",
     "iopub.status.busy": "2023-08-05T06:47:27.206472Z",
     "iopub.status.idle": "2023-08-05T06:47:27.211391Z",
     "shell.execute_reply": "2023-08-05T06:47:27.210557Z"
    },
    "papermill": {
     "duration": 0.015481,
     "end_time": "2023-08-05T06:47:27.213199",
     "exception": false,
     "start_time": "2023-08-05T06:47:27.197718",
     "status": "completed"
    },
    "tags": []
   },
   "outputs": [
    {
     "name": "stdout",
     "output_type": "stream",
     "text": [
      "(617, 58)\n",
      "(5, 57)\n"
     ]
    }
   ],
   "source": [
    "print(train.shape)\n",
    "print(test.shape)"
   ]
  },
  {
   "cell_type": "code",
   "execution_count": 7,
   "id": "d7180262",
   "metadata": {
    "execution": {
     "iopub.execute_input": "2023-08-05T06:47:27.229818Z",
     "iopub.status.busy": "2023-08-05T06:47:27.229405Z",
     "iopub.status.idle": "2023-08-05T06:47:27.242111Z",
     "shell.execute_reply": "2023-08-05T06:47:27.240999Z"
    },
    "papermill": {
     "duration": 0.023717,
     "end_time": "2023-08-05T06:47:27.244399",
     "exception": false,
     "start_time": "2023-08-05T06:47:27.220682",
     "status": "completed"
    },
    "tags": []
   },
   "outputs": [
    {
     "name": "stdout",
     "output_type": "stream",
     "text": [
      "Columns with null or blank values:\n"
     ]
    }
   ],
   "source": [
    "# Find columns with null or blank values\n",
    "null_or_blank_cols = train.columns[train.isnull().any() | (train == '').any()]\n",
    "# Print the columns\n",
    "print(\"Columns with null or blank values:\")\n",
    "for col in null_or_blank_cols:\n",
    "    print(col)"
   ]
  },
  {
   "cell_type": "code",
   "execution_count": 8,
   "id": "dc0a0c05",
   "metadata": {
    "execution": {
     "iopub.execute_input": "2023-08-05T06:47:27.262098Z",
     "iopub.status.busy": "2023-08-05T06:47:27.261515Z",
     "iopub.status.idle": "2023-08-05T06:47:27.270352Z",
     "shell.execute_reply": "2023-08-05T06:47:27.267950Z"
    },
    "papermill": {
     "duration": 0.020491,
     "end_time": "2023-08-05T06:47:27.272785",
     "exception": false,
     "start_time": "2023-08-05T06:47:27.252294",
     "status": "completed"
    },
    "tags": []
   },
   "outputs": [
    {
     "name": "stdout",
     "output_type": "stream",
     "text": [
      "Columns with null or blank values:\n"
     ]
    }
   ],
   "source": [
    "#same for test data frame\n",
    "null_or_blank_cols = test.columns[test.isnull().any() | (test == '').any()]\n",
    "print(\"Columns with null or blank values:\")\n",
    "for col in null_or_blank_cols:\n",
    "    print(col)"
   ]
  },
  {
   "cell_type": "code",
   "execution_count": 9,
   "id": "6ed71c6c",
   "metadata": {
    "execution": {
     "iopub.execute_input": "2023-08-05T06:47:27.291887Z",
     "iopub.status.busy": "2023-08-05T06:47:27.291478Z",
     "iopub.status.idle": "2023-08-05T06:47:27.302573Z",
     "shell.execute_reply": "2023-08-05T06:47:27.300841Z"
    },
    "papermill": {
     "duration": 0.02394,
     "end_time": "2023-08-05T06:47:27.305096",
     "exception": false,
     "start_time": "2023-08-05T06:47:27.281156",
     "status": "completed"
    },
    "tags": []
   },
   "outputs": [
    {
     "data": {
      "text/plain": [
       "0    509\n",
       "1    108\n",
       "Name: Class, dtype: int64"
      ]
     },
     "execution_count": 9,
     "metadata": {},
     "output_type": "execute_result"
    }
   ],
   "source": [
    "#check for class imbalance\n",
    "train['Class'].value_counts() "
   ]
  },
  {
   "cell_type": "code",
   "execution_count": 10,
   "id": "04a54326",
   "metadata": {
    "execution": {
     "iopub.execute_input": "2023-08-05T06:47:27.323150Z",
     "iopub.status.busy": "2023-08-05T06:47:27.322770Z",
     "iopub.status.idle": "2023-08-05T06:47:27.331455Z",
     "shell.execute_reply": "2023-08-05T06:47:27.329367Z"
    },
    "papermill": {
     "duration": 0.020852,
     "end_time": "2023-08-05T06:47:27.333953",
     "exception": false,
     "start_time": "2023-08-05T06:47:27.313101",
     "status": "completed"
    },
    "tags": []
   },
   "outputs": [
    {
     "name": "stdout",
     "output_type": "stream",
     "text": [
      "No of Columns: 58\n",
      "Index(['AB', 'AF', 'AH', 'AM', 'AR', 'AX', 'AY', 'AZ', 'BC', 'BD ', 'BN', 'BP',\n",
      "       'BQ', 'BR', 'BZ', 'CB', 'CC', 'CD ', 'CF', 'CH', 'CL', 'CR', 'CS', 'CU',\n",
      "       'CW ', 'DA', 'DE', 'DF', 'DH', 'DI', 'DL', 'DN', 'DU', 'DV', 'DY', 'EB',\n",
      "       'EE', 'EG', 'EH', 'EJ', 'EL', 'EP', 'EU', 'FC', 'FD ', 'FE', 'FI', 'FL',\n",
      "       'FR', 'FS', 'GB', 'GE', 'GF', 'GH', 'GI', 'GL', 'Class'],\n",
      "      dtype='object')\n",
      "Index(['AB', 'AF', 'AH', 'AM', 'AR', 'AX', 'AY', 'AZ', 'BC', 'BD ', 'BN', 'BP',\n",
      "       'BQ', 'BR', 'BZ', 'CB', 'CC', 'CD ', 'CF', 'CH', 'CL', 'CR', 'CS', 'CU',\n",
      "       'CW ', 'DA', 'DE', 'DF', 'DH', 'DI', 'DL', 'DN', 'DU', 'DV', 'DY', 'EB',\n",
      "       'EE', 'EG', 'EH', 'EL', 'EP', 'EU', 'FC', 'FD ', 'FE', 'FI', 'FL', 'FR',\n",
      "       'FS', 'GB', 'GE', 'GF', 'GH', 'GI', 'GL'],\n",
      "      dtype='object')\n"
     ]
    }
   ],
   "source": [
    "cols = train.columns\n",
    "feat_cols = cols[1:]\n",
    "num_cols = train.select_dtypes(include=['float64']).columns\n",
    "print(\"No of Columns:\", len(cols))\n",
    "print(feat_cols)\n",
    "print(num_cols)"
   ]
  },
  {
   "cell_type": "markdown",
   "id": "141d6936",
   "metadata": {
    "papermill": {
     "duration": 0.008798,
     "end_time": "2023-08-05T06:47:27.351143",
     "exception": false,
     "start_time": "2023-08-05T06:47:27.342345",
     "status": "completed"
    },
    "tags": []
   },
   "source": [
    "**Mutual Information**  \n",
    "Mutual information describes relationships in terms of uncertainty. The mutual information (MI) between two quantities is a measure of the extent to which knowledge of one quantity reduces uncertainty about the other. If you knew the value of a feature, how much more confident would you be about the target? MI can't detect interactions between features. It is a univariate metric."
   ]
  },
  {
   "cell_type": "code",
   "execution_count": 11,
   "id": "c069a9e2",
   "metadata": {
    "execution": {
     "iopub.execute_input": "2023-08-05T06:47:27.370547Z",
     "iopub.status.busy": "2023-08-05T06:47:27.370175Z",
     "iopub.status.idle": "2023-08-05T06:47:27.382191Z",
     "shell.execute_reply": "2023-08-05T06:47:27.380309Z"
    },
    "papermill": {
     "duration": 0.025461,
     "end_time": "2023-08-05T06:47:27.384857",
     "exception": false,
     "start_time": "2023-08-05T06:47:27.359396",
     "status": "completed"
    },
    "tags": []
   },
   "outputs": [
    {
     "name": "stdout",
     "output_type": "stream",
     "text": [
      "False\n"
     ]
    }
   ],
   "source": [
    "X = train[feat_cols].copy()\n",
    "X = X.dropna()\n",
    "y = X.pop(\"Class\")\n",
    "# All discrete features should now have integer dtypes (double-check this before using MI!)\n",
    "discrete_features = X.dtypes == int\n",
    "contains_nan = X.isna().any().any()\n",
    "print(contains_nan)"
   ]
  },
  {
   "cell_type": "code",
   "execution_count": 12,
   "id": "bedc9ebd",
   "metadata": {
    "execution": {
     "iopub.execute_input": "2023-08-05T06:47:27.403705Z",
     "iopub.status.busy": "2023-08-05T06:47:27.403284Z",
     "iopub.status.idle": "2023-08-05T06:47:27.603619Z",
     "shell.execute_reply": "2023-08-05T06:47:27.602112Z"
    },
    "papermill": {
     "duration": 0.213354,
     "end_time": "2023-08-05T06:47:27.606776",
     "exception": false,
     "start_time": "2023-08-05T06:47:27.393422",
     "status": "completed"
    },
    "tags": []
   },
   "outputs": [
    {
     "data": {
      "text/plain": [
       "DU     0.095296\n",
       "FL     0.068890\n",
       "GL     0.068445\n",
       "AF     0.057325\n",
       "DI     0.053739\n",
       "BQ     0.053245\n",
       "CC     0.049784\n",
       "DA     0.048572\n",
       "BC     0.047681\n",
       "AB     0.044820\n",
       "CR     0.037245\n",
       "GH     0.034289\n",
       "FR     0.034228\n",
       "AM     0.033825\n",
       "FD     0.032967\n",
       "BN     0.032450\n",
       "EE     0.028709\n",
       "DF     0.027922\n",
       "EB     0.026831\n",
       "FE     0.025350\n",
       "EH     0.025267\n",
       "FC     0.025099\n",
       "DE     0.024545\n",
       "GF     0.024123\n",
       "AR     0.023750\n",
       "BP     0.021693\n",
       "EU     0.021500\n",
       "AX     0.021302\n",
       "CF     0.020426\n",
       "CD     0.019294\n",
       "FI     0.017848\n",
       "GE     0.013912\n",
       "BR     0.010705\n",
       "DH     0.007078\n",
       "BZ     0.006297\n",
       "GI     0.005341\n",
       "EJ     0.004850\n",
       "CS     0.004393\n",
       "CW     0.004351\n",
       "AY     0.001739\n",
       "EP     0.001081\n",
       "EG     0.001053\n",
       "AH     0.000746\n",
       "AZ     0.000348\n",
       "BD     0.000166\n",
       "DY     0.000000\n",
       "FS     0.000000\n",
       "CB     0.000000\n",
       "GB     0.000000\n",
       "CL     0.000000\n",
       "CH     0.000000\n",
       "DN     0.000000\n",
       "CU     0.000000\n",
       "EL     0.000000\n",
       "DL     0.000000\n",
       "DV     0.000000\n",
       "Name: MI Scores, dtype: float64"
      ]
     },
     "execution_count": 12,
     "metadata": {},
     "output_type": "execute_result"
    }
   ],
   "source": [
    "def make_mi_scores(X, y, discrete_features):\n",
    "    mi_scores = mutual_info_classif(X, y, discrete_features=discrete_features)\n",
    "    mi_scores = pd.Series(mi_scores, name=\"MI Scores\", index=X.columns)\n",
    "    mi_scores = mi_scores.sort_values(ascending=False)\n",
    "    return mi_scores\n",
    "\n",
    "mi_scores = make_mi_scores(X, y, discrete_features)\n",
    "mi_scores[::1]  # show a few features with their MI scores"
   ]
  },
  {
   "cell_type": "code",
   "execution_count": 13,
   "id": "202363d6",
   "metadata": {
    "execution": {
     "iopub.execute_input": "2023-08-05T06:47:27.625462Z",
     "iopub.status.busy": "2023-08-05T06:47:27.625123Z",
     "iopub.status.idle": "2023-08-05T06:47:28.985329Z",
     "shell.execute_reply": "2023-08-05T06:47:28.984241Z"
    },
    "papermill": {
     "duration": 1.372152,
     "end_time": "2023-08-05T06:47:28.987322",
     "exception": false,
     "start_time": "2023-08-05T06:47:27.615170",
     "status": "completed"
    },
    "tags": []
   },
   "outputs": [
    {
     "data": {
      "image/png": "[encoded data removed]",
      "text/plain": [
       "<Figure size 4000x2500 with 1 Axes>"
      ]
     },
     "metadata": {},
     "output_type": "display_data"
    }
   ],
   "source": [
    "def plot_mi_scores(scores):\n",
    "    scores = scores.sort_values(ascending=True)\n",
    "    width = np.arange(len(scores))\n",
    "    ticks = list(scores.index)\n",
    "    plt.barh(width, scores)\n",
    "    plt.yticks(width, ticks)\n",
    "    plt.title(\"Mutual Information Scores\")\n",
    "\n",
    "\n",
    "plt.figure(dpi=500, figsize=(8, 5))\n",
    "plot_mi_scores(mi_scores)"
   ]
  },
  {
   "cell_type": "code",
   "execution_count": 14,
   "id": "37a9c7ed",
   "metadata": {
    "execution": {
     "iopub.execute_input": "2023-08-05T06:47:29.010044Z",
     "iopub.status.busy": "2023-08-05T06:47:29.009582Z",
     "iopub.status.idle": "2023-08-05T06:47:29.018063Z",
     "shell.execute_reply": "2023-08-05T06:47:29.016719Z"
    },
    "papermill": {
     "duration": 0.023123,
     "end_time": "2023-08-05T06:47:29.020602",
     "exception": false,
     "start_time": "2023-08-05T06:47:28.997479",
     "status": "completed"
    },
    "tags": []
   },
   "outputs": [],
   "source": [
    "columns_to_drop = ['EP','CU','CH','DV','CB','AH','GB','AZ','AY','DY','FS','DL']\n",
    "train_dropped = train.drop(columns=columns_to_drop)\n",
    "test_dropped = test.drop(columns=columns_to_drop)\n",
    "\n",
    "\n"
   ]
  },
  {
   "cell_type": "code",
   "execution_count": 15,
   "id": "631ecc8e",
   "metadata": {
    "execution": {
     "iopub.execute_input": "2023-08-05T06:47:29.043450Z",
     "iopub.status.busy": "2023-08-05T06:47:29.043112Z",
     "iopub.status.idle": "2023-08-05T06:47:29.048739Z",
     "shell.execute_reply": "2023-08-05T06:47:29.047584Z"
    },
    "papermill": {
     "duration": 0.01912,
     "end_time": "2023-08-05T06:47:29.050486",
     "exception": false,
     "start_time": "2023-08-05T06:47:29.031366",
     "status": "completed"
    },
    "tags": []
   },
   "outputs": [
    {
     "name": "stdout",
     "output_type": "stream",
     "text": [
      "(617, 46)\n",
      "(5, 45)\n"
     ]
    }
   ],
   "source": [
    "print(train_dropped.shape)\n",
    "print(test_dropped.shape)"
   ]
  },
  {
   "cell_type": "markdown",
   "id": "0f28f470",
   "metadata": {
    "papermill": {
     "duration": 0.011386,
     "end_time": "2023-08-05T06:47:29.071976",
     "exception": false,
     "start_time": "2023-08-05T06:47:29.060590",
     "status": "completed"
    },
    "tags": []
   },
   "source": [
    "### Metric"
   ]
  },
  {
   "cell_type": "code",
   "execution_count": 16,
   "id": "86f995a2",
   "metadata": {
    "execution": {
     "iopub.execute_input": "2023-08-05T06:47:29.093782Z",
     "iopub.status.busy": "2023-08-05T06:47:29.093407Z",
     "iopub.status.idle": "2023-08-05T06:47:29.101089Z",
     "shell.execute_reply": "2023-08-05T06:47:29.099570Z"
    },
    "papermill": {
     "duration": 0.020872,
     "end_time": "2023-08-05T06:47:29.102946",
     "exception": false,
     "start_time": "2023-08-05T06:47:29.082074",
     "status": "completed"
    },
    "tags": []
   },
   "outputs": [],
   "source": [
    "def competition_log_loss(y_true, y_pred):\n",
    "    N_0 = np.sum(1 - y_true)\n",
    "    N_1 = np.sum(y_true)\n",
    "    p_1 = np.clip(y_pred, 1e-15, 1 - 1e-15)\n",
    "    p_0 = 1 - p_1\n",
    "    log_loss_0 = -np.sum((1 - y_true) * np.log(p_0)) / N_0\n",
    "    log_loss_1 = -np.sum(y_true * np.log(p_1)) / N_1\n",
    "    return (log_loss_0 + log_loss_1)/2\n",
    "\n"
   ]
  },
  {
   "cell_type": "code",
   "execution_count": 17,
   "id": "3c0ea3d1",
   "metadata": {
    "execution": {
     "iopub.execute_input": "2023-08-05T06:47:29.125457Z",
     "iopub.status.busy": "2023-08-05T06:47:29.125104Z",
     "iopub.status.idle": "2023-08-05T06:47:29.131019Z",
     "shell.execute_reply": "2023-08-05T06:47:29.130317Z"
    },
    "papermill": {
     "duration": 0.019261,
     "end_time": "2023-08-05T06:47:29.132716",
     "exception": false,
     "start_time": "2023-08-05T06:47:29.113455",
     "status": "completed"
    },
    "tags": []
   },
   "outputs": [],
   "source": [
    "def balanced_log_loss(y_true, y_pred):\n",
    "    N_0 = np.sum(1 - y_true)\n",
    "    N_1 = np.sum(y_true)\n",
    "    p_1 = np.clip(y_pred, 1e-15, 1 - 1e-15)\n",
    "    p_0 = 1 - p_1\n",
    "    log_loss_0 = -np.sum((1 - y_true) * np.log(p_0))\n",
    "    log_loss_1 = -np.sum(y_true * np.log(p_1))\n",
    "    w_0 = 1 / N_0\n",
    "    w_1 = 1 / N_1\n",
    "    balanced_log_loss = 2*(w_0 * log_loss_0 + w_1 * log_loss_1) / (w_0 + w_1)\n",
    "    return balanced_log_loss/(N_0+N_1)"
   ]
  },
  {
   "cell_type": "code",
   "execution_count": 18,
   "id": "9dd65171",
   "metadata": {
    "execution": {
     "iopub.execute_input": "2023-08-05T06:47:29.154462Z",
     "iopub.status.busy": "2023-08-05T06:47:29.154124Z",
     "iopub.status.idle": "2023-08-05T06:47:29.158704Z",
     "shell.execute_reply": "2023-08-05T06:47:29.157835Z"
    },
    "papermill": {
     "duration": 0.017939,
     "end_time": "2023-08-05T06:47:29.160920",
     "exception": false,
     "start_time": "2023-08-05T06:47:29.142981",
     "status": "completed"
    },
    "tags": []
   },
   "outputs": [],
   "source": [
    "def lgb_metric(y_true, y_pred):\n",
    "    return 'balanced_log_loss', balanced_log_loss(y_true, y_pred), False"
   ]
  },
  {
   "cell_type": "markdown",
   "id": "3b62da19",
   "metadata": {
    "papermill": {
     "duration": 0.010122,
     "end_time": "2023-08-05T06:47:29.181864",
     "exception": false,
     "start_time": "2023-08-05T06:47:29.171742",
     "status": "completed"
    },
    "tags": []
   },
   "source": [
    "### Feature Engineering"
   ]
  },
  {
   "cell_type": "markdown",
   "id": "6c3d38e5",
   "metadata": {
    "papermill": {
     "duration": 0.009826,
     "end_time": "2023-08-05T06:47:29.202054",
     "exception": false,
     "start_time": "2023-08-05T06:47:29.192228",
     "status": "completed"
    },
    "tags": []
   },
   "source": [
    "**Removing features with low variance**  \n",
    "VarianceThreshold is a simple baseline approach to feature selection. It removes all features whose variance doesn’t meet some threshold. By default, it removes all zero-variance features, i.e. features that have the same value in all samples."
   ]
  },
  {
   "cell_type": "code",
   "execution_count": 19,
   "id": "cf55e4c8",
   "metadata": {
    "execution": {
     "iopub.execute_input": "2023-08-05T06:47:29.224534Z",
     "iopub.status.busy": "2023-08-05T06:47:29.223522Z",
     "iopub.status.idle": "2023-08-05T06:47:29.228391Z",
     "shell.execute_reply": "2023-08-05T06:47:29.227740Z"
    },
    "papermill": {
     "duration": 0.017701,
     "end_time": "2023-08-05T06:47:29.230058",
     "exception": false,
     "start_time": "2023-08-05T06:47:29.212357",
     "status": "completed"
    },
    "tags": []
   },
   "outputs": [],
   "source": [
    "scaler = StandardScaler()\n",
    "df, test_df = train_dropped.copy(), test_dropped.copy()\n",
    "#new_num_cols = train.select_dtypes(include=['float64']).columns\n",
    "#df[new_num_cols] = scaler.fit_transform(train[new_num_cols])\n",
    "#test_df[new_num_cols] = scaler.transform(test[new_num_cols])"
   ]
  },
  {
   "cell_type": "code",
   "execution_count": 20,
   "id": "8ebc6f79",
   "metadata": {
    "execution": {
     "iopub.execute_input": "2023-08-05T06:47:29.252217Z",
     "iopub.status.busy": "2023-08-05T06:47:29.251217Z",
     "iopub.status.idle": "2023-08-05T06:47:29.274672Z",
     "shell.execute_reply": "2023-08-05T06:47:29.273883Z"
    },
    "papermill": {
     "duration": 0.03667,
     "end_time": "2023-08-05T06:47:29.276994",
     "exception": false,
     "start_time": "2023-08-05T06:47:29.240324",
     "status": "completed"
    },
    "tags": []
   },
   "outputs": [
    {
     "data": {
      "text/html": [
       "<div>\n",
       "<style scoped>\n",
       "    .dataframe tbody tr th:only-of-type {\n",
       "        vertical-align: middle;\n",
       "    }\n",
       "\n",
       "    .dataframe tbody tr th {\n",
       "        vertical-align: top;\n",
       "    }\n",
       "\n",
       "    .dataframe thead th {\n",
       "        text-align: right;\n",
       "    }\n",
       "</style>\n",
       "<table border=\"1\" class=\"dataframe\">\n",
       "  <thead>\n",
       "    <tr style=\"text-align: right;\">\n",
       "      <th></th>\n",
       "      <th>Id</th>\n",
       "      <th>AB</th>\n",
       "      <th>AF</th>\n",
       "      <th>AM</th>\n",
       "      <th>AR</th>\n",
       "      <th>AX</th>\n",
       "      <th>BC</th>\n",
       "      <th>BD</th>\n",
       "      <th>BN</th>\n",
       "      <th>BP</th>\n",
       "      <th>...</th>\n",
       "      <th>FE</th>\n",
       "      <th>FI</th>\n",
       "      <th>FL</th>\n",
       "      <th>FR</th>\n",
       "      <th>GE</th>\n",
       "      <th>GF</th>\n",
       "      <th>GH</th>\n",
       "      <th>GI</th>\n",
       "      <th>GL</th>\n",
       "      <th>Class</th>\n",
       "    </tr>\n",
       "  </thead>\n",
       "  <tbody>\n",
       "    <tr>\n",
       "      <th>0</th>\n",
       "      <td>000ff2bfdfe9</td>\n",
       "      <td>0.209377</td>\n",
       "      <td>3109.03329</td>\n",
       "      <td>22.394407</td>\n",
       "      <td>8.138688</td>\n",
       "      <td>0.699861</td>\n",
       "      <td>5.555634</td>\n",
       "      <td>4126.58731</td>\n",
       "      <td>22.5984</td>\n",
       "      <td>175.638726</td>\n",
       "      <td>...</td>\n",
       "      <td>9028.291921</td>\n",
       "      <td>3.583450</td>\n",
       "      <td>7.298162</td>\n",
       "      <td>1.73855</td>\n",
       "      <td>72.611063</td>\n",
       "      <td>2003.810319</td>\n",
       "      <td>22.136229</td>\n",
       "      <td>69.834944</td>\n",
       "      <td>0.120343</td>\n",
       "      <td>1</td>\n",
       "    </tr>\n",
       "    <tr>\n",
       "      <th>1</th>\n",
       "      <td>007255e47698</td>\n",
       "      <td>0.145282</td>\n",
       "      <td>978.76416</td>\n",
       "      <td>36.968889</td>\n",
       "      <td>8.138688</td>\n",
       "      <td>3.632190</td>\n",
       "      <td>1.229900</td>\n",
       "      <td>5496.92824</td>\n",
       "      <td>19.4205</td>\n",
       "      <td>155.868030</td>\n",
       "      <td>...</td>\n",
       "      <td>6785.003474</td>\n",
       "      <td>10.358927</td>\n",
       "      <td>0.173229</td>\n",
       "      <td>0.49706</td>\n",
       "      <td>72.611063</td>\n",
       "      <td>27981.562750</td>\n",
       "      <td>29.135430</td>\n",
       "      <td>32.131996</td>\n",
       "      <td>21.978000</td>\n",
       "      <td>0</td>\n",
       "    </tr>\n",
       "    <tr>\n",
       "      <th>2</th>\n",
       "      <td>013f2bd269f5</td>\n",
       "      <td>0.470030</td>\n",
       "      <td>2635.10654</td>\n",
       "      <td>32.360553</td>\n",
       "      <td>8.138688</td>\n",
       "      <td>6.732840</td>\n",
       "      <td>1.229900</td>\n",
       "      <td>5135.78024</td>\n",
       "      <td>26.4825</td>\n",
       "      <td>128.988531</td>\n",
       "      <td>...</td>\n",
       "      <td>8338.906181</td>\n",
       "      <td>11.626917</td>\n",
       "      <td>7.709560</td>\n",
       "      <td>0.97556</td>\n",
       "      <td>88.609437</td>\n",
       "      <td>13676.957810</td>\n",
       "      <td>28.022851</td>\n",
       "      <td>35.192676</td>\n",
       "      <td>0.196941</td>\n",
       "      <td>0</td>\n",
       "    </tr>\n",
       "    <tr>\n",
       "      <th>3</th>\n",
       "      <td>043ac50845d5</td>\n",
       "      <td>0.252107</td>\n",
       "      <td>3819.65177</td>\n",
       "      <td>77.112203</td>\n",
       "      <td>8.138688</td>\n",
       "      <td>3.685344</td>\n",
       "      <td>1.229900</td>\n",
       "      <td>4169.67738</td>\n",
       "      <td>23.6577</td>\n",
       "      <td>237.282264</td>\n",
       "      <td>...</td>\n",
       "      <td>10965.766040</td>\n",
       "      <td>14.852022</td>\n",
       "      <td>6.122162</td>\n",
       "      <td>0.49706</td>\n",
       "      <td>82.416803</td>\n",
       "      <td>2094.262452</td>\n",
       "      <td>39.948656</td>\n",
       "      <td>90.493248</td>\n",
       "      <td>0.155829</td>\n",
       "      <td>0</td>\n",
       "    </tr>\n",
       "    <tr>\n",
       "      <th>4</th>\n",
       "      <td>044fb8a146ec</td>\n",
       "      <td>0.380297</td>\n",
       "      <td>3733.04844</td>\n",
       "      <td>14.103738</td>\n",
       "      <td>8.138688</td>\n",
       "      <td>3.942255</td>\n",
       "      <td>102.151980</td>\n",
       "      <td>5728.73412</td>\n",
       "      <td>24.0108</td>\n",
       "      <td>324.546318</td>\n",
       "      <td>...</td>\n",
       "      <td>16198.049590</td>\n",
       "      <td>13.666727</td>\n",
       "      <td>8.153058</td>\n",
       "      <td>48.50134</td>\n",
       "      <td>146.109943</td>\n",
       "      <td>8524.370502</td>\n",
       "      <td>45.381316</td>\n",
       "      <td>36.262628</td>\n",
       "      <td>0.096614</td>\n",
       "      <td>1</td>\n",
       "    </tr>\n",
       "  </tbody>\n",
       "</table>\n",
       "<p>5 rows × 46 columns</p>\n",
       "</div>"
      ],
      "text/plain": [
       "             Id        AB          AF         AM        AR        AX  \\\n",
       "0  000ff2bfdfe9  0.209377  3109.03329  22.394407  8.138688  0.699861   \n",
       "1  007255e47698  0.145282   978.76416  36.968889  8.138688  3.632190   \n",
       "2  013f2bd269f5  0.470030  2635.10654  32.360553  8.138688  6.732840   \n",
       "3  043ac50845d5  0.252107  3819.65177  77.112203  8.138688  3.685344   \n",
       "4  044fb8a146ec  0.380297  3733.04844  14.103738  8.138688  3.942255   \n",
       "\n",
       "           BC         BD        BN          BP  ...            FE         FI  \\\n",
       "0    5.555634  4126.58731  22.5984  175.638726  ...   9028.291921   3.583450   \n",
       "1    1.229900  5496.92824  19.4205  155.868030  ...   6785.003474  10.358927   \n",
       "2    1.229900  5135.78024  26.4825  128.988531  ...   8338.906181  11.626917   \n",
       "3    1.229900  4169.67738  23.6577  237.282264  ...  10965.766040  14.852022   \n",
       "4  102.151980  5728.73412  24.0108  324.546318  ...  16198.049590  13.666727   \n",
       "\n",
       "         FL        FR          GE            GF         GH         GI  \\\n",
       "0  7.298162   1.73855   72.611063   2003.810319  22.136229  69.834944   \n",
       "1  0.173229   0.49706   72.611063  27981.562750  29.135430  32.131996   \n",
       "2  7.709560   0.97556   88.609437  13676.957810  28.022851  35.192676   \n",
       "3  6.122162   0.49706   82.416803   2094.262452  39.948656  90.493248   \n",
       "4  8.153058  48.50134  146.109943   8524.370502  45.381316  36.262628   \n",
       "\n",
       "          GL  Class  \n",
       "0   0.120343      1  \n",
       "1  21.978000      0  \n",
       "2   0.196941      0  \n",
       "3   0.155829      0  \n",
       "4   0.096614      1  \n",
       "\n",
       "[5 rows x 46 columns]"
      ]
     },
     "execution_count": 20,
     "metadata": {},
     "output_type": "execute_result"
    }
   ],
   "source": [
    "df.head()"
   ]
  },
  {
   "cell_type": "markdown",
   "id": "c253e5dd",
   "metadata": {
    "papermill": {
     "duration": 0.010584,
     "end_time": "2023-08-05T06:47:29.298293",
     "exception": false,
     "start_time": "2023-08-05T06:47:29.287709",
     "status": "completed"
    },
    "tags": []
   },
   "source": [
    "### CV"
   ]
  },
  {
   "cell_type": "code",
   "execution_count": 21,
   "id": "d6f45ba3",
   "metadata": {
    "execution": {
     "iopub.execute_input": "2023-08-05T06:47:29.323127Z",
     "iopub.status.busy": "2023-08-05T06:47:29.321742Z",
     "iopub.status.idle": "2023-08-05T06:47:29.342532Z",
     "shell.execute_reply": "2023-08-05T06:47:29.340963Z"
    },
    "papermill": {
     "duration": 0.035795,
     "end_time": "2023-08-05T06:47:29.345147",
     "exception": false,
     "start_time": "2023-08-05T06:47:29.309352",
     "status": "completed"
    },
    "tags": []
   },
   "outputs": [
    {
     "data": {
      "text/plain": [
       "fold  Class\n",
       "0     0        101\n",
       "      1         23\n",
       "1     0        102\n",
       "      1         22\n",
       "2     0        102\n",
       "      1         21\n",
       "3     0        102\n",
       "      1         21\n",
       "4     0        102\n",
       "      1         21\n",
       "Name: Class, dtype: int64"
      ]
     },
     "execution_count": 21,
     "metadata": {},
     "output_type": "execute_result"
    }
   ],
   "source": [
    "kf = StratifiedKFold(n_splits=5, random_state=42, shuffle=True)\n",
    "df['fold'] = -1\n",
    "\n",
    "for fold, (train_idx, test_idx) in enumerate(kf.split(df, greeks['Alpha'])):\n",
    "    df.loc[test_idx, 'fold'] = fold\n",
    "\n",
    "df.groupby('fold')[\"Class\"].value_counts()"
   ]
  },
  {
   "cell_type": "markdown",
   "id": "cc5e2194",
   "metadata": {
    "papermill": {
     "duration": 0.010327,
     "end_time": "2023-08-05T06:47:29.366119",
     "exception": false,
     "start_time": "2023-08-05T06:47:29.355792",
     "status": "completed"
    },
    "tags": []
   },
   "source": [
    "### Training"
   ]
  },
  {
   "cell_type": "code",
   "execution_count": 22,
   "id": "0c63fb0e",
   "metadata": {
    "execution": {
     "iopub.execute_input": "2023-08-05T06:47:29.389349Z",
     "iopub.status.busy": "2023-08-05T06:47:29.388447Z",
     "iopub.status.idle": "2023-08-05T06:47:36.228250Z",
     "shell.execute_reply": "2023-08-05T06:47:36.225991Z"
    },
    "papermill": {
     "duration": 6.855164,
     "end_time": "2023-08-05T06:47:36.231585",
     "exception": false,
     "start_time": "2023-08-05T06:47:29.376421",
     "status": "completed"
    },
    "tags": []
   },
   "outputs": [
    {
     "name": "stdout",
     "output_type": "stream",
     "text": [
      "Fold: 0, log loss: 0.308, balanced los loss: 0.179\n",
      "Fold: 1, log loss: 0.214, balanced los loss: 0.148\n",
      "Fold: 2, log loss: 0.106, balanced los loss: 0.063\n",
      "Fold: 3, log loss: 0.25, balanced los loss: 0.137\n",
      "Fold: 4, log loss: 0.294, balanced los loss: 0.155\n",
      "\n",
      "Log Loss\n",
      "[0.30831287935403723, 0.21413704061886185, 0.10622427042190041, 0.2501944865349645, 0.29365369131399]\n",
      "0.2345044736487508 0.07219851809515844\n",
      "\n",
      "Balanced Log Loss\n",
      "[0.17925979599831443, 0.14760157216349679, 0.06277669657302064, 0.13703461189614544, 0.15512332512091284]\n",
      "0.13635920035037802 0.039328832813185076\n",
      "\n",
      "Weights\n",
      "[5.5784956935318775, 6.77499558671577, 15.92947788893, 7.2974264396638056, 6.446483784566488]\n"
     ]
    }
   ],
   "source": [
    "final_valid_predictions = {}\n",
    "final_test_predictions = []\n",
    "scores = []\n",
    "log_losses = []\n",
    "balanced_log_losses = []\n",
    "weights = []\n",
    "\n",
    "for fold in range(5):\n",
    "    train_df = df[df['fold'] != fold]\n",
    "    valid_df = df[df['fold'] == fold]\n",
    "    valid_ids = valid_df.Id.values.tolist()\n",
    "\n",
    "    X_train, y_train = train_df.drop(['Id', 'Class', 'fold'], axis=1), train_df['Class']\n",
    "    X_valid, y_valid = valid_df.drop(['Id', 'Class', 'fold'], axis=1), valid_df['Class']\n",
    "    \n",
    "    lgb = LGBMClassifier(boosting_type='goss', learning_rate=0.06733232950390658, n_estimators = 50000, \n",
    "                         early_stopping_round = 300, random_state=42,\n",
    "                        subsample=0.6970532011679706,\n",
    "                        colsample_bytree=0.6055755840633003,\n",
    "                         class_weight='balanced',\n",
    "                         metric='none', is_unbalance=True, max_depth=8)    \n",
    "    \n",
    "    lgb.fit(X_train, y_train, eval_set=(X_valid, y_valid), verbose=1000,\n",
    "            eval_metric=lgb_metric)\n",
    "\n",
    "    y_pred = lgb.predict_proba(X_valid)\n",
    "    preds_test  = lgb.predict_proba(test_df.drop(['Id'], axis=1).values)\n",
    "    \n",
    "    final_test_predictions.append(preds_test)\n",
    "    final_valid_predictions.update(dict(zip(valid_ids, y_pred)))\n",
    "\n",
    "    logloss = log_loss(y_valid, y_pred)\n",
    "    balanced_logloss = balanced_log_loss(y_valid, y_pred[:, 1])\n",
    "    log_losses.append(logloss)\n",
    "    balanced_log_losses.append(balanced_logloss)\n",
    "    weights.append(1/balanced_logloss)\n",
    "    \n",
    "    print(f\"Fold: {fold}, log loss: {round(logloss, 3)}, balanced los loss: {round(balanced_logloss, 3)}\")\n",
    "\n",
    "print()\n",
    "print(\"Log Loss\")\n",
    "print(log_losses)\n",
    "print(np.mean(log_losses), np.std(log_losses))\n",
    "print()\n",
    "print(\"Balanced Log Loss\")\n",
    "print(balanced_log_losses)\n",
    "print(np.mean(balanced_log_losses), np.std(balanced_log_losses))\n",
    "print()\n",
    "print(\"Weights\")\n",
    "print(weights)"
   ]
  },
  {
   "cell_type": "code",
   "execution_count": 23,
   "id": "9d4fb064",
   "metadata": {
    "execution": {
     "iopub.execute_input": "2023-08-05T06:47:36.256881Z",
     "iopub.status.busy": "2023-08-05T06:47:36.256259Z",
     "iopub.status.idle": "2023-08-05T06:47:36.264251Z",
     "shell.execute_reply": "2023-08-05T06:47:36.263004Z"
    },
    "papermill": {
     "duration": 0.023244,
     "end_time": "2023-08-05T06:47:36.266720",
     "exception": false,
     "start_time": "2023-08-05T06:47:36.243476",
     "status": "completed"
    },
    "tags": []
   },
   "outputs": [
    {
     "data": {
      "text/plain": [
       "array([[0.70535778, 0.29464222],\n",
       "       [0.70535778, 0.29464222],\n",
       "       [0.70535778, 0.29464222],\n",
       "       [0.70535778, 0.29464222],\n",
       "       [0.70535778, 0.29464222]])"
      ]
     },
     "execution_count": 23,
     "metadata": {},
     "output_type": "execute_result"
    }
   ],
   "source": [
    "test_preds = np.zeros((test_df.shape[0],2))\n",
    "for i in range(5):\n",
    "    test_preds[:, 0] += weights[i] * final_test_predictions[i][:, 0]\n",
    "    test_preds[:, 1] += weights[i] * final_test_predictions[i][:, 1]\n",
    "test_preds /= sum(weights)\n",
    "test_preds"
   ]
  },
  {
   "cell_type": "code",
   "execution_count": 24,
   "id": "879bdc44",
   "metadata": {
    "execution": {
     "iopub.execute_input": "2023-08-05T06:47:36.292413Z",
     "iopub.status.busy": "2023-08-05T06:47:36.291733Z",
     "iopub.status.idle": "2023-08-05T06:47:37.377786Z",
     "shell.execute_reply": "2023-08-05T06:47:37.376472Z"
    },
    "papermill": {
     "duration": 1.101414,
     "end_time": "2023-08-05T06:47:37.379791",
     "exception": false,
     "start_time": "2023-08-05T06:47:36.278377",
     "status": "completed"
    },
    "tags": []
   },
   "outputs": [
    {
     "name": "stdout",
     "output_type": "stream",
     "text": [
      "Fold: 0, log loss: 0.314, balanced los loss: 0.373\n",
      "Fold: 1, log loss: 0.192, balanced los loss: 0.237\n",
      "Fold: 2, log loss: 0.15, balanced los loss: 0.159\n",
      "Fold: 3, log loss: 0.179, balanced los loss: 0.203\n",
      "Fold: 4, log loss: 0.219, balanced los loss: 0.274\n",
      "\n",
      "Log Loss\n",
      "[0.31439575795245067, 0.19185601572775537, 0.1498251110963344, 0.17914890571462677, 0.21921844760714154]\n",
      "0.2108888476196617 0.0563586998479247\n",
      "\n",
      "Balanced Log Loss\n",
      "[0.3726071065604253, 0.23671154846712691, 0.15899557107009465, 0.20260351687916028, 0.2743958446028084]\n",
      "0.2490627175159231 0.07256456843660386\n",
      "\n",
      "Weights\n",
      "[2.6837920758707567, 4.2245509628731694, 6.289483369062783, 4.935748477635926, 3.6443700575987696]\n"
     ]
    }
   ],
   "source": [
    "import xgboost as xgb\n",
    "\n",
    "final_valid_predictions = {}\n",
    "final_test_predictions = []\n",
    "scores = []\n",
    "log_losses = []\n",
    "balanced_log_losses = []\n",
    "weights = []\n",
    "\n",
    "for fold in range(5):\n",
    "    train_df = df[df['fold'] != fold]\n",
    "    valid_df = df[df['fold'] == fold]\n",
    "    valid_ids = valid_df.Id.values.tolist()\n",
    "\n",
    "    X_train, y_train = train_df.drop(['Id', 'Class', 'fold'], axis=1), train_df['Class']\n",
    "    X_valid, y_valid = valid_df.drop(['Id', 'Class', 'fold'], axis=1), valid_df['Class']\n",
    "    \n",
    "    model = xgb.XGBClassifier(objective=\"binary:logistic\", random_state=42)\n",
    "    model.fit(X_train, y_train)     \n",
    "\n",
    "    \n",
    "    y_pred = model.predict_proba(X_valid)\n",
    "    preds_test  = model.predict_proba(test_df.drop(['Id'], axis=1).values)\n",
    "    \n",
    "    final_test_predictions.append(preds_test)\n",
    "    final_valid_predictions.update(dict(zip(valid_ids, y_pred)))\n",
    "\n",
    "    logloss = log_loss(y_valid, y_pred)\n",
    "    balanced_logloss = balanced_log_loss(y_valid, y_pred[:, 1])\n",
    "    log_losses.append(logloss)\n",
    "    balanced_log_losses.append(balanced_logloss)\n",
    "    weights.append(1/balanced_logloss)\n",
    "    \n",
    "    print(f\"Fold: {fold}, log loss: {round(logloss, 3)}, balanced los loss: {round(balanced_logloss, 3)}\")\n",
    "\n",
    "print()\n",
    "print(\"Log Loss\")\n",
    "print(log_losses)\n",
    "print(np.mean(log_losses), np.std(log_losses))\n",
    "print()\n",
    "print(\"Balanced Log Loss\")\n",
    "print(balanced_log_losses)\n",
    "print(np.mean(balanced_log_losses), np.std(balanced_log_losses))\n",
    "print()\n",
    "print(\"Weights\")\n",
    "print(weights)"
   ]
  },
  {
   "cell_type": "code",
   "execution_count": 25,
   "id": "6c5531bc",
   "metadata": {
    "execution": {
     "iopub.execute_input": "2023-08-05T06:47:37.405360Z",
     "iopub.status.busy": "2023-08-05T06:47:37.405007Z",
     "iopub.status.idle": "2023-08-05T06:47:37.413859Z",
     "shell.execute_reply": "2023-08-05T06:47:37.412899Z"
    },
    "papermill": {
     "duration": 0.024742,
     "end_time": "2023-08-05T06:47:37.416026",
     "exception": false,
     "start_time": "2023-08-05T06:47:37.391284",
     "status": "completed"
    },
    "tags": []
   },
   "outputs": [
    {
     "data": {
      "text/plain": [
       "array([[0.77179588, 0.22820415],\n",
       "       [0.77179588, 0.22820415],\n",
       "       [0.77179588, 0.22820415],\n",
       "       [0.77179588, 0.22820415],\n",
       "       [0.77179588, 0.22820415]])"
      ]
     },
     "execution_count": 25,
     "metadata": {},
     "output_type": "execute_result"
    }
   ],
   "source": [
    "test_preds = np.zeros((test_df.shape[0],2))\n",
    "for i in range(5):\n",
    "    test_preds[:, 0] += weights[i] * final_test_predictions[i][:, 0]\n",
    "    test_preds[:, 1] += weights[i] * final_test_predictions[i][:, 1]\n",
    "test_preds /= sum(weights)\n",
    "test_preds"
   ]
  },
  {
   "cell_type": "code",
   "execution_count": 26,
   "id": "9ac84af4",
   "metadata": {
    "execution": {
     "iopub.execute_input": "2023-08-05T06:47:37.440754Z",
     "iopub.status.busy": "2023-08-05T06:47:37.440376Z",
     "iopub.status.idle": "2023-08-05T06:47:37.505464Z",
     "shell.execute_reply": "2023-08-05T06:47:37.504040Z"
    },
    "papermill": {
     "duration": 0.080558,
     "end_time": "2023-08-05T06:47:37.508133",
     "exception": false,
     "start_time": "2023-08-05T06:47:37.427575",
     "status": "completed"
    },
    "tags": []
   },
   "outputs": [
    {
     "name": "stdout",
     "output_type": "stream",
     "text": [
      "Fold: 0, log loss: 5.232, balanced los loss: 8.167\n",
      "Fold: 1, log loss: 6.395, balanced los loss: 10.081\n",
      "Fold: 2, log loss: 6.74, balanced los loss: 5.534\n",
      "Fold: 3, log loss: 5.861, balanced los loss: 7.465\n",
      "Fold: 4, log loss: 6.154, balanced los loss: 9.41\n",
      "\n",
      "Log Loss\n",
      "[5.232143233904103, 6.394841730327237, 6.739870145932476, 5.860756648636936, 6.153794481068783]\n",
      "6.076281247973907 0.5112453711150742\n",
      "\n",
      "Balanced Log Loss\n",
      "[8.167468195362593, 10.081297376454158, 5.5339060178830355, 7.4652631850630105, 9.410329161406166]\n",
      "8.131652787233794 1.5893252289670554\n",
      "\n",
      "Weights\n",
      "[0.12243696284826551, 0.09919358220060014, 0.18070418918725048, 0.1339537502175229, 0.10626620842352895]\n"
     ]
    }
   ],
   "source": [
    "from sklearn.linear_model import SGDClassifier\n",
    "final_valid_predictions = {}\n",
    "final_test_predictions = []\n",
    "scores = []\n",
    "log_losses = []\n",
    "balanced_log_losses = []\n",
    "weights = []\n",
    "\n",
    "for fold in range(5):\n",
    "    train_df = df[df['fold'] != fold]\n",
    "    valid_df = df[df['fold'] == fold]\n",
    "    valid_ids = valid_df.Id.values.tolist()\n",
    "\n",
    "    X_train, y_train = train_df.drop(['Id', 'Class', 'fold'], axis=1), train_df['Class']\n",
    "    X_valid, y_valid = valid_df.drop(['Id', 'Class', 'fold'], axis=1), valid_df['Class']\n",
    "         \n",
    "    clf = SGDClassifier(loss='log', penalty='l2',\n",
    "                           alpha=1e-3, random_state=42,\n",
    "                           max_iter=5, tol=None)\n",
    "    clf = clf.fit(X_train, y_train)\n",
    "    \n",
    "    y_pred = clf.predict_proba(X_valid)\n",
    "    preds_test  = clf.predict_proba(test_df.drop(['Id'], axis=1).values)\n",
    "    \n",
    "    final_test_predictions.append(preds_test)\n",
    "    final_valid_predictions.update(dict(zip(valid_ids, y_pred)))\n",
    "\n",
    "    logloss = log_loss(y_valid, y_pred)\n",
    "    balanced_logloss = balanced_log_loss(y_valid, y_pred[:, 1])\n",
    "    log_losses.append(logloss)\n",
    "    balanced_log_losses.append(balanced_logloss)\n",
    "    weights.append(1/balanced_logloss)\n",
    "    \n",
    "    print(f\"Fold: {fold}, log loss: {round(logloss, 3)}, balanced los loss: {round(balanced_logloss, 3)}\")\n",
    "\n",
    "print()\n",
    "print(\"Log Loss\")\n",
    "print(log_losses)\n",
    "print(np.mean(log_losses), np.std(log_losses))\n",
    "print()\n",
    "print(\"Balanced Log Loss\")\n",
    "print(balanced_log_losses)\n",
    "print(np.mean(balanced_log_losses), np.std(balanced_log_losses))\n",
    "print()\n",
    "print(\"Weights\")\n",
    "print(weights)"
   ]
  },
  {
   "cell_type": "code",
   "execution_count": 27,
   "id": "3747e62e",
   "metadata": {
    "execution": {
     "iopub.execute_input": "2023-08-05T06:47:37.533537Z",
     "iopub.status.busy": "2023-08-05T06:47:37.533129Z",
     "iopub.status.idle": "2023-08-05T06:47:37.542075Z",
     "shell.execute_reply": "2023-08-05T06:47:37.541069Z"
    },
    "papermill": {
     "duration": 0.025007,
     "end_time": "2023-08-05T06:47:37.544840",
     "exception": false,
     "start_time": "2023-08-05T06:47:37.519833",
     "status": "completed"
    },
    "tags": []
   },
   "outputs": [
    {
     "data": {
      "text/plain": [
       "array([[1.0000000e+00, 6.8280839e-28],\n",
       "       [1.0000000e+00, 6.8280839e-28],\n",
       "       [1.0000000e+00, 6.8280839e-28],\n",
       "       [1.0000000e+00, 6.8280839e-28],\n",
       "       [1.0000000e+00, 6.8280839e-28]])"
      ]
     },
     "execution_count": 27,
     "metadata": {},
     "output_type": "execute_result"
    }
   ],
   "source": [
    "test_preds = np.zeros((test_df.shape[0],2))\n",
    "for i in range(5):\n",
    "    test_preds[:, 0] += weights[i] * final_test_predictions[i][:, 0]\n",
    "    test_preds[:, 1] += weights[i] * final_test_predictions[i][:, 1]\n",
    "test_preds /= sum(weights)\n",
    "test_preds"
   ]
  },
  {
   "cell_type": "code",
   "execution_count": 28,
   "id": "276ddc31",
   "metadata": {
    "execution": {
     "iopub.execute_input": "2023-08-05T06:47:37.570204Z",
     "iopub.status.busy": "2023-08-05T06:47:37.569850Z",
     "iopub.status.idle": "2023-08-05T06:47:37.599188Z",
     "shell.execute_reply": "2023-08-05T06:47:37.597981Z"
    },
    "papermill": {
     "duration": 0.044941,
     "end_time": "2023-08-05T06:47:37.601534",
     "exception": false,
     "start_time": "2023-08-05T06:47:37.556593",
     "status": "completed"
    },
    "tags": []
   },
   "outputs": [
    {
     "data": {
      "text/html": [
       "<div>\n",
       "<style scoped>\n",
       "    .dataframe tbody tr th:only-of-type {\n",
       "        vertical-align: middle;\n",
       "    }\n",
       "\n",
       "    .dataframe tbody tr th {\n",
       "        vertical-align: top;\n",
       "    }\n",
       "\n",
       "    .dataframe thead th {\n",
       "        text-align: right;\n",
       "    }\n",
       "</style>\n",
       "<table border=\"1\" class=\"dataframe\">\n",
       "  <thead>\n",
       "    <tr style=\"text-align: right;\">\n",
       "      <th></th>\n",
       "      <th>Id</th>\n",
       "      <th>class_0</th>\n",
       "      <th>class_1</th>\n",
       "    </tr>\n",
       "  </thead>\n",
       "  <tbody>\n",
       "    <tr>\n",
       "      <th>0</th>\n",
       "      <td>00eed32682bb</td>\n",
       "      <td>1.0</td>\n",
       "      <td>6.828084e-28</td>\n",
       "    </tr>\n",
       "    <tr>\n",
       "      <th>1</th>\n",
       "      <td>010ebe33f668</td>\n",
       "      <td>1.0</td>\n",
       "      <td>6.828084e-28</td>\n",
       "    </tr>\n",
       "    <tr>\n",
       "      <th>2</th>\n",
       "      <td>02fa521e1838</td>\n",
       "      <td>1.0</td>\n",
       "      <td>6.828084e-28</td>\n",
       "    </tr>\n",
       "    <tr>\n",
       "      <th>3</th>\n",
       "      <td>040e15f562a2</td>\n",
       "      <td>1.0</td>\n",
       "      <td>6.828084e-28</td>\n",
       "    </tr>\n",
       "    <tr>\n",
       "      <th>4</th>\n",
       "      <td>046e85c7cc7f</td>\n",
       "      <td>1.0</td>\n",
       "      <td>6.828084e-28</td>\n",
       "    </tr>\n",
       "  </tbody>\n",
       "</table>\n",
       "</div>"
      ],
      "text/plain": [
       "             Id  class_0       class_1\n",
       "0  00eed32682bb      1.0  6.828084e-28\n",
       "1  010ebe33f668      1.0  6.828084e-28\n",
       "2  02fa521e1838      1.0  6.828084e-28\n",
       "3  040e15f562a2      1.0  6.828084e-28\n",
       "4  046e85c7cc7f      1.0  6.828084e-28"
      ]
     },
     "execution_count": 28,
     "metadata": {},
     "output_type": "execute_result"
    }
   ],
   "source": [
    "final_valid_predictions = pd.DataFrame.from_dict(final_valid_predictions, orient=\"index\").reset_index()\n",
    "final_valid_predictions.columns = ['Id', 'class_0', 'class_1']\n",
    "final_valid_predictions.to_csv(r\"oof.csv\", index=False)\n",
    "\n",
    "test_dict = {}\n",
    "test_dict.update(dict(zip(test.Id.values.tolist(), test_preds)))\n",
    "submission = pd.DataFrame.from_dict(test_dict, orient=\"index\").reset_index()\n",
    "submission.columns = ['Id', 'class_0', 'class_1']                       \n",
    "\n",
    "submission.to_csv(r\"submission.csv\", index=False)\n",
    "submission"
   ]
  },
  {
   "cell_type": "code",
   "execution_count": null,
   "id": "ff1f554d",
   "metadata": {
    "papermill": {
     "duration": 0.011335,
     "end_time": "2023-08-05T06:47:37.625175",
     "exception": false,
     "start_time": "2023-08-05T06:47:37.613840",
     "status": "completed"
    },
    "tags": []
   },
   "outputs": [],
   "source": []
  }
 ],
 "metadata": {
  "kernelspec": {
   "display_name": "Python 3",
   "language": "python",
   "name": "python3"
  },
  "language_info": {
   "codemirror_mode": {
    "name": "ipython",
    "version": 3
   },
   "file_extension": ".py",
   "mimetype": "text/x-python",
   "name": "python",
   "nbconvert_exporter": "python",
   "pygments_lexer": "ipython3",
   "version": "3.10.10"
  },
  "papermill": {
   "default_parameters": {},
   "duration": 25.00586,
   "end_time": "2023-08-05T06:47:38.760021",
   "environment_variables": {},
   "exception": null,
   "input_path": "__notebook__.ipynb",
   "output_path": "__notebook__.ipynb",
   "parameters": {},
   "start_time": "2023-08-05T06:47:13.754161",
   "version": "2.4.0"
  }
 },
 "nbformat": 4,
 "nbformat_minor": 5
}
