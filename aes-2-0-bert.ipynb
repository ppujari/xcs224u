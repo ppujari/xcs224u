{
 "cells": [
  {
   "cell_type": "markdown",
   "id": "df6044e6",
   "metadata": {
    "papermill": {
     "duration": 0.012128,
     "end_time": "2024-06-08T18:04:28.753646",
     "exception": false,
     "start_time": "2024-06-08T18:04:28.741518",
     "status": "completed"
    },
    "tags": []
   },
   "source": [
    "In this competition, our aim is to develop an AI model that can score student essays. This competition is actually an updated version of an old one that took place over a decade ago. In this version, we aim to improve upon essay scoring algorithms to enhance student learning outcomes.\n",
    "\n",
    "Given an essay with n words X = {xi}i=1 to n, we need to output one score y as a result of measuring the level of this essay."
   ]
  },
  {
   "cell_type": "code",
   "execution_count": 1,
   "id": "a0f3334a",
   "metadata": {
    "execution": {
     "iopub.execute_input": "2024-06-08T18:04:28.778326Z",
     "iopub.status.busy": "2024-06-08T18:04:28.778029Z",
     "iopub.status.idle": "2024-06-08T18:04:39.970439Z",
     "shell.execute_reply": "2024-06-08T18:04:39.969589Z"
    },
    "papermill": {
     "duration": 11.207082,
     "end_time": "2024-06-08T18:04:39.972717",
     "exception": false,
     "start_time": "2024-06-08T18:04:28.765635",
     "status": "completed"
    },
    "tags": []
   },
   "outputs": [
    {
     "name": "stderr",
     "output_type": "stream",
     "text": [
      "/tmp/ipykernel_26/1570875491.py:6: MatplotlibDeprecationWarning: The get_cmap function was deprecated in Matplotlib 3.7 and will be removed two minor releases later. Use ``matplotlib.colormaps[name]`` or ``matplotlib.colormaps.get_cmap(obj)`` instead.\n",
      "  cmap = mpl.cm.get_cmap('coolwarm')\n"
     ]
    }
   ],
   "source": [
    "import numpy as np\n",
    "import matplotlib.pyplot as plt\n",
    "import pandas as pd\n",
    "import matplotlib as mpl\n",
    "\n",
    "cmap = mpl.cm.get_cmap('coolwarm')\n",
    "import torch\n",
    "import torch.nn as nn\n",
    "import re\n",
    "import transformers\n",
    "from transformers import AutoModel, AutoTokenizer, BertModel, BertTokenizer, BertConfig\n",
    "from sklearn.model_selection import KFold, train_test_split\n",
    "from sklearn.metrics import cohen_kappa_score\n",
    "import sys\n",
    "sys.path.append('/kaggle/input/py-file')\n",
    "from torch_shallow_neural_classifier import TorchShallowNeuralClassifier"
   ]
  },
  {
   "cell_type": "markdown",
   "id": "73d43cd5",
   "metadata": {
    "papermill": {
     "duration": 0.011864,
     "end_time": "2024-06-08T18:04:39.997073",
     "exception": false,
     "start_time": "2024-06-08T18:04:39.985209",
     "status": "completed"
    },
    "tags": []
   },
   "source": [
    "# ⚙️ | Configuration"
   ]
  },
  {
   "cell_type": "code",
   "execution_count": 2,
   "id": "0bca156e",
   "metadata": {
    "_kg_hide-input": true,
    "execution": {
     "iopub.execute_input": "2024-06-08T18:04:40.023706Z",
     "iopub.status.busy": "2024-06-08T18:04:40.023263Z",
     "iopub.status.idle": "2024-06-08T18:04:40.028154Z",
     "shell.execute_reply": "2024-06-08T18:04:40.027238Z"
    },
    "papermill": {
     "duration": 0.020277,
     "end_time": "2024-06-08T18:04:40.030057",
     "exception": false,
     "start_time": "2024-06-08T18:04:40.009780",
     "status": "completed"
    },
    "tags": []
   },
   "outputs": [],
   "source": [
    "class CFG:\n",
    "    seed = 42  # Random seed \n",
    "    sequence_length = 512  # Input sequence length\n",
    "    batch_size = 32  # Batch size\n",
    "    weights_name = \"/kaggle/input/bert-mini\"# Name of pretrained models\n",
    "    #weights_name = \"/kaggle/input/bert-base-uncased/pytorch/model_rater/3\""
   ]
  },
  {
   "cell_type": "code",
   "execution_count": 3,
   "id": "47f0ac4a",
   "metadata": {
    "execution": {
     "iopub.execute_input": "2024-06-08T18:04:40.054906Z",
     "iopub.status.busy": "2024-06-08T18:04:40.054624Z",
     "iopub.status.idle": "2024-06-08T18:04:40.143241Z",
     "shell.execute_reply": "2024-06-08T18:04:40.142388Z"
    },
    "papermill": {
     "duration": 0.103473,
     "end_time": "2024-06-08T18:04:40.145309",
     "exception": false,
     "start_time": "2024-06-08T18:04:40.041836",
     "status": "completed"
    },
    "tags": []
   },
   "outputs": [],
   "source": [
    "# Fine-tune the model\n",
    "device = torch.device(\"cuda\" if torch.cuda.is_available() else \"cpu\")  # Use GPU if available"
   ]
  },
  {
   "cell_type": "markdown",
   "id": "4a248b4e",
   "metadata": {
    "papermill": {
     "duration": 0.011904,
     "end_time": "2024-06-08T18:04:40.169360",
     "exception": false,
     "start_time": "2024-06-08T18:04:40.157456",
     "status": "completed"
    },
    "tags": []
   },
   "source": [
    "# ♻️ | Reproducibility \n",
    "Sets value for random seed to produce similar result in each run."
   ]
  },
  {
   "cell_type": "code",
   "execution_count": 4,
   "id": "1b181b56",
   "metadata": {
    "execution": {
     "iopub.execute_input": "2024-06-08T18:04:40.193848Z",
     "iopub.status.busy": "2024-06-08T18:04:40.193553Z",
     "iopub.status.idle": "2024-06-08T18:04:40.200690Z",
     "shell.execute_reply": "2024-06-08T18:04:40.199976Z"
    },
    "papermill": {
     "duration": 0.021405,
     "end_time": "2024-06-08T18:04:40.202459",
     "exception": false,
     "start_time": "2024-06-08T18:04:40.181054",
     "status": "completed"
    },
    "tags": []
   },
   "outputs": [],
   "source": [
    "torch.manual_seed(CFG.seed)\n",
    "transformers.logging.set_verbosity_error()"
   ]
  },
  {
   "cell_type": "markdown",
   "id": "c80029f7",
   "metadata": {
    "papermill": {
     "duration": 0.011971,
     "end_time": "2024-06-08T18:04:40.226062",
     "exception": false,
     "start_time": "2024-06-08T18:04:40.214091",
     "status": "completed"
    },
    "tags": []
   },
   "source": [
    "# 📁 | Dataset Path "
   ]
  },
  {
   "cell_type": "code",
   "execution_count": 5,
   "id": "41563539",
   "metadata": {
    "execution": {
     "iopub.execute_input": "2024-06-08T18:04:40.250182Z",
     "iopub.status.busy": "2024-06-08T18:04:40.249866Z",
     "iopub.status.idle": "2024-06-08T18:04:40.253807Z",
     "shell.execute_reply": "2024-06-08T18:04:40.253041Z"
    },
    "papermill": {
     "duration": 0.018394,
     "end_time": "2024-06-08T18:04:40.255827",
     "exception": false,
     "start_time": "2024-06-08T18:04:40.237433",
     "status": "completed"
    },
    "tags": []
   },
   "outputs": [],
   "source": [
    "BASE_PATH = '/kaggle/input/learning-agency-lab-automated-essay-scoring-2'"
   ]
  },
  {
   "cell_type": "markdown",
   "id": "a17bcbae",
   "metadata": {
    "papermill": {
     "duration": 0.011776,
     "end_time": "2024-06-08T18:04:40.279308",
     "exception": false,
     "start_time": "2024-06-08T18:04:40.267532",
     "status": "completed"
    },
    "tags": []
   },
   "source": [
    "# 📖 | Meta Data\n",
    "\n",
    "**Files in the dataset:**\n",
    "\n",
    "- `{test|train}.csv`\n",
    "  - `essay_id`: Unique identifier for each essay.\n",
    "  - `full_text`: Essay text.\n",
    "  - `score`: Essay's score from `1-6`.\n",
    "- `sample_submission.csv`: Valid sample submission.\n",
    "\n",
    "**What does the `score` mean?**\n",
    "\n",
    "The `score` represents the quality of student-written argumentative essays. Essays were rated based on a rubric covering perspective development, critical thinking, evidence use, organization, language, and grammar/mechanics. Here's a summary of the scoring criteria:\n",
    "\n",
    "| Score | Description |\n",
    "|-------|-------------|\n",
    "| 6     | Clear mastery with few errors, outstanding critical thinking, appropriate evidence, well-organized, skilled language use. |\n",
    "| 5     | Reasonable mastery with occasional errors, strong critical thinking, generally appropriate evidence, well-organized, good language use. |\n",
    "| 4     | Adequate mastery with some lapses, competent critical thinking, adequate evidence, generally organized, fair language use. |\n",
    "| 3     | Developing mastery with weaknesses, limited critical thinking, inconsistent evidence, limited organization, fair language use with weaknesses. |\n",
    "| 2     | Little mastery with serious flaws, weak critical thinking, insufficient evidence, poor organization, limited language use with frequent errors. |\n",
    "| 1     | Very little or no mastery, severely flawed, no viable point of view, disorganized, fundamental language flaws, pervasive grammar/mechanics errors. |\n",
    "\n",
    "> This grading is very similar to the grading used in the [ETS GRE (Graduate Record Examinations) AWA](https://www.ets.org/gre/test-takers/general-test/prepare/content/analytical-writing.html) exam, where prospective graduate students are asked to write essays to judge their analytical abilities, and their scores are later used for graduate admission. \n"
   ]
  },
  {
   "cell_type": "code",
   "execution_count": 6,
   "id": "dc4d6065",
   "metadata": {
    "_kg_hide-input": true,
    "execution": {
     "iopub.execute_input": "2024-06-08T18:04:40.303716Z",
     "iopub.status.busy": "2024-06-08T18:04:40.303443Z",
     "iopub.status.idle": "2024-06-08T18:04:41.042982Z",
     "shell.execute_reply": "2024-06-08T18:04:41.042189Z"
    },
    "papermill": {
     "duration": 0.754487,
     "end_time": "2024-06-08T18:04:41.045450",
     "exception": false,
     "start_time": "2024-06-08T18:04:40.290963",
     "status": "completed"
    },
    "tags": []
   },
   "outputs": [],
   "source": [
    "# Load data\n",
    "df = pd.read_csv(f'{BASE_PATH}/train.csv')  # Read CSV file into a DataFrame"
   ]
  },
  {
   "cell_type": "code",
   "execution_count": 7,
   "id": "5e98b459",
   "metadata": {
    "execution": {
     "iopub.execute_input": "2024-06-08T18:04:41.071653Z",
     "iopub.status.busy": "2024-06-08T18:04:41.071354Z",
     "iopub.status.idle": "2024-06-08T18:04:41.088953Z",
     "shell.execute_reply": "2024-06-08T18:04:41.088063Z"
    },
    "papermill": {
     "duration": 0.032952,
     "end_time": "2024-06-08T18:04:41.091099",
     "exception": false,
     "start_time": "2024-06-08T18:04:41.058147",
     "status": "completed"
    },
    "tags": []
   },
   "outputs": [
    {
     "name": "stdout",
     "output_type": "stream",
     "text": [
      "# Train Data: 17,307\n"
     ]
    },
    {
     "data": {
      "text/html": [
       "<div>\n",
       "<style scoped>\n",
       "    .dataframe tbody tr th:only-of-type {\n",
       "        vertical-align: middle;\n",
       "    }\n",
       "\n",
       "    .dataframe tbody tr th {\n",
       "        vertical-align: top;\n",
       "    }\n",
       "\n",
       "    .dataframe thead th {\n",
       "        text-align: right;\n",
       "    }\n",
       "</style>\n",
       "<table border=\"1\" class=\"dataframe\">\n",
       "  <thead>\n",
       "    <tr style=\"text-align: right;\">\n",
       "      <th></th>\n",
       "      <th>essay_id</th>\n",
       "      <th>full_text</th>\n",
       "      <th>score</th>\n",
       "    </tr>\n",
       "  </thead>\n",
       "  <tbody>\n",
       "    <tr>\n",
       "      <th>0</th>\n",
       "      <td>000d118</td>\n",
       "      <td>Many people have car where they live. The thing they don't know is that when you use a car alot of thing can happen like you can get in accidet or the smoke that the car has is bad to breath on if someone is walk but in VAUBAN,Germany they dont have that proble because 70 percent of vauban's families do not own cars,and 57 percent sold a car to move there. Street parkig ,driveways and home garages are forbidden on the outskirts of freiburd that near the French and Swiss borders. You probaly won't see a car in Vauban's streets because they are completely \"car free\" but If some that lives in VAUBAN that owns a car ownership is allowed,but there are only two places that you can park a large garages at the edge of the development,where a car owner buys a space but it not cheap to buy one they sell the space for you car for $40,000 along with a home. The vauban people completed this in 2006 ,they said that this an example of a growing trend in Europe,The untile states and some where else are suburban life from auto use this is called \"smart planning\". The current efforts to drastically reduce greenhouse gas emissions from tailes the passengee cars are responsible for 12 percent of greenhouse gas emissions in Europe and up to 50 percent in some car intensive in the United States. I honeslty think that good idea that they did that is Vaudan because that makes cities denser and better for walking and in VAUBAN there are 5,500 residents within a rectangular square mile. In the artical David Gold berg said that \"All of our development since World war 2 has been centered on the cars,and that will have to change\" and i think that was very true what David Gold said because alot thing we need cars to do we can go anyway were with out cars beacuse some people are a very lazy to walk to place thats why they alot of people use car and i think that it was a good idea that that they did that in VAUBAN so people can see how we really don't need car to go to place from place because we can walk from were we need to go or we can ride bycles with out the use of a car. It good that they are doing that if you thik about your help the earth in way and thats a very good thing to. In the United states ,the Environmental protection Agency is promoting what is called \"car reduced\"communtunties,and the legislators are starting to act,if cautiously. Maany experts expect pubic transport serving suburbs to play a much larger role in a new six years federal transportation bill to approved this year. In previous bill,80 percent of appropriations have by law gone to highways and only 20 percent to other transports. There many good reason why they should do this.</td>\n",
       "      <td>3</td>\n",
       "    </tr>\n",
       "    <tr>\n",
       "      <th>1</th>\n",
       "      <td>000fe60</td>\n",
       "      <td>I am a scientist at NASA that is discussing the \"face\" on mars. I will be explaining how the \"face\" is a land form. By sharing my information about this isue i will tell you just that.\\n\\nFirst off, how could it be a martions drawing. There is no plant life on mars as of rite now that we know of, which means so far as we know it is not possible for any type of life. That explains how it could not be made by martians. Also why and how would a martion build a face so big. It just does not make any since that a martian did this.\\n\\nNext, why it is a landform. There are many landforms that are weird here in America, and there is also landforms all around the whole Earth. Many of them look like something we can relate to like a snake a turtle a human... So if there are landforms on earth dont you think landforms are on mars to? Of course! why not? It's just unique that the landform on Mars looks like a human face. Also if there was martians and they were trying to get our attention dont you think we would have saw one by now?\\n\\nFinaly, why you should listen to me. You should listen to me because i am a member of NASA and i've been dealing with all of this stuff that were talking about and people who say martians did this have no relation with NASA and have never worked with anything to relate to this landform. One last thing is that everyone working at NASA says the same thing i say, that the \"face\" is just a landform.\\n\\nTo sum all this up the \"face\" on mars is a landform but others would like to beleive it's a martian sculpture. Which every one that works at NASA says it's a landform and they are all the ones working on the planet and taking pictures.</td>\n",
       "      <td>3</td>\n",
       "    </tr>\n",
       "  </tbody>\n",
       "</table>\n",
       "</div>"
      ],
      "text/plain": [
       "  essay_id  \\\n",
       "0  000d118   \n",
       "1  000fe60   \n",
       "\n",
       "                                                                                                                                                                                                                                                                                                                                                                                                                                                                                                                                                                                                                                                                                                                                                                                                                                                                                                                                                                                                                                                                                                                                                                                                                                                                                                                                                                                                                                                                                                                                                                                                                                                                                                                                                                                                                                                                                                                                                                                                                                                                                                                                                                                                                                                                                                                                                                                                                                                                                                                                                                                                                                                                                                                                                                               full_text  \\\n",
       "0  Many people have car where they live. The thing they don't know is that when you use a car alot of thing can happen like you can get in accidet or the smoke that the car has is bad to breath on if someone is walk but in VAUBAN,Germany they dont have that proble because 70 percent of vauban's families do not own cars,and 57 percent sold a car to move there. Street parkig ,driveways and home garages are forbidden on the outskirts of freiburd that near the French and Swiss borders. You probaly won't see a car in Vauban's streets because they are completely \"car free\" but If some that lives in VAUBAN that owns a car ownership is allowed,but there are only two places that you can park a large garages at the edge of the development,where a car owner buys a space but it not cheap to buy one they sell the space for you car for $40,000 along with a home. The vauban people completed this in 2006 ,they said that this an example of a growing trend in Europe,The untile states and some where else are suburban life from auto use this is called \"smart planning\". The current efforts to drastically reduce greenhouse gas emissions from tailes the passengee cars are responsible for 12 percent of greenhouse gas emissions in Europe and up to 50 percent in some car intensive in the United States. I honeslty think that good idea that they did that is Vaudan because that makes cities denser and better for walking and in VAUBAN there are 5,500 residents within a rectangular square mile. In the artical David Gold berg said that \"All of our development since World war 2 has been centered on the cars,and that will have to change\" and i think that was very true what David Gold said because alot thing we need cars to do we can go anyway were with out cars beacuse some people are a very lazy to walk to place thats why they alot of people use car and i think that it was a good idea that that they did that in VAUBAN so people can see how we really don't need car to go to place from place because we can walk from were we need to go or we can ride bycles with out the use of a car. It good that they are doing that if you thik about your help the earth in way and thats a very good thing to. In the United states ,the Environmental protection Agency is promoting what is called \"car reduced\"communtunties,and the legislators are starting to act,if cautiously. Maany experts expect pubic transport serving suburbs to play a much larger role in a new six years federal transportation bill to approved this year. In previous bill,80 percent of appropriations have by law gone to highways and only 20 percent to other transports. There many good reason why they should do this.       \n",
       "1                                                                                                                                                                                                                                                                                                                                                                                                                                                                                                                                                                                                                                                                                                                                                                                                                                                                                                                                                                                                                                          I am a scientist at NASA that is discussing the \"face\" on mars. I will be explaining how the \"face\" is a land form. By sharing my information about this isue i will tell you just that.\\n\\nFirst off, how could it be a martions drawing. There is no plant life on mars as of rite now that we know of, which means so far as we know it is not possible for any type of life. That explains how it could not be made by martians. Also why and how would a martion build a face so big. It just does not make any since that a martian did this.\\n\\nNext, why it is a landform. There are many landforms that are weird here in America, and there is also landforms all around the whole Earth. Many of them look like something we can relate to like a snake a turtle a human... So if there are landforms on earth dont you think landforms are on mars to? Of course! why not? It's just unique that the landform on Mars looks like a human face. Also if there was martians and they were trying to get our attention dont you think we would have saw one by now?\\n\\nFinaly, why you should listen to me. You should listen to me because i am a member of NASA and i've been dealing with all of this stuff that were talking about and people who say martians did this have no relation with NASA and have never worked with anything to relate to this landform. One last thing is that everyone working at NASA says the same thing i say, that the \"face\" is just a landform.\\n\\nTo sum all this up the \"face\" on mars is a landform but others would like to beleive it's a martian sculpture. Which every one that works at NASA says it's a landform and they are all the ones working on the planet and taking pictures.   \n",
       "\n",
       "   score  \n",
       "0      3  \n",
       "1      3  "
      ]
     },
     "execution_count": 7,
     "metadata": {},
     "output_type": "execute_result"
    }
   ],
   "source": [
    "# Display information about the train data\n",
    "print(\"# Train Data: {:,}\".format(len(df)))\n",
    "# Set the display options to show the maximum column width\n",
    "pd.set_option('display.max_colwidth', None)\n",
    "\n",
    "#display(df['full_text'])\n",
    "df.head(2)"
   ]
  },
  {
   "cell_type": "markdown",
   "id": "fc2dbe5f",
   "metadata": {
    "papermill": {
     "duration": 0.012381,
     "end_time": "2024-06-08T18:04:41.116102",
     "exception": false,
     "start_time": "2024-06-08T18:04:41.103721",
     "status": "completed"
    },
    "tags": []
   },
   "source": [
    "Here we set ourselves up to use BERT-mini:"
   ]
  },
  {
   "cell_type": "code",
   "execution_count": 8,
   "id": "c76e314e",
   "metadata": {
    "execution": {
     "iopub.execute_input": "2024-06-08T18:04:41.143297Z",
     "iopub.status.busy": "2024-06-08T18:04:41.142934Z",
     "iopub.status.idle": "2024-06-08T18:04:42.038683Z",
     "shell.execute_reply": "2024-06-08T18:04:42.037708Z"
    },
    "papermill": {
     "duration": 0.912461,
     "end_time": "2024-06-08T18:04:42.041144",
     "exception": false,
     "start_time": "2024-06-08T18:04:41.128683",
     "status": "completed"
    },
    "tags": []
   },
   "outputs": [
    {
     "name": "stderr",
     "output_type": "stream",
     "text": [
      "/opt/conda/lib/python3.10/site-packages/torch/_utils.py:831: UserWarning: TypedStorage is deprecated. It will be removed in the future and UntypedStorage will be the only storage class. This should only matter to you if you are using storages directly.  To access UntypedStorage directly, use tensor.untyped_storage() instead of tensor.storage()\n",
      "  return self.fget.__get__(instance, owner)()\n"
     ]
    }
   ],
   "source": [
    "bert = AutoModel.from_pretrained(CFG.weights_name)\n",
    "\n",
    "bert_tokenizer = AutoTokenizer.from_pretrained(CFG.weights_name)"
   ]
  },
  {
   "cell_type": "code",
   "execution_count": 9,
   "id": "0f500b7b",
   "metadata": {
    "execution": {
     "iopub.execute_input": "2024-06-08T18:04:42.067807Z",
     "iopub.status.busy": "2024-06-08T18:04:42.067484Z",
     "iopub.status.idle": "2024-06-08T18:04:42.072184Z",
     "shell.execute_reply": "2024-06-08T18:04:42.071328Z"
    },
    "papermill": {
     "duration": 0.020562,
     "end_time": "2024-06-08T18:04:42.074116",
     "exception": false,
     "start_time": "2024-06-08T18:04:42.053554",
     "status": "completed"
    },
    "tags": []
   },
   "outputs": [],
   "source": [
    "def clean_text(text):\n",
    "    # Replace \"\\n\\n\" with a single space\n",
    "    cleaned_text = re.sub(r'\\n\\n', ' ', text)\n",
    "    # Replace \"\\'\" with \"'\"\n",
    "    cleaned_text = re.sub(r\"\\\\'\", \"'\", cleaned_text)\n",
    "    return cleaned_text"
   ]
  },
  {
   "cell_type": "code",
   "execution_count": 10,
   "id": "6de8f7a8",
   "metadata": {
    "execution": {
     "iopub.execute_input": "2024-06-08T18:04:42.100599Z",
     "iopub.status.busy": "2024-06-08T18:04:42.100336Z",
     "iopub.status.idle": "2024-06-08T18:04:42.224514Z",
     "shell.execute_reply": "2024-06-08T18:04:42.223775Z"
    },
    "papermill": {
     "duration": 0.139032,
     "end_time": "2024-06-08T18:04:42.226487",
     "exception": false,
     "start_time": "2024-06-08T18:04:42.087455",
     "status": "completed"
    },
    "tags": []
   },
   "outputs": [],
   "source": [
    "df[\"cleaned_full_text\"]=df[\"full_text\"].apply(lambda x:clean_text(x))"
   ]
  },
  {
   "cell_type": "markdown",
   "id": "5607d427",
   "metadata": {
    "papermill": {
     "duration": 0.01173,
     "end_time": "2024-06-08T18:04:42.251061",
     "exception": false,
     "start_time": "2024-06-08T18:04:42.239331",
     "status": "completed"
    },
    "tags": []
   },
   "source": [
    "# 🔪 | Data Split\n",
    "\n",
    "In the code snippet provided below, we will divide the existing **train** data into folds using a stratification of `label` column."
   ]
  },
  {
   "cell_type": "code",
   "execution_count": 11,
   "id": "c25052c0",
   "metadata": {
    "execution": {
     "iopub.execute_input": "2024-06-08T18:04:42.276339Z",
     "iopub.status.busy": "2024-06-08T18:04:42.275927Z",
     "iopub.status.idle": "2024-06-08T18:04:42.300638Z",
     "shell.execute_reply": "2024-06-08T18:04:42.299904Z"
    },
    "papermill": {
     "duration": 0.039659,
     "end_time": "2024-06-08T18:04:42.302628",
     "exception": false,
     "start_time": "2024-06-08T18:04:42.262969",
     "status": "completed"
    },
    "tags": []
   },
   "outputs": [],
   "source": [
    "train_df, valid_df = train_test_split(df, test_size=0.2, stratify=df[\"score\"])"
   ]
  },
  {
   "cell_type": "code",
   "execution_count": 12,
   "id": "f9a4a2b6",
   "metadata": {
    "execution": {
     "iopub.execute_input": "2024-06-08T18:04:42.328343Z",
     "iopub.status.busy": "2024-06-08T18:04:42.328084Z",
     "iopub.status.idle": "2024-06-08T18:04:42.337834Z",
     "shell.execute_reply": "2024-06-08T18:04:42.336972Z"
    },
    "papermill": {
     "duration": 0.024727,
     "end_time": "2024-06-08T18:04:42.339838",
     "exception": false,
     "start_time": "2024-06-08T18:04:42.315111",
     "status": "completed"
    },
    "tags": []
   },
   "outputs": [
    {
     "data": {
      "text/html": [
       "<div>\n",
       "<style scoped>\n",
       "    .dataframe tbody tr th:only-of-type {\n",
       "        vertical-align: middle;\n",
       "    }\n",
       "\n",
       "    .dataframe tbody tr th {\n",
       "        vertical-align: top;\n",
       "    }\n",
       "\n",
       "    .dataframe thead th {\n",
       "        text-align: right;\n",
       "    }\n",
       "</style>\n",
       "<table border=\"1\" class=\"dataframe\">\n",
       "  <thead>\n",
       "    <tr style=\"text-align: right;\">\n",
       "      <th></th>\n",
       "      <th>essay_id</th>\n",
       "      <th>full_text</th>\n",
       "      <th>score</th>\n",
       "      <th>cleaned_full_text</th>\n",
       "    </tr>\n",
       "  </thead>\n",
       "  <tbody>\n",
       "    <tr>\n",
       "      <th>6568</th>\n",
       "      <td>6226875</td>\n",
       "      <td>In the article said that is dangerous to explore Venus because it has a thick atmosphere of 97 percent carbon dioxide and the highly corrosive sulfuric acid clouds it has over 800 degrees fahrenheit and the atmospheric presssure is 90 times greater that we experience, Venus has the hottest surface temperature of any planet in our solar system, it has many natural disasters like erupting volcanoes, powerful eartquakes and frequent lightning strikes, Venus is the planet that is some how similar to the earth, they can go there but it only have limited insight, the author supporsts his idea telling us many details of how Venus is dangerous to explore and how the NASA trys to explore inventing many objects that are going to work inside the planet, this planet is the closest planet to earth that is why they really want to explore it, in conclusion i think he really support this idea because in every paragraph he tells us how dangerous and how is different to the earth,to explore this planet they have to invent objects that can work there because this melts every type of technology they want to use , explore this planet is very challenging.</td>\n",
       "      <td>2</td>\n",
       "      <td>In the article said that is dangerous to explore Venus because it has a thick atmosphere of 97 percent carbon dioxide and the highly corrosive sulfuric acid clouds it has over 800 degrees fahrenheit and the atmospheric presssure is 90 times greater that we experience, Venus has the hottest surface temperature of any planet in our solar system, it has many natural disasters like erupting volcanoes, powerful eartquakes and frequent lightning strikes, Venus is the planet that is some how similar to the earth, they can go there but it only have limited insight, the author supporsts his idea telling us many details of how Venus is dangerous to explore and how the NASA trys to explore inventing many objects that are going to work inside the planet, this planet is the closest planet to earth that is why they really want to explore it, in conclusion i think he really support this idea because in every paragraph he tells us how dangerous and how is different to the earth,to explore this planet they have to invent objects that can work there because this melts every type of technology they want to use , explore this planet is very challenging.</td>\n",
       "    </tr>\n",
       "    <tr>\n",
       "      <th>1215</th>\n",
       "      <td>1343a02</td>\n",
       "      <td>Dear fellow citizens I think you should join the United Nations Relief and Rehabilitation Administrarion. I think you should join becase it is a very nice thing to do. You also get to take care of animals and food on a boat. By doing this you can help countries in need.\\n\\nMany people say that this is a boring job or useless but if they would try it they might see actually how good of a job it is. If you have this job you get to travel the world. You also get to see many outstanding places around the world. You get to explore oceans. While on the boat when we don't have any animals we play games like baseball, boxing, and table-tennis. Doing this beats sitting in a chair behind a desk filling out papers but I guess some people would rather do that then explore.\\n\\nIf you are looking for a helping and traveling job this is the one for you. Please go for this job traveling the world instead of sitting in an office building. Many people will say that this job is too much hard work. It does take some hard work but that is good for the body. I hope to see you on the next job.</td>\n",
       "      <td>3</td>\n",
       "      <td>Dear fellow citizens I think you should join the United Nations Relief and Rehabilitation Administrarion. I think you should join becase it is a very nice thing to do. You also get to take care of animals and food on a boat. By doing this you can help countries in need. Many people say that this is a boring job or useless but if they would try it they might see actually how good of a job it is. If you have this job you get to travel the world. You also get to see many outstanding places around the world. You get to explore oceans. While on the boat when we don't have any animals we play games like baseball, boxing, and table-tennis. Doing this beats sitting in a chair behind a desk filling out papers but I guess some people would rather do that then explore. If you are looking for a helping and traveling job this is the one for you. Please go for this job traveling the world instead of sitting in an office building. Many people will say that this job is too much hard work. It does take some hard work but that is good for the body. I hope to see you on the next job.</td>\n",
       "    </tr>\n",
       "  </tbody>\n",
       "</table>\n",
       "</div>"
      ],
      "text/plain": [
       "     essay_id  \\\n",
       "6568  6226875   \n",
       "1215  1343a02   \n",
       "\n",
       "                                                                                                                                                                                                                                                                                                                                                                                                                                                                                                                                                                                                                                                                                                                                                                                                                                                                                                                                                                                                                                                                                                                                                                                            full_text  \\\n",
       "6568  In the article said that is dangerous to explore Venus because it has a thick atmosphere of 97 percent carbon dioxide and the highly corrosive sulfuric acid clouds it has over 800 degrees fahrenheit and the atmospheric presssure is 90 times greater that we experience, Venus has the hottest surface temperature of any planet in our solar system, it has many natural disasters like erupting volcanoes, powerful eartquakes and frequent lightning strikes, Venus is the planet that is some how similar to the earth, they can go there but it only have limited insight, the author supporsts his idea telling us many details of how Venus is dangerous to explore and how the NASA trys to explore inventing many objects that are going to work inside the planet, this planet is the closest planet to earth that is why they really want to explore it, in conclusion i think he really support this idea because in every paragraph he tells us how dangerous and how is different to the earth,to explore this planet they have to invent objects that can work there because this melts every type of technology they want to use , explore this planet is very challenging.   \n",
       "1215                                                                 Dear fellow citizens I think you should join the United Nations Relief and Rehabilitation Administrarion. I think you should join becase it is a very nice thing to do. You also get to take care of animals and food on a boat. By doing this you can help countries in need.\\n\\nMany people say that this is a boring job or useless but if they would try it they might see actually how good of a job it is. If you have this job you get to travel the world. You also get to see many outstanding places around the world. You get to explore oceans. While on the boat when we don't have any animals we play games like baseball, boxing, and table-tennis. Doing this beats sitting in a chair behind a desk filling out papers but I guess some people would rather do that then explore.\\n\\nIf you are looking for a helping and traveling job this is the one for you. Please go for this job traveling the world instead of sitting in an office building. Many people will say that this job is too much hard work. It does take some hard work but that is good for the body. I hope to see you on the next job.    \n",
       "\n",
       "      score  \\\n",
       "6568      2   \n",
       "1215      3   \n",
       "\n",
       "                                                                                                                                                                                                                                                                                                                                                                                                                                                                                                                                                                                                                                                                                                                                                                                                                                                                                                                                                                                                                                                                                                                                                                                    cleaned_full_text  \n",
       "6568  In the article said that is dangerous to explore Venus because it has a thick atmosphere of 97 percent carbon dioxide and the highly corrosive sulfuric acid clouds it has over 800 degrees fahrenheit and the atmospheric presssure is 90 times greater that we experience, Venus has the hottest surface temperature of any planet in our solar system, it has many natural disasters like erupting volcanoes, powerful eartquakes and frequent lightning strikes, Venus is the planet that is some how similar to the earth, they can go there but it only have limited insight, the author supporsts his idea telling us many details of how Venus is dangerous to explore and how the NASA trys to explore inventing many objects that are going to work inside the planet, this planet is the closest planet to earth that is why they really want to explore it, in conclusion i think he really support this idea because in every paragraph he tells us how dangerous and how is different to the earth,to explore this planet they have to invent objects that can work there because this melts every type of technology they want to use , explore this planet is very challenging.  \n",
       "1215                                                                       Dear fellow citizens I think you should join the United Nations Relief and Rehabilitation Administrarion. I think you should join becase it is a very nice thing to do. You also get to take care of animals and food on a boat. By doing this you can help countries in need. Many people say that this is a boring job or useless but if they would try it they might see actually how good of a job it is. If you have this job you get to travel the world. You also get to see many outstanding places around the world. You get to explore oceans. While on the boat when we don't have any animals we play games like baseball, boxing, and table-tennis. Doing this beats sitting in a chair behind a desk filling out papers but I guess some people would rather do that then explore. If you are looking for a helping and traveling job this is the one for you. Please go for this job traveling the world instead of sitting in an office building. Many people will say that this job is too much hard work. It does take some hard work but that is good for the body. I hope to see you on the next job.   "
      ]
     },
     "execution_count": 12,
     "metadata": {},
     "output_type": "execute_result"
    }
   ],
   "source": [
    "train_df.head(2)"
   ]
  },
  {
   "cell_type": "markdown",
   "id": "f0fd6b3e",
   "metadata": {
    "papermill": {
     "duration": 0.012188,
     "end_time": "2024-06-08T18:04:42.364350",
     "exception": false,
     "start_time": "2024-06-08T18:04:42.352162",
     "status": "completed"
    },
    "tags": []
   },
   "source": [
    "# 🧂 | Process Labels for Ordinal Regression\n",
    "\n",
    "**What is Ordinal Regression?**\n",
    "Ordinal regression is a type of supervised learning algorithm used to predict an ordinal or ranked dependent variable. Unlike in typical classification problems where the target variable is categorical, in ordinal regression the target variable has a ordering or ranking. It is also different from typical regression, where the target variable is continuous. In ordinal regression, the target variable has a discrete, ordered set of values, such as levels of satisfaction or performance grades.\n",
    "\n",
    "**Why do we need it?**\n",
    "Ordinal regression is useful when the target variable (in our competition, the `score` of an essay) represents a ranking or order. Specifically, ordinal regression can capture the inherent order in the target variable, which standard classification models may not be able to do effectively.\n",
    "\n",
    "For Ordinal Regression, we have to transform the labels, which is different from typical classification or regression. The following code will convert essay scores to an ordinal matrix, which will be used as the ground truth for calculating the loss."
   ]
  },
  {
   "cell_type": "code",
   "execution_count": 13,
   "id": "280a47e1",
   "metadata": {
    "execution": {
     "iopub.execute_input": "2024-06-08T18:04:42.390015Z",
     "iopub.status.busy": "2024-06-08T18:04:42.389732Z",
     "iopub.status.idle": "2024-06-08T18:04:42.397875Z",
     "shell.execute_reply": "2024-06-08T18:04:42.397061Z"
    },
    "papermill": {
     "duration": 0.023053,
     "end_time": "2024-06-08T18:04:42.399689",
     "exception": false,
     "start_time": "2024-06-08T18:04:42.376636",
     "status": "completed"
    },
    "tags": []
   },
   "outputs": [],
   "source": [
    "def to_ordinal(y, num_classes=None, dtype=\"int\"):\n",
    "    \"\"\"Converts a class vector (integers) to an ordinal regression matrix.\n",
    "\n",
    "    This utility encodes class vector to ordinal regression/classification\n",
    "    matrix where each sample is indicated by a row and rank of that sample is\n",
    "    indicated by number of ones in that row.\n",
    "\n",
    "    Args:\n",
    "        y: Array-like with class values to be converted into a matrix\n",
    "            (integers from 0 to `num_classes - 1`).\n",
    "        num_classes: Total number of classes. If `None`, this would be inferred\n",
    "            as `max(y) + 1`.\n",
    "        dtype: The data type expected by the input. Default: `'float32'`.\n",
    "\n",
    "    Returns:\n",
    "        An ordinal regression matrix representation of the input as a NumPy\n",
    "        array. The class axis is placed last.\n",
    "    \"\"\"\n",
    "    y = np.array(y, dtype=\"int\")\n",
    "    input_shape = y.shape\n",
    "\n",
    "    # Shrink the last dimension if the shape is (..., 1).\n",
    "    if input_shape and input_shape[-1] == 1 and len(input_shape) > 1:\n",
    "        input_shape = tuple(input_shape[:-1])\n",
    "\n",
    "    y = y.reshape(-1)\n",
    "    if not num_classes:\n",
    "        num_classes = np.max(y) + 1\n",
    "    n = y.shape[0]\n",
    "    range_values = np.arange(num_classes - 1)\n",
    "    range_values = np.tile(np.expand_dims(range_values, 0), [n, 1])\n",
    "    ordinal = np.zeros((n, num_classes - 1), dtype=dtype)\n",
    "    ordinal[range_values < np.expand_dims(y, -1)] = 1\n",
    "    output_shape = input_shape + (num_classes - 1,)\n",
    "    ordinal = np.reshape(ordinal, output_shape)\n",
    "    return ordinal"
   ]
  },
  {
   "cell_type": "markdown",
   "id": "2c06effb",
   "metadata": {
    "papermill": {
     "duration": 0.012135,
     "end_time": "2024-06-08T18:04:42.424032",
     "exception": false,
     "start_time": "2024-06-08T18:04:42.411897",
     "status": "completed"
    },
    "tags": []
   },
   "source": [
    "## Label Conversion"
   ]
  },
  {
   "cell_type": "code",
   "execution_count": 14,
   "id": "a7e2a71e",
   "metadata": {
    "execution": {
     "iopub.execute_input": "2024-06-08T18:04:42.449881Z",
     "iopub.status.busy": "2024-06-08T18:04:42.449610Z",
     "iopub.status.idle": "2024-06-08T18:04:42.464733Z",
     "shell.execute_reply": "2024-06-08T18:04:42.464029Z"
    },
    "papermill": {
     "duration": 0.030252,
     "end_time": "2024-06-08T18:04:42.466640",
     "exception": false,
     "start_time": "2024-06-08T18:04:42.436388",
     "status": "completed"
    },
    "tags": []
   },
   "outputs": [],
   "source": [
    "train_df[\"label\"] = to_ordinal(train_df.score.values).tolist()\n",
    "valid_df[\"label\"] = to_ordinal(valid_df.score.values).tolist()"
   ]
  },
  {
   "cell_type": "code",
   "execution_count": 15,
   "id": "8f204f32",
   "metadata": {
    "execution": {
     "iopub.execute_input": "2024-06-08T18:04:42.492432Z",
     "iopub.status.busy": "2024-06-08T18:04:42.492175Z",
     "iopub.status.idle": "2024-06-08T18:04:42.503609Z",
     "shell.execute_reply": "2024-06-08T18:04:42.502755Z"
    },
    "papermill": {
     "duration": 0.026551,
     "end_time": "2024-06-08T18:04:42.505482",
     "exception": false,
     "start_time": "2024-06-08T18:04:42.478931",
     "status": "completed"
    },
    "tags": []
   },
   "outputs": [
    {
     "data": {
      "text/html": [
       "<div>\n",
       "<style scoped>\n",
       "    .dataframe tbody tr th:only-of-type {\n",
       "        vertical-align: middle;\n",
       "    }\n",
       "\n",
       "    .dataframe tbody tr th {\n",
       "        vertical-align: top;\n",
       "    }\n",
       "\n",
       "    .dataframe thead th {\n",
       "        text-align: right;\n",
       "    }\n",
       "</style>\n",
       "<table border=\"1\" class=\"dataframe\">\n",
       "  <thead>\n",
       "    <tr style=\"text-align: right;\">\n",
       "      <th></th>\n",
       "      <th>essay_id</th>\n",
       "      <th>full_text</th>\n",
       "      <th>score</th>\n",
       "      <th>cleaned_full_text</th>\n",
       "      <th>label</th>\n",
       "    </tr>\n",
       "  </thead>\n",
       "  <tbody>\n",
       "    <tr>\n",
       "      <th>6568</th>\n",
       "      <td>6226875</td>\n",
       "      <td>In the article said that is dangerous to explore Venus because it has a thick atmosphere of 97 percent carbon dioxide and the highly corrosive sulfuric acid clouds it has over 800 degrees fahrenheit and the atmospheric presssure is 90 times greater that we experience, Venus has the hottest surface temperature of any planet in our solar system, it has many natural disasters like erupting volcanoes, powerful eartquakes and frequent lightning strikes, Venus is the planet that is some how similar to the earth, they can go there but it only have limited insight, the author supporsts his idea telling us many details of how Venus is dangerous to explore and how the NASA trys to explore inventing many objects that are going to work inside the planet, this planet is the closest planet to earth that is why they really want to explore it, in conclusion i think he really support this idea because in every paragraph he tells us how dangerous and how is different to the earth,to explore this planet they have to invent objects that can work there because this melts every type of technology they want to use , explore this planet is very challenging.</td>\n",
       "      <td>2</td>\n",
       "      <td>In the article said that is dangerous to explore Venus because it has a thick atmosphere of 97 percent carbon dioxide and the highly corrosive sulfuric acid clouds it has over 800 degrees fahrenheit and the atmospheric presssure is 90 times greater that we experience, Venus has the hottest surface temperature of any planet in our solar system, it has many natural disasters like erupting volcanoes, powerful eartquakes and frequent lightning strikes, Venus is the planet that is some how similar to the earth, they can go there but it only have limited insight, the author supporsts his idea telling us many details of how Venus is dangerous to explore and how the NASA trys to explore inventing many objects that are going to work inside the planet, this planet is the closest planet to earth that is why they really want to explore it, in conclusion i think he really support this idea because in every paragraph he tells us how dangerous and how is different to the earth,to explore this planet they have to invent objects that can work there because this melts every type of technology they want to use , explore this planet is very challenging.</td>\n",
       "      <td>[1, 1, 0, 0, 0, 0]</td>\n",
       "    </tr>\n",
       "    <tr>\n",
       "      <th>1215</th>\n",
       "      <td>1343a02</td>\n",
       "      <td>Dear fellow citizens I think you should join the United Nations Relief and Rehabilitation Administrarion. I think you should join becase it is a very nice thing to do. You also get to take care of animals and food on a boat. By doing this you can help countries in need.\\n\\nMany people say that this is a boring job or useless but if they would try it they might see actually how good of a job it is. If you have this job you get to travel the world. You also get to see many outstanding places around the world. You get to explore oceans. While on the boat when we don't have any animals we play games like baseball, boxing, and table-tennis. Doing this beats sitting in a chair behind a desk filling out papers but I guess some people would rather do that then explore.\\n\\nIf you are looking for a helping and traveling job this is the one for you. Please go for this job traveling the world instead of sitting in an office building. Many people will say that this job is too much hard work. It does take some hard work but that is good for the body. I hope to see you on the next job.</td>\n",
       "      <td>3</td>\n",
       "      <td>Dear fellow citizens I think you should join the United Nations Relief and Rehabilitation Administrarion. I think you should join becase it is a very nice thing to do. You also get to take care of animals and food on a boat. By doing this you can help countries in need. Many people say that this is a boring job or useless but if they would try it they might see actually how good of a job it is. If you have this job you get to travel the world. You also get to see many outstanding places around the world. You get to explore oceans. While on the boat when we don't have any animals we play games like baseball, boxing, and table-tennis. Doing this beats sitting in a chair behind a desk filling out papers but I guess some people would rather do that then explore. If you are looking for a helping and traveling job this is the one for you. Please go for this job traveling the world instead of sitting in an office building. Many people will say that this job is too much hard work. It does take some hard work but that is good for the body. I hope to see you on the next job.</td>\n",
       "      <td>[1, 1, 1, 0, 0, 0]</td>\n",
       "    </tr>\n",
       "  </tbody>\n",
       "</table>\n",
       "</div>"
      ],
      "text/plain": [
       "     essay_id  \\\n",
       "6568  6226875   \n",
       "1215  1343a02   \n",
       "\n",
       "                                                                                                                                                                                                                                                                                                                                                                                                                                                                                                                                                                                                                                                                                                                                                                                                                                                                                                                                                                                                                                                                                                                                                                                            full_text  \\\n",
       "6568  In the article said that is dangerous to explore Venus because it has a thick atmosphere of 97 percent carbon dioxide and the highly corrosive sulfuric acid clouds it has over 800 degrees fahrenheit and the atmospheric presssure is 90 times greater that we experience, Venus has the hottest surface temperature of any planet in our solar system, it has many natural disasters like erupting volcanoes, powerful eartquakes and frequent lightning strikes, Venus is the planet that is some how similar to the earth, they can go there but it only have limited insight, the author supporsts his idea telling us many details of how Venus is dangerous to explore and how the NASA trys to explore inventing many objects that are going to work inside the planet, this planet is the closest planet to earth that is why they really want to explore it, in conclusion i think he really support this idea because in every paragraph he tells us how dangerous and how is different to the earth,to explore this planet they have to invent objects that can work there because this melts every type of technology they want to use , explore this planet is very challenging.   \n",
       "1215                                                                 Dear fellow citizens I think you should join the United Nations Relief and Rehabilitation Administrarion. I think you should join becase it is a very nice thing to do. You also get to take care of animals and food on a boat. By doing this you can help countries in need.\\n\\nMany people say that this is a boring job or useless but if they would try it they might see actually how good of a job it is. If you have this job you get to travel the world. You also get to see many outstanding places around the world. You get to explore oceans. While on the boat when we don't have any animals we play games like baseball, boxing, and table-tennis. Doing this beats sitting in a chair behind a desk filling out papers but I guess some people would rather do that then explore.\\n\\nIf you are looking for a helping and traveling job this is the one for you. Please go for this job traveling the world instead of sitting in an office building. Many people will say that this job is too much hard work. It does take some hard work but that is good for the body. I hope to see you on the next job.    \n",
       "\n",
       "      score  \\\n",
       "6568      2   \n",
       "1215      3   \n",
       "\n",
       "                                                                                                                                                                                                                                                                                                                                                                                                                                                                                                                                                                                                                                                                                                                                                                                                                                                                                                                                                                                                                                                                                                                                                                                    cleaned_full_text  \\\n",
       "6568  In the article said that is dangerous to explore Venus because it has a thick atmosphere of 97 percent carbon dioxide and the highly corrosive sulfuric acid clouds it has over 800 degrees fahrenheit and the atmospheric presssure is 90 times greater that we experience, Venus has the hottest surface temperature of any planet in our solar system, it has many natural disasters like erupting volcanoes, powerful eartquakes and frequent lightning strikes, Venus is the planet that is some how similar to the earth, they can go there but it only have limited insight, the author supporsts his idea telling us many details of how Venus is dangerous to explore and how the NASA trys to explore inventing many objects that are going to work inside the planet, this planet is the closest planet to earth that is why they really want to explore it, in conclusion i think he really support this idea because in every paragraph he tells us how dangerous and how is different to the earth,to explore this planet they have to invent objects that can work there because this melts every type of technology they want to use , explore this planet is very challenging.   \n",
       "1215                                                                       Dear fellow citizens I think you should join the United Nations Relief and Rehabilitation Administrarion. I think you should join becase it is a very nice thing to do. You also get to take care of animals and food on a boat. By doing this you can help countries in need. Many people say that this is a boring job or useless but if they would try it they might see actually how good of a job it is. If you have this job you get to travel the world. You also get to see many outstanding places around the world. You get to explore oceans. While on the boat when we don't have any animals we play games like baseball, boxing, and table-tennis. Doing this beats sitting in a chair behind a desk filling out papers but I guess some people would rather do that then explore. If you are looking for a helping and traveling job this is the one for you. Please go for this job traveling the world instead of sitting in an office building. Many people will say that this job is too much hard work. It does take some hard work but that is good for the body. I hope to see you on the next job.    \n",
       "\n",
       "                   label  \n",
       "6568  [1, 1, 0, 0, 0, 0]  \n",
       "1215  [1, 1, 1, 0, 0, 0]  "
      ]
     },
     "execution_count": 15,
     "metadata": {},
     "output_type": "execute_result"
    }
   ],
   "source": [
    "train_df.head(2)"
   ]
  },
  {
   "cell_type": "markdown",
   "id": "54956421",
   "metadata": {
    "papermill": {
     "duration": 0.012492,
     "end_time": "2024-06-08T18:04:42.530640",
     "exception": false,
     "start_time": "2024-06-08T18:04:42.518148",
     "status": "completed"
    },
    "tags": []
   },
   "source": [
    "# 🎨 |Data Visualization"
   ]
  },
  {
   "cell_type": "code",
   "execution_count": 16,
   "id": "5c7ffe3d",
   "metadata": {
    "_kg_hide-input": true,
    "execution": {
     "iopub.execute_input": "2024-06-08T18:04:42.556939Z",
     "iopub.status.busy": "2024-06-08T18:04:42.556682Z",
     "iopub.status.idle": "2024-06-08T18:04:43.180892Z",
     "shell.execute_reply": "2024-06-08T18:04:43.179892Z"
    },
    "papermill": {
     "duration": 0.639515,
     "end_time": "2024-06-08T18:04:43.182871",
     "exception": false,
     "start_time": "2024-06-08T18:04:42.543356",
     "status": "completed"
    },
    "tags": []
   },
   "outputs": [
    {
     "data": {
      "image/png": "[encoded data removed]",
      "text/plain": [
       "<Figure size 800x400 with 1 Axes>"
      ]
     },
     "metadata": {},
     "output_type": "display_data"
    },
    {
     "data": {
      "image/png": "[encoded data removed]",
      "text/plain": [
       "<Figure size 800x400 with 1 Axes>"
      ]
     },
     "metadata": {},
     "output_type": "display_data"
    }
   ],
   "source": [
    "# Show distribution of answers using a bar plot\n",
    "plt.figure(figsize=(8, 4))\n",
    "df.score.value_counts().plot.bar(color=[cmap(0.0), cmap(0.25), cmap(0.65), cmap(0.9), cmap(1.0)])\n",
    "plt.xlabel(\"Score\")\n",
    "plt.ylabel(\"Count\")\n",
    "plt.title(\"Score distribution for Train Data\")\n",
    "plt.show()\n",
    "\n",
    "# Show distribution of essay length using a bar plot\n",
    "plt.figure(figsize=(8, 4))\n",
    "df['essay_length'] = df.full_text.map(len)\n",
    "df.essay_length.plot.hist(logy=False, color=cmap(0.9))\n",
    "plt.xlabel(\"Essay Length\")\n",
    "plt.ylabel(\"Count\")\n",
    "plt.title(\"Essay Length distribution for Train Data\")\n",
    "plt.show()"
   ]
  },
  {
   "cell_type": "markdown",
   "id": "20f376e1",
   "metadata": {
    "papermill": {
     "duration": 0.014235,
     "end_time": "2024-06-08T18:04:43.211168",
     "exception": false,
     "start_time": "2024-06-08T18:04:43.196933",
     "status": "completed"
    },
    "tags": []
   },
   "source": [
    "# 🍽️ | Preprocessing\n",
    "\n",
    "**What it does:** The preprocessor takes input strings and transforms them into a dictionary (`token_ids`, `padding_mask`) containing preprocessed tensors. This process starts with tokenization, where input strings are converted into sequences of token IDs.\n",
    "\n",
    "**Why it's important:** Initially, raw text data is complex and challenging for modeling due to its high dimensionality. By converting text into a compact set of tokens, such as transforming `\"The quick brown fox\"` into `[\"the\", \"qu\", \"##ick\", \"br\", \"##own\", \"fox\"]`, we simplify the data. Many models rely on special tokens and additional tensors to understand input. These tokens help divide input and identify padding, among other tasks. Making all sequences the same length through padding boosts computational efficiency, making subsequent steps smoother."
   ]
  },
  {
   "cell_type": "markdown",
   "id": "a04793d4",
   "metadata": {
    "papermill": {
     "duration": 0.013743,
     "end_time": "2024-06-08T18:04:43.239854",
     "exception": false,
     "start_time": "2024-06-08T18:04:43.226111",
     "status": "completed"
    },
    "tags": []
   },
   "source": [
    "### Batch tokenization\n",
    "use the batch_encode_plus method for bert_tokenizer to tokenize a list of strings."
   ]
  },
  {
   "cell_type": "code",
   "execution_count": 17,
   "id": "7057f2e3",
   "metadata": {
    "execution": {
     "iopub.execute_input": "2024-06-08T18:04:43.309352Z",
     "iopub.status.busy": "2024-06-08T18:04:43.308980Z",
     "iopub.status.idle": "2024-06-08T18:04:43.314850Z",
     "shell.execute_reply": "2024-06-08T18:04:43.314024Z"
    },
    "papermill": {
     "duration": 0.023122,
     "end_time": "2024-06-08T18:04:43.316779",
     "exception": false,
     "start_time": "2024-06-08T18:04:43.293657",
     "status": "completed"
    },
    "tags": []
   },
   "outputs": [],
   "source": [
    "def get_batch_token_ids(batch, tokenizer):\n",
    "    \"\"\"Map `batch` to a tensor of ids. The return\n",
    "    value should meet the following specification:\n",
    "\n",
    "    1. The max length should be 512.\n",
    "    2. Examples longer than the max length should be truncated\n",
    "    3. Examples should be padded to the max length for the batch.\n",
    "    4. The special [CLS] should be added to the start and the special\n",
    "       token [SEP] should be added to the end.\n",
    "    5. The attention mask should be returned\n",
    "    6. The return value of each component should be a tensor.\n",
    "\n",
    "    Parameters\n",
    "    ----------\n",
    "    batch: list of str\n",
    "    tokenizer: Hugging Face tokenizer\n",
    "\n",
    "    Returns\n",
    "    -------\n",
    "    dict with at least \"input_ids\" and \"attention_mask\" as keys,\n",
    "    each with Tensor values\n",
    "\n",
    "    \"\"\"\n",
    "    # Encode the concatenated string\n",
    "    encoding = tokenizer.batch_encode_plus(batch, max_length=CFG.sequence_length, padding='max_length',\n",
    "                                     truncation=True, return_tensors='pt', add_special_tokens=True)\n",
    "\n",
    "    return encoding"
   ]
  },
  {
   "cell_type": "markdown",
   "id": "773fe0f5",
   "metadata": {
    "papermill": {
     "duration": 0.013456,
     "end_time": "2024-06-08T18:04:43.344294",
     "exception": false,
     "start_time": "2024-06-08T18:04:43.330838",
     "status": "completed"
    },
    "tags": []
   },
   "source": [
    "### Fine-tuning module\n",
    "1. in the init method, define self.classifier_layer using nn.Sequential\n",
    "2. Complete the forward method."
   ]
  },
  {
   "cell_type": "code",
   "execution_count": 18,
   "id": "26be8ed6",
   "metadata": {
    "execution": {
     "iopub.execute_input": "2024-06-08T18:04:43.373519Z",
     "iopub.status.busy": "2024-06-08T18:04:43.373256Z",
     "iopub.status.idle": "2024-06-08T18:04:43.383220Z",
     "shell.execute_reply": "2024-06-08T18:04:43.382342Z"
    },
    "papermill": {
     "duration": 0.027082,
     "end_time": "2024-06-08T18:04:43.385218",
     "exception": false,
     "start_time": "2024-06-08T18:04:43.358136",
     "status": "completed"
    },
    "tags": []
   },
   "outputs": [],
   "source": [
    "class BertClassifierModule(nn.Module):\n",
    "    def __init__(self,\n",
    "            n_classes,\n",
    "            hidden_activation,\n",
    "            weights_name=CFG.weights_name):\n",
    "        \"\"\"This module loads a Transformer based on  `weights_name`,\n",
    "        puts it in train mode, add a dense layer with activation\n",
    "        function give by `hidden_activation`, and puts a classifier\n",
    "        layer on top of that as the final output. The output of\n",
    "        the dense layer should have the same dimensionality as the\n",
    "        model input.\n",
    "\n",
    "        Parameters\n",
    "        ----------\n",
    "        n_classes : int\n",
    "            Number of classes for the output layer\n",
    "        hidden_activation : torch activation function\n",
    "            e.g., nn.Tanh()\n",
    "        weights_name : str\n",
    "            Name of pretrained model to load from Hugging Face\n",
    "\n",
    "        \"\"\"\n",
    "        super().__init__()\n",
    "        self.n_classes = n_classes\n",
    "        self.weights_name = CFG.weights_name\n",
    "        self.bert = AutoModel.from_pretrained(self.weights_name)\n",
    "        self.bert.train()\n",
    "        self.hidden_activation = hidden_activation\n",
    "        self.hidden_dim = self.bert.embeddings.word_embeddings.embedding_dim\n",
    "        # Add the new parameters here using `nn.Sequential`.\n",
    "        # We can define this layer as\n",
    "        #\n",
    "        #  h = f(cW1 + b_h)\n",
    "        #  y = hW2 + b_y\n",
    "        #\n",
    "        # where c is the final hidden state above the [CLS] token,\n",
    "        # W1 has dimensionality (self.hidden_dim, self.hidden_dim),\n",
    "        # W2 has dimensionality (self.hidden_dim, self.n_classes),\n",
    "        # f is the hidden activation, and we rely on the PyTorch loss\n",
    "        # function to add apply a softmax to y.\n",
    "        self.classifier_layer = None\n",
    "        ##### YOUR CODE HERE\n",
    "       # Define the classifier_layer using nn.Sequential\n",
    "        \n",
    "        self.classifier_layer = nn.Sequential(\n",
    "            nn.Linear(self.hidden_dim,self.hidden_dim),  \n",
    "            self.hidden_activation,      # Activation function\n",
    "            nn.Linear(self.hidden_dim, self.n_classes)\n",
    "        )\n",
    "\n",
    "    def forward(self, indices, mask):\n",
    "        \"\"\"Process `indices` with `mask` by feeding these arguments\n",
    "        to `self.bert` and then feeding the initial hidden state\n",
    "        in `last_hidden_state` to `self.classifier_layer`\n",
    "\n",
    "        Parameters\n",
    "        ----------\n",
    "        indices : tensor.LongTensor of shape (n_batch, k)\n",
    "            Indices into the `self.bert` embedding layer. `n_batch` is\n",
    "            the number of examples and `k` is the sequence length for\n",
    "            this batch\n",
    "        mask : tensor.LongTensor of shape (n_batch, d)\n",
    "            Binary vector indicating which values should be masked.\n",
    "            `n_batch` is the number of examples and `k` is the\n",
    "            sequence length for this batch\n",
    "\n",
    "        Returns\n",
    "        -------\n",
    "        tensor.FloatTensor\n",
    "            Predicted values, shape `(n_batch, self.n_classes)`\n",
    "\n",
    "        \"\"\"\n",
    "        # Process indices and mask through self.bert\n",
    "        outputs = self.bert(indices, attention_mask=mask)\n",
    "\n",
    "        # Extract the [CLS] token representation\n",
    "        #cls_token_representation = outputs.last_hidden_state[:, 0, :]\n",
    "        # Extract all token representations\n",
    "        last_hidden_state = outputs.last_hidden_state\n",
    "\n",
    "        # Apply max-pooling across the sequence dimension (dim=1)\n",
    "        cls_token_representation, _ = torch.max(last_hidden_state, dim=1)\n",
    "\n",
    "        # Apply the classifier layer\n",
    "        logits = self.classifier_layer(cls_token_representation)\n",
    "        return logits"
   ]
  },
  {
   "cell_type": "code",
   "execution_count": 19,
   "id": "b04313f8",
   "metadata": {
    "execution": {
     "iopub.execute_input": "2024-06-08T18:04:43.414100Z",
     "iopub.status.busy": "2024-06-08T18:04:43.413359Z",
     "iopub.status.idle": "2024-06-08T18:04:43.512304Z",
     "shell.execute_reply": "2024-06-08T18:04:43.511314Z"
    },
    "papermill": {
     "duration": 0.115786,
     "end_time": "2024-06-08T18:04:43.514678",
     "exception": false,
     "start_time": "2024-06-08T18:04:43.398892",
     "status": "completed"
    },
    "tags": []
   },
   "outputs": [],
   "source": [
    "bert_module = BertClassifierModule(n_classes=6, hidden_activation=nn.Tanh())"
   ]
  },
  {
   "cell_type": "code",
   "execution_count": 20,
   "id": "b1a1e252",
   "metadata": {
    "execution": {
     "iopub.execute_input": "2024-06-08T18:04:43.544033Z",
     "iopub.status.busy": "2024-06-08T18:04:43.543711Z",
     "iopub.status.idle": "2024-06-08T18:04:43.552260Z",
     "shell.execute_reply": "2024-06-08T18:04:43.551405Z"
    },
    "papermill": {
     "duration": 0.025164,
     "end_time": "2024-06-08T18:04:43.554134",
     "exception": false,
     "start_time": "2024-06-08T18:04:43.528970",
     "status": "completed"
    },
    "tags": []
   },
   "outputs": [],
   "source": [
    "class BertClassifier(TorchShallowNeuralClassifier):\n",
    "    def __init__(self, weights_name, *args, **kwargs):\n",
    "        self.weights_name = CFG.weights_name\n",
    "        self.tokenizer = AutoTokenizer.from_pretrained(self.weights_name)\n",
    "        super().__init__(*args, **kwargs)\n",
    "        self.params += ['weights_name']\n",
    "        self.classes_ = None\n",
    "        self.n_classes_ = 6\n",
    "        \n",
    "    def build_graph(self):\n",
    "        return BertClassifierModule(\n",
    "            self.n_classes_, self.hidden_activation, self.weights_name)\n",
    "\n",
    "    def build_dataset(self, X, y=None):\n",
    "        data = get_batch_token_ids(X, self.tokenizer)\n",
    "        if y is None:\n",
    "            dataset = torch.utils.data.TensorDataset(\n",
    "                data['input_ids'], data['attention_mask'])\n",
    "        else:\n",
    "            self.classes_ = np.unique(y, axis=0)\n",
    "            self.n_classes_ = self.classes_.shape[1]\n",
    "            \n",
    "            y = np.array(y, dtype=np.float32)\n",
    "            y_tensor = torch.tensor(y, dtype=torch.float32)\n",
    "            \n",
    "            dataset = torch.utils.data.TensorDataset(\n",
    "                data['input_ids'], data['attention_mask'], y_tensor)\n",
    "        return dataset"
   ]
  },
  {
   "cell_type": "code",
   "execution_count": 21,
   "id": "75ef6d52",
   "metadata": {
    "execution": {
     "iopub.execute_input": "2024-06-08T18:04:43.582413Z",
     "iopub.status.busy": "2024-06-08T18:04:43.582150Z",
     "iopub.status.idle": "2024-06-08T18:04:43.646437Z",
     "shell.execute_reply": "2024-06-08T18:04:43.645518Z"
    },
    "papermill": {
     "duration": 0.080859,
     "end_time": "2024-06-08T18:04:43.648596",
     "exception": false,
     "start_time": "2024-06-08T18:04:43.567737",
     "status": "completed"
    },
    "tags": []
   },
   "outputs": [],
   "source": [
    "bert_finetune = BertClassifier(\n",
    "    weights_name=CFG.weights_name,\n",
    "    hidden_activation=nn.ReLU(),\n",
    "    hidden_dim=512,\n",
    "    #max_iter=10,\n",
    "    eta=0.00005,          # Low learning rate for effective fine-tuning.\n",
    "    batch_size=32,         # Small batches to avoid memory overload.\n",
    "    gradient_accumulation_steps=4,  # Increase the effective batch size to 32.\n",
    "    early_stopping=True,  # Early-stopping\n",
    "    n_iter_no_change=5)   # params"
   ]
  },
  {
   "cell_type": "code",
   "execution_count": 22,
   "id": "07ba8578",
   "metadata": {
    "execution": {
     "iopub.execute_input": "2024-06-08T18:04:43.678298Z",
     "iopub.status.busy": "2024-06-08T18:04:43.677957Z",
     "iopub.status.idle": "2024-06-08T18:04:43.681995Z",
     "shell.execute_reply": "2024-06-08T18:04:43.681197Z"
    },
    "papermill": {
     "duration": 0.020969,
     "end_time": "2024-06-08T18:04:43.683837",
     "exception": false,
     "start_time": "2024-06-08T18:04:43.662868",
     "status": "completed"
    },
    "tags": []
   },
   "outputs": [],
   "source": [
    "#bert_finetune"
   ]
  },
  {
   "cell_type": "code",
   "execution_count": 23,
   "id": "d8ff2b50",
   "metadata": {
    "execution": {
     "iopub.execute_input": "2024-06-08T18:04:43.712059Z",
     "iopub.status.busy": "2024-06-08T18:04:43.711763Z",
     "iopub.status.idle": "2024-06-08T18:36:06.318068Z",
     "shell.execute_reply": "2024-06-08T18:36:06.317137Z"
    },
    "papermill": {
     "duration": 1882.628473,
     "end_time": "2024-06-08T18:36:06.325843",
     "exception": false,
     "start_time": "2024-06-08T18:04:43.697370",
     "status": "completed"
    },
    "tags": []
   },
   "outputs": [
    {
     "name": "stderr",
     "output_type": "stream",
     "text": [
      "Stopping after epoch 24. Validation score did not improve by tol=1e-05 for more than 5 epochs. Final error is 337.7014716863632"
     ]
    },
    {
     "name": "stdout",
     "output_type": "stream",
     "text": [
      "CPU times: user 32min 25s, sys: 2.65 s, total: 32min 28s\n",
      "Wall time: 31min 22s\n"
     ]
    }
   ],
   "source": [
    "%%time\n",
    "train_labels = train_df.label.tolist() # Extract training labels\n",
    "_ = bert_finetune.fit(train_df['cleaned_full_text'].tolist(),train_labels)"
   ]
  },
  {
   "cell_type": "code",
   "execution_count": 24,
   "id": "efad1f81",
   "metadata": {
    "execution": {
     "iopub.execute_input": "2024-06-08T18:36:06.358564Z",
     "iopub.status.busy": "2024-06-08T18:36:06.358110Z",
     "iopub.status.idle": "2024-06-08T18:36:17.701217Z",
     "shell.execute_reply": "2024-06-08T18:36:17.700411Z"
    },
    "papermill": {
     "duration": 11.362142,
     "end_time": "2024-06-08T18:36:17.703557",
     "exception": false,
     "start_time": "2024-06-08T18:36:06.341415",
     "status": "completed"
    },
    "tags": []
   },
   "outputs": [],
   "source": [
    "preds = bert_finetune.predict(valid_df['cleaned_full_text'].tolist())"
   ]
  },
  {
   "cell_type": "markdown",
   "id": "75bb4cf1",
   "metadata": {
    "papermill": {
     "duration": 0.018505,
     "end_time": "2024-06-08T18:36:17.741160",
     "exception": false,
     "start_time": "2024-06-08T18:36:17.722655",
     "status": "completed"
    },
    "tags": []
   },
   "source": [
    "# 📏 | Metric\n",
    "\n",
    "The metric for this competition is quadratic **Weighted Kappa**. This metric is particularly useful for tasks involving ordinal classification (where labels have inherent order). The following code implements this metric from scratch. This metric is implemented taking inspiration from [this TensorFlow implementation](https://www.tensorflow.org/addons/api_docs/python/tfa/losses/WeightedKappaLoss). You can learn more about this metric [here](https://www.sciencedirect.com/science/article/abs/pii/S0167865517301666). \n",
    "\n",
    "> This metric implementation is a bit different than the competition metric, which was resolved by @taichiuemura in [here](https://www.kaggle.com/code/taichiuemura/aes-2-0-kerasnlp-starter/#%F0%9F%93%8F-%7C-Metric)."
   ]
  },
  {
   "cell_type": "markdown",
   "id": "9e0b8ae3",
   "metadata": {
    "papermill": {
     "duration": 0.017855,
     "end_time": "2024-06-08T18:36:17.776886",
     "exception": false,
     "start_time": "2024-06-08T18:36:17.759031",
     "status": "completed"
    },
    "tags": []
   },
   "source": [
    "## Result Summary"
   ]
  },
  {
   "cell_type": "code",
   "execution_count": 25,
   "id": "0db95c77",
   "metadata": {
    "_kg_hide-input": true,
    "execution": {
     "iopub.execute_input": "2024-06-08T18:36:17.813741Z",
     "iopub.status.busy": "2024-06-08T18:36:17.812865Z",
     "iopub.status.idle": "2024-06-08T18:36:17.836166Z",
     "shell.execute_reply": "2024-06-08T18:36:17.835059Z"
    },
    "papermill": {
     "duration": 0.043519,
     "end_time": "2024-06-08T18:36:17.838254",
     "exception": false,
     "start_time": "2024-06-08T18:36:17.794735",
     "status": "completed"
    },
    "tags": []
   },
   "outputs": [
    {
     "name": "stdout",
     "output_type": "stream",
     "text": [
      "sklearn metric: 0.7371376444221596\n"
     ]
    }
   ],
   "source": [
    "y_true = []\n",
    "y_true.extend(valid_df['label'])\n",
    "y_true = np.array(y_true)\n",
    "preds = np.vstack(preds)\n",
    "print('sklearn metric:', cohen_kappa_score(\n",
    "    np.sum(y_true > 0.5, axis = 1),\n",
    "    np.sum(preds > 0.5, axis = 1),\n",
    "    weights = 'quadratic',\n",
    "))\n"
   ]
  },
  {
   "cell_type": "markdown",
   "id": "0d4d1bb5",
   "metadata": {
    "papermill": {
     "duration": 0.016603,
     "end_time": "2024-06-08T18:36:17.873229",
     "exception": false,
     "start_time": "2024-06-08T18:36:17.856626",
     "status": "completed"
    },
    "tags": []
   },
   "source": [
    "# 🧪 | Testing\n",
    "\n",
    "In this section, we will visually test how our model performs on some samples from the validation data.\n",
    "\n",
    "> Note that we are converting the ordinal regression model outputs with `sum`, unlike a typical classification problem where we would use `argmax`."
   ]
  },
  {
   "cell_type": "code",
   "execution_count": 26,
   "id": "6a75a062",
   "metadata": {
    "_kg_hide-input": true,
    "execution": {
     "iopub.execute_input": "2024-06-08T18:36:17.908765Z",
     "iopub.status.busy": "2024-06-08T18:36:17.908436Z",
     "iopub.status.idle": "2024-06-08T18:36:17.917108Z",
     "shell.execute_reply": "2024-06-08T18:36:17.916048Z"
    },
    "papermill": {
     "duration": 0.030126,
     "end_time": "2024-06-08T18:36:17.919550",
     "exception": false,
     "start_time": "2024-06-08T18:36:17.889424",
     "status": "completed"
    },
    "tags": []
   },
   "outputs": [
    {
     "name": "stdout",
     "output_type": "stream",
     "text": [
      "# Predictions\n",
      "\n",
      "❓ Text 1:\n",
      "I think that Luke should get back in the Seagoing Cowboys program,because then he can see the sea, and he like's to take care of the animals he get's  .... o go back home so he can finsh his two job's and then he could go to collage either way i tink that he was a good guy in the Seagoing Cowboys progarm \n",
      "\n",
      "✅ True: 1\n",
      "\n",
      "🤖 Predicted: 1\n",
      "\n",
      "------------------------------------------------------------------------------------------ \n",
      "\n",
      "❓ Text 2:\n",
      "Have you ever heard of the Seagoing Cowboys program?\n",
      "\n",
      "The Seagoing Cowboys program is a thing alot of people should do. We help out with alot of stuff .... ar 2 and now its your turn to step up and lend a helping hand. This program is possibly the most helpfullest program in the U.S.A.                    \n",
      "\n",
      "✅ True: 3\n",
      "\n",
      "🤖 Predicted: 3\n",
      "\n",
      "------------------------------------------------------------------------------------------ \n",
      "\n",
      "❓ Text 3:\n",
      "I think they should develop the driverless cars, because it would be something new and most likely be safer then normal driving. People say the car co .... ion, the driverless car should be developed. If an accident accurs then it would be the driver's fault unless something goes wrong in the car itself. \n",
      "\n",
      "✅ True: 2\n",
      "\n",
      "🤖 Predicted: 2\n",
      "\n",
      "------------------------------------------------------------------------------------------ \n",
      "\n",
      "❓ Text 4:\n",
      "Driverless cars are no longer just a facination of the human mind. In todays world, more and more people are funding and creating automomous vehicles. .... human behind the wheel. Now, people do not have to try to believe it. They are going to have to accept and understand that it is happening.           \n",
      "\n",
      "✅ True: 4\n",
      "\n",
      "🤖 Predicted: 4\n",
      "\n",
      "------------------------------------------------------------------------------------------ \n",
      "\n",
      "❓ Text 5:\n",
      "Wouldn't it be fantastci if you are just sitting in the driver's seat and listening to music, reading a magazine, or just amusing yourself as your bra .... n the business. For example, using the rotaing sensors makes the car run successfully, vibrating chairs can make the driver not run into accidents.   \n",
      "\n",
      "✅ True: 3\n",
      "\n",
      "🤖 Predicted: 5\n",
      "\n",
      "------------------------------------------------------------------------------------------ \n",
      "\n"
     ]
    }
   ],
   "source": [
    "# Format predictions and true answers\n",
    "pred_scores = np.sum((preds > 0.5).astype(int), axis=-1)\n",
    "true_scores = valid_df.score.values\n",
    "\n",
    "# Check 5 Predictions\n",
    "print(\"# Predictions\\n\")\n",
    "for i in range(5):\n",
    "    row = valid_df.iloc[i]\n",
    "    text = row.full_text\n",
    "    pred_answer = pred_scores[i]\n",
    "    true_answer = true_scores[i]\n",
    "    print(f\"❓ Text {i+1}:\\n{text[:150]} .... {text[-150:]}\\n\")\n",
    "    print(f\"✅ True: {true_answer}\\n\")\n",
    "    print(f\"🤖 Predicted: {pred_answer}\\n\")\n",
    "    print(\"-\" * 90, \"\\n\")\n"
   ]
  },
  {
   "cell_type": "markdown",
   "id": "3513baf7",
   "metadata": {
    "papermill": {
     "duration": 0.015488,
     "end_time": "2024-06-08T18:36:17.951542",
     "exception": false,
     "start_time": "2024-06-08T18:36:17.936054",
     "status": "completed"
    },
    "tags": []
   },
   "source": [
    "# 📬 | Submission\n",
    "\n",
    "In this section, we will infer our model on the test data and then finally prepare the submission file."
   ]
  },
  {
   "cell_type": "markdown",
   "id": "b6a0420a",
   "metadata": {
    "papermill": {
     "duration": 0.015418,
     "end_time": "2024-06-08T18:36:17.982657",
     "exception": false,
     "start_time": "2024-06-08T18:36:17.967239",
     "status": "completed"
    },
    "tags": []
   },
   "source": [
    "## Build Test Dataset"
   ]
  },
  {
   "cell_type": "code",
   "execution_count": 27,
   "id": "12cb8b2c",
   "metadata": {
    "execution": {
     "iopub.execute_input": "2024-06-08T18:36:18.015065Z",
     "iopub.status.busy": "2024-06-08T18:36:18.014752Z",
     "iopub.status.idle": "2024-06-08T18:36:18.041147Z",
     "shell.execute_reply": "2024-06-08T18:36:18.040362Z"
    },
    "papermill": {
     "duration": 0.045032,
     "end_time": "2024-06-08T18:36:18.043250",
     "exception": false,
     "start_time": "2024-06-08T18:36:17.998218",
     "status": "completed"
    },
    "tags": []
   },
   "outputs": [],
   "source": [
    "#Test Data\n",
    "test_df = pd.read_csv(f\"{BASE_PATH}/test.csv\")\n",
    "\n",
    "test_texts = test_df.full_text.fillna(\"\").tolist()  # Extract test texts\n",
    "\n",
    "# Build test dataset\n",
    "test_preds = bert_finetune.predict(test_texts)\n"
   ]
  },
  {
   "cell_type": "markdown",
   "id": "3a99c057",
   "metadata": {
    "papermill": {
     "duration": 0.015925,
     "end_time": "2024-06-08T18:36:18.075545",
     "exception": false,
     "start_time": "2024-06-08T18:36:18.059620",
     "status": "completed"
    },
    "tags": []
   },
   "source": [
    "## Inference on Test Data"
   ]
  },
  {
   "cell_type": "code",
   "execution_count": 28,
   "id": "360f7356",
   "metadata": {
    "execution": {
     "iopub.execute_input": "2024-06-08T18:36:18.109587Z",
     "iopub.status.busy": "2024-06-08T18:36:18.109281Z",
     "iopub.status.idle": "2024-06-08T18:36:18.126805Z",
     "shell.execute_reply": "2024-06-08T18:36:18.126035Z"
    },
    "papermill": {
     "duration": 0.037136,
     "end_time": "2024-06-08T18:36:18.128969",
     "exception": false,
     "start_time": "2024-06-08T18:36:18.091833",
     "status": "completed"
    },
    "tags": []
   },
   "outputs": [],
   "source": [
    "# Do inference\n",
    "test_preds = bert_finetune.predict(test_texts)\n",
    "test_preds = np.vstack(test_preds)\n",
    "# Convert probabilities to class labels\n",
    "test_preds = np.sum((test_preds>0.5).astype(int), axis=-1).clip(1, 6)"
   ]
  },
  {
   "cell_type": "markdown",
   "id": "d122ed78",
   "metadata": {
    "papermill": {
     "duration": 0.015909,
     "end_time": "2024-06-08T18:36:18.161279",
     "exception": false,
     "start_time": "2024-06-08T18:36:18.145370",
     "status": "completed"
    },
    "tags": []
   },
   "source": [
    "## Create Submission File"
   ]
  },
  {
   "cell_type": "code",
   "execution_count": 29,
   "id": "db097be4",
   "metadata": {
    "execution": {
     "iopub.execute_input": "2024-06-08T18:36:18.194366Z",
     "iopub.status.busy": "2024-06-08T18:36:18.193650Z",
     "iopub.status.idle": "2024-06-08T18:36:18.209483Z",
     "shell.execute_reply": "2024-06-08T18:36:18.208640Z"
    },
    "papermill": {
     "duration": 0.034345,
     "end_time": "2024-06-08T18:36:18.211503",
     "exception": false,
     "start_time": "2024-06-08T18:36:18.177158",
     "status": "completed"
    },
    "tags": []
   },
   "outputs": [
    {
     "data": {
      "text/html": [
       "<div>\n",
       "<style scoped>\n",
       "    .dataframe tbody tr th:only-of-type {\n",
       "        vertical-align: middle;\n",
       "    }\n",
       "\n",
       "    .dataframe tbody tr th {\n",
       "        vertical-align: top;\n",
       "    }\n",
       "\n",
       "    .dataframe thead th {\n",
       "        text-align: right;\n",
       "    }\n",
       "</style>\n",
       "<table border=\"1\" class=\"dataframe\">\n",
       "  <thead>\n",
       "    <tr style=\"text-align: right;\">\n",
       "      <th></th>\n",
       "      <th>essay_id</th>\n",
       "      <th>score</th>\n",
       "    </tr>\n",
       "  </thead>\n",
       "  <tbody>\n",
       "    <tr>\n",
       "      <th>0</th>\n",
       "      <td>000d118</td>\n",
       "      <td>2</td>\n",
       "    </tr>\n",
       "    <tr>\n",
       "      <th>1</th>\n",
       "      <td>000fe60</td>\n",
       "      <td>3</td>\n",
       "    </tr>\n",
       "    <tr>\n",
       "      <th>2</th>\n",
       "      <td>001ab80</td>\n",
       "      <td>4</td>\n",
       "    </tr>\n",
       "  </tbody>\n",
       "</table>\n",
       "</div>"
      ],
      "text/plain": [
       "  essay_id  score\n",
       "0  000d118      2\n",
       "1  000fe60      3\n",
       "2  001ab80      4"
      ]
     },
     "execution_count": 29,
     "metadata": {},
     "output_type": "execute_result"
    }
   ],
   "source": [
    "# Create a DataFrame to store the submission\n",
    "sub_df = test_df[[\"essay_id\"]].copy()\n",
    "\n",
    "# Add the formatted predictions to the submission DataFrame\n",
    "sub_df[\"score\"] = test_preds\n",
    "\n",
    "# Save Submission\n",
    "sub_df.to_csv('submission.csv',index=False)\n",
    "\n",
    "# Display the first 2 rows of the submission DataFrame\n",
    "sub_df.head()"
   ]
  }
 ],
 "metadata": {
  "kaggle": {
   "accelerator": "nvidiaTeslaT4",
   "dataSources": [
    {
     "databundleVersionId": 8059942,
     "sourceId": 71485,
     "sourceType": "competition"
    },
    {
     "datasetId": 4294430,
     "sourceId": 7388005,
     "sourceType": "datasetVersion"
    },
    {
     "datasetId": 5044393,
     "sourceId": 8461984,
     "sourceType": "datasetVersion"
    },
    {
     "isSourceIdPinned": true,
     "modelInstanceId": 40982,
     "sourceId": 49047,
     "sourceType": "modelInstanceVersion"
    }
   ],
   "dockerImageVersionId": 30674,
   "isGpuEnabled": true,
   "isInternetEnabled": false,
   "language": "python",
   "sourceType": "notebook"
  },
  "kernelspec": {
   "display_name": "Python 3",
   "language": "python",
   "name": "python3"
  },
  "language_info": {
   "codemirror_mode": {
    "name": "ipython",
    "version": 3
   },
   "file_extension": ".py",
   "mimetype": "text/x-python",
   "name": "python",
   "nbconvert_exporter": "python",
   "pygments_lexer": "ipython3",
   "version": "3.10.13"
  },
  "papermill": {
   "default_parameters": {},
   "duration": 1915.205428,
   "end_time": "2024-06-08T18:36:20.874449",
   "environment_variables": {},
   "exception": null,
   "input_path": "__notebook__.ipynb",
   "output_path": "__notebook__.ipynb",
   "parameters": {},
   "start_time": "2024-06-08T18:04:25.669021",
   "version": "2.5.0"
  }
 },
 "nbformat": 4,
 "nbformat_minor": 5
}
